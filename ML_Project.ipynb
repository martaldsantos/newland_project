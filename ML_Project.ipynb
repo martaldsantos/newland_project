{
  "nbformat": 4,
  "nbformat_minor": 0,
  "metadata": {
    "kernelspec": {
      "display_name": "Python 3",
      "language": "python",
      "name": "python3"
    },
    "language_info": {
      "codemirror_mode": {
        "name": "ipython",
        "version": 3
      },
      "file_extension": ".py",
      "mimetype": "text/x-python",
      "name": "python",
      "nbconvert_exporter": "python",
      "pygments_lexer": "ipython3",
      "version": "3.8.3"
    },
    "nbTranslate": {
      "displayLangs": [
        "*"
      ],
      "hotkey": "alt-t",
      "langInMainMenu": true,
      "sourceLang": "en",
      "targetLang": "fr",
      "useGoogleTranslate": true
    },
    "toc": {
      "base_numbering": 1,
      "nav_menu": {},
      "number_sections": true,
      "sideBar": true,
      "skip_h1_title": false,
      "title_cell": "Table of Contents",
      "title_sidebar": "Contents",
      "toc_cell": false,
      "toc_position": {},
      "toc_section_display": true,
      "toc_window_display": false
    },
    "varInspector": {
      "cols": {
        "lenName": 16,
        "lenType": 16,
        "lenVar": 40
      },
      "kernels_config": {
        "python": {
          "delete_cmd_postfix": "",
          "delete_cmd_prefix": "del ",
          "library": "var_list.py",
          "varRefreshCmd": "print(var_dic_list())"
        },
        "r": {
          "delete_cmd_postfix": ") ",
          "delete_cmd_prefix": "rm(",
          "library": "var_list.r",
          "varRefreshCmd": "cat(var_dic_list()) "
        }
      },
      "types_to_exclude": [
        "module",
        "function",
        "builtin_function_or_method",
        "instance",
        "_Feature"
      ],
      "window_display": false
    },
    "colab": {
      "name": "ML_Project.ipynb",
      "provenance": []
    }
  },
  "cells": [
    {
      "cell_type": "markdown",
      "metadata": {
        "id": "4RtChpBIwnLQ"
      },
      "source": [
        "# **Initial Steps**"
      ]
    },
    {
      "cell_type": "code",
      "metadata": {
        "id": "ZZshs59W4FQR"
      },
      "source": [
        "from pydrive.auth import GoogleAuth\n",
        "from pydrive.drive import GoogleDrive\n",
        "from google.colab import auth\n",
        "from oauth2client.client import GoogleCredentials\n",
        "\n",
        "auth.authenticate_user()\n",
        "gauth = GoogleAuth()\n",
        "gauth.credentials = GoogleCredentials.get_application_default()\n",
        "drive = GoogleDrive(gauth)\n",
        "\n",
        "downloaded = drive.CreateFile({'id':\"10TVpC4_CV-h4o2U3P7KjGdvbsiuFFnkN\"})   # replace the id with id of file you want to access\n",
        "downloaded.GetContentFile('Train.xlsx')"
      ],
      "execution_count": 1,
      "outputs": []
    },
    {
      "cell_type": "markdown",
      "metadata": {
        "heading_collapsed": true,
        "hidden": true,
        "id": "U-78uRpS3VJn"
      },
      "source": [
        "### Libraries, Packages and others"
      ]
    },
    {
      "cell_type": "code",
      "metadata": {
        "colab": {
          "base_uri": "https://localhost:8080/"
        },
        "id": "-h_iFQoV6dAa",
        "outputId": "8204dc82-d566-4c82-f05a-2fbf3c2aca36"
      },
      "source": [
        "pip install category_encoders"
      ],
      "execution_count": 5,
      "outputs": [
        {
          "output_type": "stream",
          "text": [
            "Collecting category_encoders\n",
            "\u001b[?25l  Downloading https://files.pythonhosted.org/packages/44/57/fcef41c248701ee62e8325026b90c432adea35555cbc870aff9cfba23727/category_encoders-2.2.2-py2.py3-none-any.whl (80kB)\n",
            "\r\u001b[K     |████                            | 10kB 15.1MB/s eta 0:00:01\r\u001b[K     |████████▏                       | 20kB 10.8MB/s eta 0:00:01\r\u001b[K     |████████████▏                   | 30kB 8.0MB/s eta 0:00:01\r\u001b[K     |████████████████▎               | 40kB 7.2MB/s eta 0:00:01\r\u001b[K     |████████████████████▎           | 51kB 4.4MB/s eta 0:00:01\r\u001b[K     |████████████████████████▍       | 61kB 5.0MB/s eta 0:00:01\r\u001b[K     |████████████████████████████▍   | 71kB 5.0MB/s eta 0:00:01\r\u001b[K     |████████████████████████████████| 81kB 3.7MB/s \n",
            "\u001b[?25hRequirement already satisfied: scikit-learn>=0.20.0 in /usr/local/lib/python3.6/dist-packages (from category_encoders) (0.22.2.post1)\n",
            "Requirement already satisfied: numpy>=1.14.0 in /usr/local/lib/python3.6/dist-packages (from category_encoders) (1.18.5)\n",
            "Requirement already satisfied: patsy>=0.5.1 in /usr/local/lib/python3.6/dist-packages (from category_encoders) (0.5.1)\n",
            "Requirement already satisfied: statsmodels>=0.9.0 in /usr/local/lib/python3.6/dist-packages (from category_encoders) (0.10.2)\n",
            "Requirement already satisfied: scipy>=1.0.0 in /usr/local/lib/python3.6/dist-packages (from category_encoders) (1.4.1)\n",
            "Requirement already satisfied: pandas>=0.21.1 in /usr/local/lib/python3.6/dist-packages (from category_encoders) (1.1.4)\n",
            "Requirement already satisfied: joblib>=0.11 in /usr/local/lib/python3.6/dist-packages (from scikit-learn>=0.20.0->category_encoders) (0.17.0)\n",
            "Requirement already satisfied: six in /usr/local/lib/python3.6/dist-packages (from patsy>=0.5.1->category_encoders) (1.15.0)\n",
            "Requirement already satisfied: pytz>=2017.2 in /usr/local/lib/python3.6/dist-packages (from pandas>=0.21.1->category_encoders) (2018.9)\n",
            "Requirement already satisfied: python-dateutil>=2.7.3 in /usr/local/lib/python3.6/dist-packages (from pandas>=0.21.1->category_encoders) (2.8.1)\n",
            "Installing collected packages: category-encoders\n",
            "Successfully installed category-encoders-2.2.2\n"
          ],
          "name": "stdout"
        }
      ]
    },
    {
      "cell_type": "code",
      "metadata": {
        "ExecuteTime": {
          "end_time": "2020-11-24T12:03:25.820833Z",
          "start_time": "2020-11-24T12:03:25.790560Z"
        },
        "hidden": true,
        "id": "IuGGg6SC3VJn"
      },
      "source": [
        "import pandas as pd\n",
        "import datetime\n",
        "import numpy as np\n",
        "import scipy as sc\n",
        "import pandas as pd\n",
        "import matplotlib.pyplot as plt\n",
        "from matplotlib import style\n",
        "import seaborn as sns\n",
        "from math import ceil\n",
        "from pandas_profiling import ProfileReport\n",
        "import scipy.cluster.hierarchy as shc\n",
        "from sklearn import datasets\n",
        "from sklearn.feature_selection import VarianceThreshold\n",
        "from sklearn.preprocessing import OneHotEncoder\n",
        "from sklearn.impute import KNNImputer\n",
        "import category_encoders as ce\n",
        "from sklearn.model_selection import train_test_split\n",
        "\n",
        "\n",
        "\n",
        "\n",
        "# for better resolution plots\n",
        "%config InlineBackend.figure_format = 'retina' # optionally, you can change 'svg' to 'retina'\n",
        "\n",
        "\n",
        "import warnings\n",
        "warnings.filterwarnings(\"ignore\")"
      ],
      "execution_count": 180,
      "outputs": []
    },
    {
      "cell_type": "markdown",
      "metadata": {
        "heading_collapsed": true,
        "hidden": true,
        "id": "LfZNC8kO3VJn"
      },
      "source": [
        "###Functions "
      ]
    },
    {
      "cell_type": "code",
      "metadata": {
        "ExecuteTime": {
          "end_time": "2020-11-24T12:21:27.252985Z",
          "start_time": "2020-11-24T12:21:27.232206Z"
        },
        "hidden": true,
        "id": "oMCQQSU_3VJn"
      },
      "source": [
        "def birthday_to_age(df, column, new_column):\n",
        "    '''\n",
        "    This function creates a column representing the difference in years from a given birth year column values\n",
        "    Having into account that we are on the year 2048\n",
        "    '''\n",
        "    \n",
        "    df[new_column] = df[column].map(lambda x : 2048 - x)\n",
        "    \n",
        "def questionmark_to_nan(df, column):\n",
        "    '''\n",
        "    This function turns a binary variable with missing values as '?' in NaN\n",
        "    It needs as input the dataframe and the column name \n",
        "    (column name needs to be between '')\n",
        "    '''\n",
        "    df[column] = df[column].map(lambda x: np.nan if x == '?' else x)\n",
        "    \n",
        "def ohe(df, column_list):\n",
        "    ohc = OneHotEncoder(sparse = False)\n",
        "    ohc_feat = ohc.fit_transform(df[column_list])\n",
        "    ohc_feat_names = ohc.get_feature_names()\n",
        "    ohc_df = pd.DataFrame(ohc_feat, index = df.index, columns = ohc_feat_names)\n",
        "    return ohc_df\n",
        "\n",
        "def hist_box_maker(df,titl, num_of_rows, figx, figy):\n",
        "    \n",
        "    fig, axes = plt.subplots(num_of_rows, ceil((len(df.columns)*2)/num_of_rows), figsize=(figx, figy))\n",
        "    temp = (list(df.columns)*2)\n",
        "    temp.sort()\n",
        "    # Plot data\n",
        "    # Iterate across axes objects and associate each histogram (hint: use the ax.hist() instead of plt.hist()):\n",
        "    i = 0 \n",
        "    for ax, feat in zip(axes.flatten(), temp):\n",
        "        \n",
        "        if i%2 == 0:\n",
        "            ax.hist(df[feat], bins = 50)\n",
        "            ax.set_title(feat, y=-0.13)\n",
        "            pltiswork=feat\n",
        "            \n",
        "        else:\n",
        "            sns.boxplot(x=df[pltiswork], ax = ax)\n",
        "        \n",
        "        i+=1\n",
        "            \n",
        "    # Layout\n",
        "    # Add a centered title to the figure:\n",
        "    title = titl\n",
        "\n",
        "    plt.suptitle(title)\n",
        "\n",
        "    plt.show()# All Numer"
      ],
      "execution_count": 182,
      "outputs": []
    },
    {
      "cell_type": "markdown",
      "metadata": {
        "heading_collapsed": true,
        "id": "B1Ka7i_z3VJn"
      },
      "source": [
        "### Import data"
      ]
    },
    {
      "cell_type": "code",
      "metadata": {
        "ExecuteTime": {
          "end_time": "2020-11-24T11:15:28.920836Z",
          "start_time": "2020-11-24T11:15:25.167658Z"
        },
        "hidden": true,
        "id": "oe2aTIuy3VJo"
      },
      "source": [
        "train = pd.read_excel(\"Train.xlsx\")"
      ],
      "execution_count": 105,
      "outputs": []
    },
    {
      "cell_type": "markdown",
      "metadata": {
        "heading_collapsed": true,
        "id": "CJIExRy53VJo"
      },
      "source": [
        "# **Data Inspection**"
      ]
    },
    {
      "cell_type": "code",
      "metadata": {
        "hidden": true,
        "colab": {
          "base_uri": "https://localhost:8080/",
          "height": 0
        },
        "id": "XwTqAtDG3VJo",
        "outputId": "c69b7176-d255-4b9a-88c0-4a5fbe1363da"
      },
      "source": [
        "train.head() #Data was imported correctly"
      ],
      "execution_count": 106,
      "outputs": [
        {
          "output_type": "execute_result",
          "data": {
            "text/html": [
              "<div>\n",
              "<style scoped>\n",
              "    .dataframe tbody tr th:only-of-type {\n",
              "        vertical-align: middle;\n",
              "    }\n",
              "\n",
              "    .dataframe tbody tr th {\n",
              "        vertical-align: top;\n",
              "    }\n",
              "\n",
              "    .dataframe thead th {\n",
              "        text-align: right;\n",
              "    }\n",
              "</style>\n",
              "<table border=\"1\" class=\"dataframe\">\n",
              "  <thead>\n",
              "    <tr style=\"text-align: right;\">\n",
              "      <th></th>\n",
              "      <th>CITIZEN_ID</th>\n",
              "      <th>Name</th>\n",
              "      <th>Birthday</th>\n",
              "      <th>Native Continent</th>\n",
              "      <th>Marital Status</th>\n",
              "      <th>Lives with</th>\n",
              "      <th>Base Area</th>\n",
              "      <th>Education Level</th>\n",
              "      <th>Years of Education</th>\n",
              "      <th>Employment Sector</th>\n",
              "      <th>Role</th>\n",
              "      <th>Working Hours per week</th>\n",
              "      <th>Money Received</th>\n",
              "      <th>Ticket Price</th>\n",
              "      <th>Income</th>\n",
              "    </tr>\n",
              "  </thead>\n",
              "  <tbody>\n",
              "    <tr>\n",
              "      <th>0</th>\n",
              "      <td>12486</td>\n",
              "      <td>Mr. Adam Glover</td>\n",
              "      <td>July 1,2003</td>\n",
              "      <td>Europe</td>\n",
              "      <td>Married</td>\n",
              "      <td>Wife</td>\n",
              "      <td>Northbury</td>\n",
              "      <td>High School + PostGraduation</td>\n",
              "      <td>13</td>\n",
              "      <td>Private Sector - Services</td>\n",
              "      <td>Repair &amp; constructions</td>\n",
              "      <td>40</td>\n",
              "      <td>0</td>\n",
              "      <td>2273</td>\n",
              "      <td>1</td>\n",
              "    </tr>\n",
              "    <tr>\n",
              "      <th>1</th>\n",
              "      <td>12487</td>\n",
              "      <td>Mr. Cameron McDonald</td>\n",
              "      <td>January 25,2006</td>\n",
              "      <td>Europe</td>\n",
              "      <td>Married</td>\n",
              "      <td>Wife</td>\n",
              "      <td>Northbury</td>\n",
              "      <td>Professional School</td>\n",
              "      <td>12</td>\n",
              "      <td>Public Sector - Others</td>\n",
              "      <td>Repair &amp; constructions</td>\n",
              "      <td>40</td>\n",
              "      <td>0</td>\n",
              "      <td>0</td>\n",
              "      <td>1</td>\n",
              "    </tr>\n",
              "    <tr>\n",
              "      <th>2</th>\n",
              "      <td>12488</td>\n",
              "      <td>Mr. Keith Davidson</td>\n",
              "      <td>May 10,2009</td>\n",
              "      <td>Europe</td>\n",
              "      <td>Married</td>\n",
              "      <td>Wife</td>\n",
              "      <td>Northbury</td>\n",
              "      <td>Professional School</td>\n",
              "      <td>12</td>\n",
              "      <td>Private Sector - Services</td>\n",
              "      <td>Sales</td>\n",
              "      <td>46</td>\n",
              "      <td>0</td>\n",
              "      <td>2321</td>\n",
              "      <td>1</td>\n",
              "    </tr>\n",
              "    <tr>\n",
              "      <th>3</th>\n",
              "      <td>12489</td>\n",
              "      <td>Mr. Alexander Gill</td>\n",
              "      <td>March 25,1985</td>\n",
              "      <td>Europe</td>\n",
              "      <td>Married</td>\n",
              "      <td>Wife</td>\n",
              "      <td>Northbury</td>\n",
              "      <td>High School - 2nd Cycle</td>\n",
              "      <td>11</td>\n",
              "      <td>Private Sector - Services</td>\n",
              "      <td>Security</td>\n",
              "      <td>37</td>\n",
              "      <td>5395</td>\n",
              "      <td>0</td>\n",
              "      <td>1</td>\n",
              "    </tr>\n",
              "    <tr>\n",
              "      <th>4</th>\n",
              "      <td>12490</td>\n",
              "      <td>Mr. Neil Piper</td>\n",
              "      <td>May 29,2015</td>\n",
              "      <td>Europe</td>\n",
              "      <td>Single</td>\n",
              "      <td>Other Family</td>\n",
              "      <td>Northbury</td>\n",
              "      <td>PhD</td>\n",
              "      <td>21</td>\n",
              "      <td>Self-Employed (Individual)</td>\n",
              "      <td>Professor</td>\n",
              "      <td>45</td>\n",
              "      <td>0</td>\n",
              "      <td>0</td>\n",
              "      <td>1</td>\n",
              "    </tr>\n",
              "  </tbody>\n",
              "</table>\n",
              "</div>"
            ],
            "text/plain": [
              "   CITIZEN_ID                  Name  ... Ticket Price Income\n",
              "0       12486       Mr. Adam Glover  ...         2273      1\n",
              "1       12487  Mr. Cameron McDonald  ...            0      1\n",
              "2       12488    Mr. Keith Davidson  ...         2321      1\n",
              "3       12489    Mr. Alexander Gill  ...            0      1\n",
              "4       12490        Mr. Neil Piper  ...            0      1\n",
              "\n",
              "[5 rows x 15 columns]"
            ]
          },
          "metadata": {
            "tags": []
          },
          "execution_count": 106
        }
      ]
    },
    {
      "cell_type": "code",
      "metadata": {
        "ExecuteTime": {
          "end_time": "2020-11-24T12:34:30.474435Z",
          "start_time": "2020-11-24T12:34:30.430256Z"
        },
        "hidden": true,
        "scrolled": true,
        "colab": {
          "base_uri": "https://localhost:8080/"
        },
        "id": "rP-zf8Cf3VJp",
        "outputId": "13a60ffa-84d3-403a-b773-2a588e20a0c7"
      },
      "source": [
        " #No column seems to have, for now, a wrong dtype, except Birthday\n",
        "train.dtypes"
      ],
      "execution_count": 107,
      "outputs": [
        {
          "output_type": "execute_result",
          "data": {
            "text/plain": [
              "CITIZEN_ID                 int64\n",
              "Name                      object\n",
              "Birthday                  object\n",
              "Native Continent          object\n",
              "Marital Status            object\n",
              "Lives with                object\n",
              "Base Area                 object\n",
              "Education Level           object\n",
              "Years of Education         int64\n",
              "Employment Sector         object\n",
              "Role                      object\n",
              "Working Hours per week     int64\n",
              "Money Received             int64\n",
              "Ticket Price               int64\n",
              "Income                     int64\n",
              "dtype: object"
            ]
          },
          "metadata": {
            "tags": []
          },
          "execution_count": 107
        }
      ]
    },
    {
      "cell_type": "code",
      "metadata": {
        "colab": {
          "base_uri": "https://localhost:8080/",
          "height": 0
        },
        "id": "zcY0LrLD6I5a",
        "outputId": "261e6d33-3548-4b9d-cb4c-da1fe658dc32"
      },
      "source": [
        "train.describe()"
      ],
      "execution_count": 108,
      "outputs": [
        {
          "output_type": "execute_result",
          "data": {
            "text/html": [
              "<div>\n",
              "<style scoped>\n",
              "    .dataframe tbody tr th:only-of-type {\n",
              "        vertical-align: middle;\n",
              "    }\n",
              "\n",
              "    .dataframe tbody tr th {\n",
              "        vertical-align: top;\n",
              "    }\n",
              "\n",
              "    .dataframe thead th {\n",
              "        text-align: right;\n",
              "    }\n",
              "</style>\n",
              "<table border=\"1\" class=\"dataframe\">\n",
              "  <thead>\n",
              "    <tr style=\"text-align: right;\">\n",
              "      <th></th>\n",
              "      <th>CITIZEN_ID</th>\n",
              "      <th>Years of Education</th>\n",
              "      <th>Working Hours per week</th>\n",
              "      <th>Money Received</th>\n",
              "      <th>Ticket Price</th>\n",
              "      <th>Income</th>\n",
              "    </tr>\n",
              "  </thead>\n",
              "  <tbody>\n",
              "    <tr>\n",
              "      <th>count</th>\n",
              "      <td>22400.000000</td>\n",
              "      <td>22400.000000</td>\n",
              "      <td>22400.000000</td>\n",
              "      <td>22400.000000</td>\n",
              "      <td>22400.000000</td>\n",
              "      <td>22400.000000</td>\n",
              "    </tr>\n",
              "    <tr>\n",
              "      <th>mean</th>\n",
              "      <td>23685.500000</td>\n",
              "      <td>13.173884</td>\n",
              "      <td>40.483795</td>\n",
              "      <td>1324.915357</td>\n",
              "      <td>109.145313</td>\n",
              "      <td>0.237098</td>\n",
              "    </tr>\n",
              "    <tr>\n",
              "      <th>std</th>\n",
              "      <td>6466.467351</td>\n",
              "      <td>2.512451</td>\n",
              "      <td>12.370921</td>\n",
              "      <td>9227.771813</td>\n",
              "      <td>500.208904</td>\n",
              "      <td>0.425313</td>\n",
              "    </tr>\n",
              "    <tr>\n",
              "      <th>min</th>\n",
              "      <td>12486.000000</td>\n",
              "      <td>2.000000</td>\n",
              "      <td>1.000000</td>\n",
              "      <td>0.000000</td>\n",
              "      <td>0.000000</td>\n",
              "      <td>0.000000</td>\n",
              "    </tr>\n",
              "    <tr>\n",
              "      <th>25%</th>\n",
              "      <td>18085.750000</td>\n",
              "      <td>12.000000</td>\n",
              "      <td>40.000000</td>\n",
              "      <td>0.000000</td>\n",
              "      <td>0.000000</td>\n",
              "      <td>0.000000</td>\n",
              "    </tr>\n",
              "    <tr>\n",
              "      <th>50%</th>\n",
              "      <td>23685.500000</td>\n",
              "      <td>13.000000</td>\n",
              "      <td>40.000000</td>\n",
              "      <td>0.000000</td>\n",
              "      <td>0.000000</td>\n",
              "      <td>0.000000</td>\n",
              "    </tr>\n",
              "    <tr>\n",
              "      <th>75%</th>\n",
              "      <td>29285.250000</td>\n",
              "      <td>15.000000</td>\n",
              "      <td>45.000000</td>\n",
              "      <td>0.000000</td>\n",
              "      <td>0.000000</td>\n",
              "      <td>0.000000</td>\n",
              "    </tr>\n",
              "    <tr>\n",
              "      <th>max</th>\n",
              "      <td>34885.000000</td>\n",
              "      <td>21.000000</td>\n",
              "      <td>99.000000</td>\n",
              "      <td>122999.000000</td>\n",
              "      <td>5358.000000</td>\n",
              "      <td>1.000000</td>\n",
              "    </tr>\n",
              "  </tbody>\n",
              "</table>\n",
              "</div>"
            ],
            "text/plain": [
              "         CITIZEN_ID  Years of Education  ...  Ticket Price        Income\n",
              "count  22400.000000        22400.000000  ...  22400.000000  22400.000000\n",
              "mean   23685.500000           13.173884  ...    109.145313      0.237098\n",
              "std     6466.467351            2.512451  ...    500.208904      0.425313\n",
              "min    12486.000000            2.000000  ...      0.000000      0.000000\n",
              "25%    18085.750000           12.000000  ...      0.000000      0.000000\n",
              "50%    23685.500000           13.000000  ...      0.000000      0.000000\n",
              "75%    29285.250000           15.000000  ...      0.000000      0.000000\n",
              "max    34885.000000           21.000000  ...   5358.000000      1.000000\n",
              "\n",
              "[8 rows x 6 columns]"
            ]
          },
          "metadata": {
            "tags": []
          },
          "execution_count": 108
        }
      ]
    },
    {
      "cell_type": "code",
      "metadata": {
        "hidden": true,
        "colab": {
          "base_uri": "https://localhost:8080/"
        },
        "id": "yaL7-l6V3VJp",
        "outputId": "1d721c23-7f27-4b9c-eb58-e8adede97a35"
      },
      "source": [
        "train.isna().sum() #No \"immediate\" missing values"
      ],
      "execution_count": 109,
      "outputs": [
        {
          "output_type": "execute_result",
          "data": {
            "text/plain": [
              "CITIZEN_ID                0\n",
              "Name                      0\n",
              "Birthday                  0\n",
              "Native Continent          0\n",
              "Marital Status            0\n",
              "Lives with                0\n",
              "Base Area                 0\n",
              "Education Level           0\n",
              "Years of Education        0\n",
              "Employment Sector         0\n",
              "Role                      0\n",
              "Working Hours per week    0\n",
              "Money Received            0\n",
              "Ticket Price              0\n",
              "Income                    0\n",
              "dtype: int64"
            ]
          },
          "metadata": {
            "tags": []
          },
          "execution_count": 109
        }
      ]
    },
    {
      "cell_type": "markdown",
      "metadata": {
        "heading_collapsed": true,
        "id": "1vJQ4A6F3VJq"
      },
      "source": [
        "### Data Treatment\n"
      ]
    },
    {
      "cell_type": "markdown",
      "metadata": {
        "heading_collapsed": true,
        "hidden": true,
        "id": "Fr_OG5wj3VJq"
      },
      "source": [
        "#### Categorical Variables Treatment"
      ]
    },
    {
      "cell_type": "markdown",
      "metadata": {
        "hidden": true,
        "id": "4UnnTZXI3VJq"
      },
      "source": [
        "Lets start to treat the object type variables.\n",
        "\n",
        "Remember that no variables seemed to show missing values."
      ]
    },
    {
      "cell_type": "code",
      "metadata": {
        "id": "QTsjxYLAZ62V"
      },
      "source": [
        "for i in [\"Name\", \"Native Continent\", \"Marital Status\", \"Lives with\", \"Base Area\", \"Education Level\", \"Employment Sector\", \"Role\"]:\n",
        "  train[i] = train[i].astype(\"str\")"
      ],
      "execution_count": 110,
      "outputs": []
    },
    {
      "cell_type": "code",
      "metadata": {
        "colab": {
          "base_uri": "https://localhost:8080/"
        },
        "id": "xY1b3qF2F0RJ",
        "outputId": "050c7408-b214-439b-9816-0aab9a323187"
      },
      "source": [
        "train.dtypes"
      ],
      "execution_count": 111,
      "outputs": [
        {
          "output_type": "execute_result",
          "data": {
            "text/plain": [
              "CITIZEN_ID                 int64\n",
              "Name                      object\n",
              "Birthday                  object\n",
              "Native Continent          object\n",
              "Marital Status            object\n",
              "Lives with                object\n",
              "Base Area                 object\n",
              "Education Level           object\n",
              "Years of Education         int64\n",
              "Employment Sector         object\n",
              "Role                      object\n",
              "Working Hours per week     int64\n",
              "Money Received             int64\n",
              "Ticket Price               int64\n",
              "Income                     int64\n",
              "dtype: object"
            ]
          },
          "metadata": {
            "tags": []
          },
          "execution_count": 111
        }
      ]
    },
    {
      "cell_type": "code",
      "metadata": {
        "ExecuteTime": {
          "end_time": "2020-11-24T11:17:37.475714Z",
          "start_time": "2020-11-24T11:17:37.462241Z"
        },
        "hidden": true,
        "colab": {
          "base_uri": "https://localhost:8080/"
        },
        "id": "mJ7vYYfQ3VJq",
        "outputId": "61f6f90e-bc3a-4363-94fb-c09fc5bc1a8d"
      },
      "source": [
        "#All seems fine.\n",
        "#However in order to use Native Continent on our models we will need to later perform one hot encoding.\n",
        "#We can't use label encoding since the categories aren't ordered and we would be inducing orders or hierarchies were they don't exist.\n",
        "train['Native Continent'].value_counts()"
      ],
      "execution_count": 112,
      "outputs": [
        {
          "output_type": "execute_result",
          "data": {
            "text/plain": [
              "Europe     19111\n",
              "Africa      2187\n",
              "Asia         699\n",
              "America      219\n",
              "Oceania      184\n",
              "Name: Native Continent, dtype: int64"
            ]
          },
          "metadata": {
            "tags": []
          },
          "execution_count": 112
        }
      ]
    },
    {
      "cell_type": "code",
      "metadata": {
        "ExecuteTime": {
          "end_time": "2020-11-24T11:17:56.362760Z",
          "start_time": "2020-11-24T11:17:56.353820Z"
        },
        "hidden": true,
        "colab": {
          "base_uri": "https://localhost:8080/"
        },
        "id": "R_XuC6MQ3VJq",
        "outputId": "4b49f571-e1c8-4194-f083-7f0ecdd6f787"
      },
      "source": [
        "#This values can be turned into binary variables which describe if the person is married, not married (anymore), or never married.\n",
        "#This will allow us to have a better significance in our resuls (meaning, not a huge amount of 0s in binary variables), which we would\n",
        "#have if we proceed to make one hot encoding right now. \n",
        "#We will make this change later in the feature engineering step.\n",
        "train['Marital Status'].value_counts()"
      ],
      "execution_count": 113,
      "outputs": [
        {
          "output_type": "execute_result",
          "data": {
            "text/plain": [
              "Married                         10219\n",
              "Single                           7416\n",
              "Divorced                         3072\n",
              "Separated                         699\n",
              "Widow                             696\n",
              "Married - Spouse Missing          284\n",
              "Married - Spouse in the Army       14\n",
              "Name: Marital Status, dtype: int64"
            ]
          },
          "metadata": {
            "tags": []
          },
          "execution_count": 113
        }
      ]
    },
    {
      "cell_type": "code",
      "metadata": {
        "hidden": true,
        "colab": {
          "base_uri": "https://localhost:8080/"
        },
        "id": "E6gaQI393VJr",
        "outputId": "f6311824-5be2-4f1b-81b4-f3ce7dd5be6d"
      },
      "source": [
        "#This values can be turned into binary variables. For being able to do so, we will primarily turn the values \"Husband\" and \"Wife\" in \"Spouse\" and \"Other Family\"\n",
        "#and \"Other relatives\" in only 1 value as they seem to have the same meaning.\n",
        "#We will make this change later in the feature engineering step.\n",
        "train['Lives with'].value_counts()"
      ],
      "execution_count": 114,
      "outputs": [
        {
          "output_type": "execute_result",
          "data": {
            "text/plain": [
              "Wife               9012\n",
              "Other Family       5777\n",
              "Children           3519\n",
              "Alone              2362\n",
              "Husband            1049\n",
              "Other relatives     681\n",
              "Name: Lives with, dtype: int64"
            ]
          },
          "metadata": {
            "tags": []
          },
          "execution_count": 114
        }
      ]
    },
    {
      "cell_type": "code",
      "metadata": {
        "ExecuteTime": {
          "end_time": "2020-11-24T11:18:50.008124Z",
          "start_time": "2020-11-24T11:18:49.980502Z"
        },
        "hidden": true,
        "colab": {
          "base_uri": "https://localhost:8080/"
        },
        "id": "YjN_pMxi3VJr",
        "outputId": "0bdce481-a66f-40e0-ff92-ef1a22a49a5d"
      },
      "source": [
        "#We have '?' values, wich are clearly missing values, so we have to turn them into ones\n",
        "#With the high number of missing values, we will probably need to use techniques to fill missing values, for example, the KNN\n",
        "#We also believe we cannot make one hot encoding in this variable otherwise we would create too many variables and they would loose their significance\n",
        "#However, it is important to highlight that we have a lot of observations with the value Northbury, which means that if we have to make only a binary column\n",
        "#with this variable it will have a good representation on the dataset.\n",
        "train['Base Area'].value_counts() "
      ],
      "execution_count": 115,
      "outputs": [
        {
          "output_type": "execute_result",
          "data": {
            "text/plain": [
              "Northbury        20074\n",
              "Fanfoss            443\n",
              "?                  395\n",
              "Alverton           135\n",
              "Butterpond          96\n",
              "Watford             83\n",
              "Auchenshuggle       80\n",
              "Pran                77\n",
              "Sharnwick           70\n",
              "Aroonshire          64\n",
              "Laewaes             63\n",
              "Fool's March        59\n",
              "Wigston             56\n",
              "Eelry               56\n",
              "Sharpton            54\n",
              "Lanercost           52\n",
              "Cherrytown          51\n",
              "Aerilon             45\n",
              "King's Watch        44\n",
              "Kirkwall            40\n",
              "Bellmoral           40\n",
              "Knife's Edge        37\n",
              "Laenteglos          32\n",
              "Tranmere            30\n",
              "Drumchapel          25\n",
              "Aberuthven          23\n",
              "Orilon              22\n",
              "Kald                19\n",
              "Carlisle            18\n",
              "MillerVille         17\n",
              "Willesden           16\n",
              "Lewes               16\n",
              "Conriston           12\n",
              "Marnmouth           11\n",
              "Middlesbrough       10\n",
              "Mensfield            9\n",
              "Woodpine             9\n",
              "Bellenau             8\n",
              "Redwick Bush         8\n",
              "Ironforge            1\n",
              "Name: Base Area, dtype: int64"
            ]
          },
          "metadata": {
            "tags": []
          },
          "execution_count": 115
        }
      ]
    },
    {
      "cell_type": "code",
      "metadata": {
        "ExecuteTime": {
          "end_time": "2020-11-24T11:19:06.062528Z",
          "start_time": "2020-11-24T11:19:06.049563Z"
        },
        "hidden": true,
        "colab": {
          "base_uri": "https://localhost:8080/"
        },
        "id": "yvFiuvLl3VJr",
        "outputId": "ecf95c36-dd3a-4362-8c73-7e27881cef11"
      },
      "source": [
        "#The categories seem to be good! We believe that a distinction as deep as the one presented is not needed, and so, we will\n",
        "#group some variables as the latest education a person has received.\n",
        "#As we are dealing with Ordinal data, meaning, the variables have a natural order, for example, a PhD is valued higher than a high school degree, \n",
        "#We will create a variable that contains the categories representing the education qualification, in integer values, as the algorithm can process\n",
        "#these values as an order\n",
        "#We will make this change later in the feature engineering step.\n",
        "train['Education Level'].value_counts() "
      ],
      "execution_count": 116,
      "outputs": [
        {
          "output_type": "execute_result",
          "data": {
            "text/plain": [
              "Professional School                     7232\n",
              "High School + PostGraduation            4994\n",
              "Bachelors + PostGraduation              3696\n",
              "Masters                                 1193\n",
              "Professional School + PostGraduation     953\n",
              "High School - 2nd Cycle                  809\n",
              "Bachelors                                735\n",
              "High School - 1st Cycle                  649\n",
              "Middle School - 2nd Cycle                432\n",
              "Masters + PostGraduation                 397\n",
              "Middle School Complete                   342\n",
              "PhD                                      289\n",
              "High School Complete                     287\n",
              "Middle School - 1st Cycle                237\n",
              "Primary School                           122\n",
              "Preschool                                 33\n",
              "Name: Education Level, dtype: int64"
            ]
          },
          "metadata": {
            "tags": []
          },
          "execution_count": 116
        }
      ]
    },
    {
      "cell_type": "code",
      "metadata": {
        "ExecuteTime": {
          "end_time": "2020-11-24T11:19:20.467050Z",
          "start_time": "2020-11-24T11:19:20.457072Z"
        },
        "hidden": true,
        "colab": {
          "base_uri": "https://localhost:8080/"
        },
        "id": "90lK7yY43VJr",
        "outputId": "a453bc56-6708-493c-bb07-9056c837399b"
      },
      "source": [
        "#Has the same missing values problem as before, meaning, when there is missing data it is represented by a \"?\"\n",
        "#The categories have information about big groups of values (private sector, public sector, etc), so we will retrieve this information in \n",
        "#a more correct and larger way.\n",
        "#After doing so, we will probably have to reach to some type of data encoding technique in order to be able to use this information in our model\n",
        "#We will make this change later in the feature engineering step.\n",
        "train['Employment Sector'].value_counts() "
      ],
      "execution_count": 117,
      "outputs": [
        {
          "output_type": "execute_result",
          "data": {
            "text/plain": [
              "Private Sector - Services     15599\n",
              "Self-Employed (Individual)     1764\n",
              "Public Sector - Others         1419\n",
              "?                              1264\n",
              "Private Sector - Others         880\n",
              "Self-Employed (Company)         763\n",
              "Public Sector - Government      692\n",
              "Unemployed                       12\n",
              "Never Worked                      7\n",
              "Name: Employment Sector, dtype: int64"
            ]
          },
          "metadata": {
            "tags": []
          },
          "execution_count": 117
        }
      ]
    },
    {
      "cell_type": "code",
      "metadata": {
        "ExecuteTime": {
          "end_time": "2020-11-24T11:19:41.237156Z",
          "start_time": "2020-11-24T11:19:41.215655Z"
        },
        "hidden": true,
        "colab": {
          "base_uri": "https://localhost:8080/"
        },
        "id": "f5UfPGDT3VJs",
        "outputId": "bcdd0a6f-ef23-4098-b381-d14ea363df20"
      },
      "source": [
        "#Has the same missing values problem as before, meaning, when there is missing data it is represented by a \"?\"\n",
        "#The grouping of information (in order to be able to have encoding) in this variable is difficult to tackle.\n",
        "#We will probably use the sectors of the economy to make some type of encoding in this variable\n",
        "#We will make this change later in the feature engineering step.\n",
        "train['Role'].value_counts() "
      ],
      "execution_count": 118,
      "outputs": [
        {
          "output_type": "execute_result",
          "data": {
            "text/plain": [
              "Professor                         2849\n",
              "Management                        2797\n",
              "Repair & constructions            2795\n",
              "Administratives                   2608\n",
              "Sales                             2531\n",
              "Other services                    2287\n",
              "Machine Operators & Inspectors    1384\n",
              "?                                 1271\n",
              "Transports                        1071\n",
              "Cleaners & Handlers                922\n",
              "Agriculture and Fishing            702\n",
              "IT                                 626\n",
              "Security                           450\n",
              "Household Services                 102\n",
              "Army                                 5\n",
              "Name: Role, dtype: int64"
            ]
          },
          "metadata": {
            "tags": []
          },
          "execution_count": 118
        }
      ]
    },
    {
      "cell_type": "code",
      "metadata": {
        "hidden": true,
        "colab": {
          "base_uri": "https://localhost:8080/"
        },
        "id": "6FPwVdA-3VJs",
        "outputId": "4247ba4b-b275-4a7e-ee04-e25127e5d845"
      },
      "source": [
        "#As the name is not very important in our analysis, we will proceed on removing the first word from the name, meaning, the gender the person\n",
        "#identifies with and we will create a variable with information about the gender.\n",
        "#We will make this change later in the feature engineering step.\n",
        "train['Name'].head()"
      ],
      "execution_count": 119,
      "outputs": [
        {
          "output_type": "execute_result",
          "data": {
            "text/plain": [
              "0         Mr. Adam Glover\n",
              "1    Mr. Cameron McDonald\n",
              "2      Mr. Keith Davidson\n",
              "3      Mr. Alexander Gill\n",
              "4          Mr. Neil Piper\n",
              "Name: Name, dtype: object"
            ]
          },
          "metadata": {
            "tags": []
          },
          "execution_count": 119
        }
      ]
    },
    {
      "cell_type": "code",
      "metadata": {
        "hidden": true,
        "colab": {
          "base_uri": "https://localhost:8080/"
        },
        "id": "KGj0j7Ei3VJs",
        "outputId": "50803a8e-9f83-46b1-b93d-c135185128d3"
      },
      "source": [
        "#Clearly some transformations are needed, if we want to use this variable\n",
        "#We will have to do some engineering \n",
        "train['Birthday'].head() "
      ],
      "execution_count": 120,
      "outputs": [
        {
          "output_type": "execute_result",
          "data": {
            "text/plain": [
              "0         July 1,2003\n",
              "1     January 25,2006\n",
              "2         May 10,2009\n",
              "3       March 25,1985\n",
              "4         May 29,2015\n",
              "Name: Birthday, dtype: object"
            ]
          },
          "metadata": {
            "tags": []
          },
          "execution_count": 120
        }
      ]
    },
    {
      "cell_type": "code",
      "metadata": {
        "colab": {
          "base_uri": "https://localhost:8080/"
        },
        "id": "tcuYTNyK6oag",
        "outputId": "51eac15d-47c2-4e40-b8e4-9d1e6a411731"
      },
      "source": [
        "#Turning the \"?\" in missing value np.nan\n",
        "questionmark_to_nan(train, 'Base Area') \n",
        "questionmark_to_nan(train, 'Employment Sector') \n",
        "questionmark_to_nan(train, 'Role') \n",
        "\n",
        "#Checking whether there are more categorical variables with \"?\" values\n",
        "for i in [\"Name\", \"Native Continent\", \"Marital Status\", \"Lives with\", \"Base Area\", \"Education Level\", \"Employment Sector\", \"Role\"]:\n",
        "  print(train[i].str.contains('?', regex = False).sum())"
      ],
      "execution_count": 121,
      "outputs": [
        {
          "output_type": "stream",
          "text": [
            "0\n",
            "0\n",
            "0\n",
            "0\n",
            "0\n",
            "0\n",
            "0\n",
            "0\n"
          ],
          "name": "stdout"
        }
      ]
    },
    {
      "cell_type": "markdown",
      "metadata": {
        "heading_collapsed": true,
        "hidden": true,
        "id": "fet4vQdL3VJt"
      },
      "source": [
        "#### Numeric Variables Treatment"
      ]
    },
    {
      "cell_type": "markdown",
      "metadata": {
        "hidden": true,
        "id": "pchXufJ43VJt"
      },
      "source": [
        "Since no variables showed *immediate* missing values, on the variables whose data type is float or int, we know that we won't have the problem of '?' missing values, otherwise the variables would be of object data type.\n",
        "\n",
        "However we still have to check these variables to know if there are some immediate incoherences."
      ]
    },
    {
      "cell_type": "code",
      "metadata": {
        "hidden": true,
        "colab": {
          "base_uri": "https://localhost:8080/"
        },
        "id": "lnuKhL4U3VJt",
        "outputId": "b7462fa4-0674-43fb-b6bd-4fa1e194eb3c"
      },
      "source": [
        "train.dtypes"
      ],
      "execution_count": 122,
      "outputs": [
        {
          "output_type": "execute_result",
          "data": {
            "text/plain": [
              "CITIZEN_ID                 int64\n",
              "Name                      object\n",
              "Birthday                  object\n",
              "Native Continent          object\n",
              "Marital Status            object\n",
              "Lives with                object\n",
              "Base Area                 object\n",
              "Education Level           object\n",
              "Years of Education         int64\n",
              "Employment Sector         object\n",
              "Role                      object\n",
              "Working Hours per week     int64\n",
              "Money Received             int64\n",
              "Ticket Price               int64\n",
              "Income                     int64\n",
              "dtype: object"
            ]
          },
          "metadata": {
            "tags": []
          },
          "execution_count": 122
        }
      ]
    },
    {
      "cell_type": "code",
      "metadata": {
        "hidden": true,
        "colab": {
          "base_uri": "https://localhost:8080/"
        },
        "id": "GkbSn6gA3VJt",
        "outputId": "ee4b35d1-5405-45c9-b4f7-d89cfa0beae2"
      },
      "source": [
        "#No repeated Citizen ID's\n",
        "(train['CITIZEN_ID'].value_counts()>1).sum() "
      ],
      "execution_count": 123,
      "outputs": [
        {
          "output_type": "execute_result",
          "data": {
            "text/plain": [
              "0"
            ]
          },
          "metadata": {
            "tags": []
          },
          "execution_count": 123
        }
      ]
    },
    {
      "cell_type": "markdown",
      "metadata": {
        "id": "TtMeNCzhJgux"
      },
      "source": [
        "**Assumption:**If the Citizen ID follows the normal order of atribution of ID after being recognized the citizenship, we know which citizens were the first to arrive, as their ID's will have a smaller value."
      ]
    },
    {
      "cell_type": "code",
      "metadata": {
        "hidden": true,
        "scrolled": true,
        "id": "95rg-7bo3VJt"
      },
      "source": [
        "#??????\n",
        "#train.drop(columns = ['CITIZEN_ID']).describe()"
      ],
      "execution_count": 124,
      "outputs": []
    },
    {
      "cell_type": "markdown",
      "metadata": {
        "heading_collapsed": true,
        "id": "-UI_4cXH3VJt"
      },
      "source": [
        "# **Coherence Checks**"
      ]
    },
    {
      "cell_type": "code",
      "metadata": {
        "colab": {
          "base_uri": "https://localhost:8080/"
        },
        "id": "zKvkhUzdHeCz",
        "outputId": "43ae8934-7b04-442f-cb6c-58ff36e60e23"
      },
      "source": [
        "#It makes no sense to have negative values in the following numerical variables.\n",
        "print(\"Number of negative values:\")\n",
        "for i in [\"Years of Education\", \"Working Hours per week\", \"Money Received\", \"Ticket Price\", \"Income\"]:\n",
        "  print(i,\":\", ((train[i]<0).sum()))\n",
        "#All seems to be good!"
      ],
      "execution_count": 125,
      "outputs": [
        {
          "output_type": "stream",
          "text": [
            "Number of negative values:\n",
            "Years of Education : 0\n",
            "Working Hours per week : 0\n",
            "Money Received : 0\n",
            "Ticket Price : 0\n",
            "Income : 0\n"
          ],
          "name": "stdout"
        }
      ]
    },
    {
      "cell_type": "markdown",
      "metadata": {
        "hidden": true,
        "id": "MqNFuFx63VJt"
      },
      "source": [
        "No values below 0. For now everything looks fine.\n",
        "\n",
        "Considering the average, std and min and max values of *Years of Education* and *Working Hours per week*, there definitely seem to be some outliers, but we will check this with more detail later. Since most values of *Money Received* and *Ticket Price* are 0, we can't talk about its outliers right now."
      ]
    },
    {
      "cell_type": "code",
      "metadata": {
        "id": "vTcCsCQBM16g",
        "outputId": "93855c79-5f2c-4bd4-9e06-4bc8b139e4a6",
        "colab": {
          "base_uri": "https://localhost:8080/",
          "height": 83
        }
      },
      "source": [
        "train[(train['Money Received']<0) & (train['Ticket Price']>0)] "
      ],
      "execution_count": 126,
      "outputs": [
        {
          "output_type": "execute_result",
          "data": {
            "text/html": [
              "<div>\n",
              "<style scoped>\n",
              "    .dataframe tbody tr th:only-of-type {\n",
              "        vertical-align: middle;\n",
              "    }\n",
              "\n",
              "    .dataframe tbody tr th {\n",
              "        vertical-align: top;\n",
              "    }\n",
              "\n",
              "    .dataframe thead th {\n",
              "        text-align: right;\n",
              "    }\n",
              "</style>\n",
              "<table border=\"1\" class=\"dataframe\">\n",
              "  <thead>\n",
              "    <tr style=\"text-align: right;\">\n",
              "      <th></th>\n",
              "      <th>CITIZEN_ID</th>\n",
              "      <th>Name</th>\n",
              "      <th>Birthday</th>\n",
              "      <th>Native Continent</th>\n",
              "      <th>Marital Status</th>\n",
              "      <th>Lives with</th>\n",
              "      <th>Base Area</th>\n",
              "      <th>Education Level</th>\n",
              "      <th>Years of Education</th>\n",
              "      <th>Employment Sector</th>\n",
              "      <th>Role</th>\n",
              "      <th>Working Hours per week</th>\n",
              "      <th>Money Received</th>\n",
              "      <th>Ticket Price</th>\n",
              "      <th>Income</th>\n",
              "    </tr>\n",
              "  </thead>\n",
              "  <tbody>\n",
              "  </tbody>\n",
              "</table>\n",
              "</div>"
            ],
            "text/plain": [
              "Empty DataFrame\n",
              "Columns: [CITIZEN_ID, Name, Birthday, Native Continent, Marital Status, Lives with, Base Area, Education Level, Years of Education, Employment Sector, Role, Working Hours per week, Money Received, Ticket Price, Income]\n",
              "Index: []"
            ]
          },
          "metadata": {
            "tags": []
          },
          "execution_count": 126
        }
      ]
    },
    {
      "cell_type": "markdown",
      "metadata": {
        "id": "ZvxCHiITM2DS"
      },
      "source": [
        "In the clause above we can see that there are no records that show people that have simultanously paid to go to Newland (belonging to Group C) and that have been paid to go to Newland (therefore belonging to Group B)"
      ]
    },
    {
      "cell_type": "code",
      "metadata": {
        "id": "zukhy2aBNTn7",
        "outputId": "b914632d-e769-47f8-a129-8e8092b65135",
        "colab": {
          "base_uri": "https://localhost:8080/"
        }
      },
      "source": [
        "train[(train['Money Received']==0) & (train['Ticket Price']==0)].shape[0]"
      ],
      "execution_count": 127,
      "outputs": [
        {
          "output_type": "execute_result",
          "data": {
            "text/plain": [
              "19511"
            ]
          },
          "metadata": {
            "tags": []
          },
          "execution_count": 127
        }
      ]
    },
    {
      "cell_type": "markdown",
      "metadata": {
        "id": "xvDvyXxdNlun"
      },
      "source": [
        "There are 19511 people that were neither paid or payed to go to Newland"
      ]
    },
    {
      "cell_type": "code",
      "metadata": {
        "id": "EludKndxN1JE",
        "outputId": "2152c052-7c7a-4456-d385-357d93ea9c68",
        "colab": {
          "base_uri": "https://localhost:8080/"
        }
      },
      "source": [
        "train[(train['Money Received']<=0) & (train['Ticket Price']>=0)].shape[0]"
      ],
      "execution_count": 128,
      "outputs": [
        {
          "output_type": "execute_result",
          "data": {
            "text/plain": [
              "20568"
            ]
          },
          "metadata": {
            "tags": []
          },
          "execution_count": 128
        }
      ]
    },
    {
      "cell_type": "markdown",
      "metadata": {
        "id": "s8UlfqH0N55j"
      },
      "source": [
        "This shows us that the data for these columns is correct! "
      ]
    },
    {
      "cell_type": "code",
      "metadata": {
        "id": "nXdQFzCER7v_"
      },
      "source": [
        ""
      ],
      "execution_count": null,
      "outputs": []
    },
    {
      "cell_type": "markdown",
      "metadata": {
        "id": "KOmizBj3R77k"
      },
      "source": [
        ""
      ]
    },
    {
      "cell_type": "markdown",
      "metadata": {
        "heading_collapsed": true,
        "id": "x04ImyMQ3VJt"
      },
      "source": [
        "# **Data Transformation**"
      ]
    },
    {
      "cell_type": "markdown",
      "metadata": {
        "heading_collapsed": true,
        "hidden": true,
        "id": "Xejyuzup3VJt"
      },
      "source": [
        "#### Birthday to age transformation"
      ]
    },
    {
      "cell_type": "markdown",
      "metadata": {
        "hidden": true,
        "id": "Lhae5MJm3VJt"
      },
      "source": [
        "We have the birthday of each person, but more usefull to estimate the model is their age.\n",
        "\n",
        "However before we calculate the age we have to do some transformations to the birthday variable.\n",
        "\n",
        "We will calculate the age having in to account that we are on the year 2048, and we don't know the current month or day."
      ]
    },
    {
      "cell_type": "code",
      "metadata": {
        "hidden": true,
        "colab": {
          "base_uri": "https://localhost:8080/"
        },
        "id": "77gu2_gz3VJt",
        "outputId": "987a5550-fda0-4354-cf2a-b804d63b0b63"
      },
      "source": [
        "train['Birthday'].head()"
      ],
      "execution_count": 129,
      "outputs": [
        {
          "output_type": "execute_result",
          "data": {
            "text/plain": [
              "0         July 1,2003\n",
              "1     January 25,2006\n",
              "2         May 10,2009\n",
              "3       March 25,1985\n",
              "4         May 29,2015\n",
              "Name: Birthday, dtype: object"
            ]
          },
          "metadata": {
            "tags": []
          },
          "execution_count": 129
        }
      ]
    },
    {
      "cell_type": "code",
      "metadata": {
        "ExecuteTime": {
          "end_time": "2020-11-24T12:01:31.409897Z",
          "start_time": "2020-11-24T12:01:31.227233Z"
        },
        "hidden": true,
        "id": "qX6kW-HE3VJt"
      },
      "source": [
        "#First we extract the year of each birthday in to a new column\n",
        "train[\"YOB\"] = train['Birthday'].str.split(' ', n = 2, expand = True)[2].str.split(',', n = 1, expand = True)[1]"
      ],
      "execution_count": 130,
      "outputs": []
    },
    {
      "cell_type": "code",
      "metadata": {
        "hidden": true,
        "colab": {
          "base_uri": "https://localhost:8080/"
        },
        "id": "0IyCTnfV3VJt",
        "outputId": "994538b7-a0f7-4785-b9da-abee6b9e825e"
      },
      "source": [
        "train[\"YOB\"].head()"
      ],
      "execution_count": 131,
      "outputs": [
        {
          "output_type": "execute_result",
          "data": {
            "text/plain": [
              "0    2003\n",
              "1    2006\n",
              "2    2009\n",
              "3    1985\n",
              "4    2015\n",
              "Name: YOB, dtype: object"
            ]
          },
          "metadata": {
            "tags": []
          },
          "execution_count": 131
        }
      ]
    },
    {
      "cell_type": "code",
      "metadata": {
        "hidden": true,
        "id": "ypi9P3_h3VJt"
      },
      "source": [
        "train['YOB'] = train['YOB'].astype('int64') #Turns year of birth in to dtype int"
      ],
      "execution_count": 132,
      "outputs": []
    },
    {
      "cell_type": "code",
      "metadata": {
        "hidden": true,
        "id": "UOQEIp6q3VJt"
      },
      "source": [
        "birthday_to_age(train, 'YOB', 'Age') #Turns year of birth to age"
      ],
      "execution_count": 133,
      "outputs": []
    },
    {
      "cell_type": "code",
      "metadata": {
        "hidden": true,
        "colab": {
          "base_uri": "https://localhost:8080/",
          "height": 0
        },
        "id": "AegTHSOV3VJt",
        "outputId": "50cf116a-30c3-4f39-dfba-c25e09953c0e"
      },
      "source": [
        "train[['Age']].describe().T #All seems fine"
      ],
      "execution_count": 134,
      "outputs": [
        {
          "output_type": "execute_result",
          "data": {
            "text/html": [
              "<div>\n",
              "<style scoped>\n",
              "    .dataframe tbody tr th:only-of-type {\n",
              "        vertical-align: middle;\n",
              "    }\n",
              "\n",
              "    .dataframe tbody tr th {\n",
              "        vertical-align: top;\n",
              "    }\n",
              "\n",
              "    .dataframe thead th {\n",
              "        text-align: right;\n",
              "    }\n",
              "</style>\n",
              "<table border=\"1\" class=\"dataframe\">\n",
              "  <thead>\n",
              "    <tr style=\"text-align: right;\">\n",
              "      <th></th>\n",
              "      <th>count</th>\n",
              "      <th>mean</th>\n",
              "      <th>std</th>\n",
              "      <th>min</th>\n",
              "      <th>25%</th>\n",
              "      <th>50%</th>\n",
              "      <th>75%</th>\n",
              "      <th>max</th>\n",
              "    </tr>\n",
              "  </thead>\n",
              "  <tbody>\n",
              "    <tr>\n",
              "      <th>Age</th>\n",
              "      <td>22400.0</td>\n",
              "      <td>38.584866</td>\n",
              "      <td>13.651578</td>\n",
              "      <td>17.0</td>\n",
              "      <td>28.0</td>\n",
              "      <td>37.0</td>\n",
              "      <td>48.0</td>\n",
              "      <td>90.0</td>\n",
              "    </tr>\n",
              "  </tbody>\n",
              "</table>\n",
              "</div>"
            ],
            "text/plain": [
              "       count       mean        std   min   25%   50%   75%   max\n",
              "Age  22400.0  38.584866  13.651578  17.0  28.0  37.0  48.0  90.0"
            ]
          },
          "metadata": {
            "tags": []
          },
          "execution_count": 134
        }
      ]
    },
    {
      "cell_type": "code",
      "metadata": {
        "hidden": true,
        "id": "gDZE4BwU3VJt"
      },
      "source": [
        "#And we drop the columns we will no longer need\n",
        "train.drop(columns = ['Birthday', 'YOB'], inplace = True)"
      ],
      "execution_count": 135,
      "outputs": []
    },
    {
      "cell_type": "markdown",
      "metadata": {
        "heading_collapsed": true,
        "hidden": true,
        "id": "Va9Ntv1a3VJt"
      },
      "source": [
        "#### Base Area -> Northbury"
      ]
    },
    {
      "cell_type": "markdown",
      "metadata": {
        "hidden": true,
        "id": "UBrxfbPx3VJt"
      },
      "source": [
        "There are a lot of base areas, however most observations belong to Northbury, so instead of using one hot encoding and proceding with all the values, we will just proced with a variable that signals whether the person is of Northbury or not.\n",
        "\n",
        "MESMO ASSIM SERIA FIXE FAZER ONE HOT ENCODING E DPS FEATURE SELECTION PARA GARANTIR QUE REALMENTE SO A NORTHBURY DEVA FICAR"
      ]
    },
    {
      "cell_type": "code",
      "metadata": {
        "hidden": true,
        "id": "mL2esext3VJt"
      },
      "source": [
        "train['Northbury'] = train['Base Area'].map(lambda x: 1 if x == 'Northbury' else 0)\n",
        "\n",
        "#Não esquecer fazer inut NA antes disto\n",
        "#No entnto pode não ser necessário!!!!!!!!!!!!!!!!!!"
      ],
      "execution_count": 136,
      "outputs": []
    },
    {
      "cell_type": "code",
      "metadata": {
        "hidden": true,
        "colab": {
          "base_uri": "https://localhost:8080/"
        },
        "id": "U7RrdBm83VJt",
        "outputId": "c52ee3b5-8622-4f47-86b1-ee858f1aec0c"
      },
      "source": [
        "train['Northbury'].value_counts()"
      ],
      "execution_count": 137,
      "outputs": [
        {
          "output_type": "execute_result",
          "data": {
            "text/plain": [
              "1    20074\n",
              "0     2326\n",
              "Name: Northbury, dtype: int64"
            ]
          },
          "metadata": {
            "tags": []
          },
          "execution_count": 137
        }
      ]
    },
    {
      "cell_type": "code",
      "metadata": {
        "hidden": true,
        "id": "kwKw2_ll3VJt"
      },
      "source": [
        "train.drop(columns = ['Base Area'], inplace = True)"
      ],
      "execution_count": 138,
      "outputs": []
    },
    {
      "cell_type": "markdown",
      "metadata": {
        "heading_collapsed": true,
        "hidden": true,
        "id": "cQggstrJ3VJu"
      },
      "source": [
        "#### Name -> Gender -> Male"
      ]
    },
    {
      "cell_type": "markdown",
      "metadata": {
        "hidden": true,
        "id": "UNig0NwH3VJu"
      },
      "source": [
        "It doesn't make sense to model using the different names in the dataset, however with the first byte of each one (for example: Mrs.) we can conclude quite easily the gender of each person. Having the gender we can then create a variable that signals all the males."
      ]
    },
    {
      "cell_type": "code",
      "metadata": {
        "hidden": true,
        "id": "fPpDsPeP3VJu"
      },
      "source": [
        "train['Gender'] = train['Name'].str.split(' ', n = 1, expand = True)[0] "
      ],
      "execution_count": 139,
      "outputs": []
    },
    {
      "cell_type": "code",
      "metadata": {
        "hidden": true,
        "colab": {
          "base_uri": "https://localhost:8080/"
        },
        "id": "TjBNfEa23VJu",
        "outputId": "6f6e89d2-8e99-4980-c8c2-96a6e653f335"
      },
      "source": [
        "train['Gender'].value_counts()"
      ],
      "execution_count": 140,
      "outputs": [
        {
          "output_type": "execute_result",
          "data": {
            "text/plain": [
              "Mr.     14971\n",
              "Mrs.     4117\n",
              "Miss     3312\n",
              "Name: Gender, dtype: int64"
            ]
          },
          "metadata": {
            "tags": []
          },
          "execution_count": 140
        }
      ]
    },
    {
      "cell_type": "code",
      "metadata": {
        "hidden": true,
        "id": "5gDiqz7Z3VJu"
      },
      "source": [
        "train['Male'] = train['Gender'].map(lambda x: 1 if x == 'Mr.' else 0)"
      ],
      "execution_count": 141,
      "outputs": []
    },
    {
      "cell_type": "code",
      "metadata": {
        "hidden": true,
        "colab": {
          "base_uri": "https://localhost:8080/"
        },
        "id": "6WYInXrA3VJu",
        "outputId": "43cc6c63-4705-40e0-9d29-99eba746a115"
      },
      "source": [
        "train['Male'].value_counts()"
      ],
      "execution_count": 142,
      "outputs": [
        {
          "output_type": "execute_result",
          "data": {
            "text/plain": [
              "1    14971\n",
              "0     7429\n",
              "Name: Male, dtype: int64"
            ]
          },
          "metadata": {
            "tags": []
          },
          "execution_count": 142
        }
      ]
    },
    {
      "cell_type": "code",
      "metadata": {
        "hidden": true,
        "id": "gSOT0giy3VJu"
      },
      "source": [
        "train.drop(columns = ['Name', 'Gender'], inplace = True)"
      ],
      "execution_count": 143,
      "outputs": []
    },
    {
      "cell_type": "markdown",
      "metadata": {
        "id": "KoDpxnU18KvV"
      },
      "source": [
        "### *Lives with* and *Marital Status*\n"
      ]
    },
    {
      "cell_type": "code",
      "metadata": {
        "id": "pQX1zt-r8OiF"
      },
      "source": [
        "train['Marital Status'] = train['Marital Status'].map(lambda x: 'Married' if ((x == 'Married - Spouse Missing') | (x == 'Married - Spouse in the Army') ) else x)\n",
        "train['Marital Status'] = train['Marital Status'].map(lambda x: 'Not Married' if ((x == 'Divorced')  | (x == 'Separated') | (x == 'Widow')) else x)\n",
        "train['Marital Status'] = train['Marital Status'].map(lambda x: 'Never Married' if ((x == 'Single') ) else x)"
      ],
      "execution_count": 144,
      "outputs": []
    },
    {
      "cell_type": "markdown",
      "metadata": {
        "id": "r0EnGFdY8cBb"
      },
      "source": [
        "There are no weird values and one hot encoding will be needed for the same reasons as in the previous variable.\n",
        "\n",
        "However some values seem to specific and have very little representation on the observations, so we will \"standardize\" this values: \"Married - Spouse Missing\" and \"Married - Spouse in the Army\" will be changed to \"Married\"."
      ]
    },
    {
      "cell_type": "markdown",
      "metadata": {
        "id": "3J29EFr48hgp"
      },
      "source": [
        "There is no point in discretizing between living with Wife or Husband, so we will aggregate it in Spouse. Same thing with other relatives and Other Family."
      ]
    },
    {
      "cell_type": "code",
      "metadata": {
        "id": "AfxjuYcR8Wul"
      },
      "source": [
        "train['Lives with'] = train['Lives with'].map(lambda x: 'Spouse' if ((x == 'Wife') | (x == 'Husband')) else x)\n",
        "train['Lives with'] = train['Lives with'].map(lambda x: 'Other Family' if (x == 'Other relatives') else x)"
      ],
      "execution_count": 145,
      "outputs": []
    },
    {
      "cell_type": "code",
      "metadata": {
        "colab": {
          "base_uri": "https://localhost:8080/"
        },
        "id": "rnsphnDIK1if",
        "outputId": "72f6e496-514c-4d69-a0be-04a5d6bbc023"
      },
      "source": [
        "train.dtypes"
      ],
      "execution_count": 146,
      "outputs": [
        {
          "output_type": "execute_result",
          "data": {
            "text/plain": [
              "CITIZEN_ID                 int64\n",
              "Native Continent          object\n",
              "Marital Status            object\n",
              "Lives with                object\n",
              "Education Level           object\n",
              "Years of Education         int64\n",
              "Employment Sector         object\n",
              "Role                      object\n",
              "Working Hours per week     int64\n",
              "Money Received             int64\n",
              "Ticket Price               int64\n",
              "Income                     int64\n",
              "Age                        int64\n",
              "Northbury                  int64\n",
              "Male                       int64\n",
              "dtype: object"
            ]
          },
          "metadata": {
            "tags": []
          },
          "execution_count": 146
        }
      ]
    },
    {
      "cell_type": "markdown",
      "metadata": {
        "id": "__sJDc_IMJrz"
      },
      "source": [
        "### Education Level"
      ]
    },
    {
      "cell_type": "markdown",
      "metadata": {
        "id": "zKUJRoWMV7nU"
      },
      "source": [
        "- https://en.wikipedia.org/wiki/Education_in_the_United_States\n",
        "- http://internacional.ipvc.pt/sites/default/files/Diagrama_SESP_EQF_PT1.pdf\n",
        "- https://europa.eu/europass/pt/description-eight-eqf-levels"
      ]
    },
    {
      "cell_type": "code",
      "metadata": {
        "colab": {
          "base_uri": "https://localhost:8080/"
        },
        "id": "FKox4VsCMMgR",
        "outputId": "5c4a9772-2ab1-4818-9027-e05b10363d38"
      },
      "source": [
        "#Division will have to be made top to bottom. Meaning, if it appears \"Masters\" and \"PostGraduation\",\n",
        "#we will treat first \"Masters\" to make sure we have the maximum education first\n",
        "train[\"Education Level\"].value_counts()"
      ],
      "execution_count": 147,
      "outputs": [
        {
          "output_type": "execute_result",
          "data": {
            "text/plain": [
              "Professional School                     7232\n",
              "High School + PostGraduation            4994\n",
              "Bachelors + PostGraduation              3696\n",
              "Masters                                 1193\n",
              "Professional School + PostGraduation     953\n",
              "High School - 2nd Cycle                  809\n",
              "Bachelors                                735\n",
              "High School - 1st Cycle                  649\n",
              "Middle School - 2nd Cycle                432\n",
              "Masters + PostGraduation                 397\n",
              "Middle School Complete                   342\n",
              "PhD                                      289\n",
              "High School Complete                     287\n",
              "Middle School - 1st Cycle                237\n",
              "Primary School                           122\n",
              "Preschool                                 33\n",
              "Name: Education Level, dtype: int64"
            ]
          },
          "metadata": {
            "tags": []
          },
          "execution_count": 147
        }
      ]
    },
    {
      "cell_type": "code",
      "metadata": {
        "colab": {
          "base_uri": "https://localhost:8080/"
        },
        "id": "AN2a_oBZMUo1",
        "outputId": "3a4203f8-3e28-45e1-da89-0be30a595a23"
      },
      "source": [
        "#Solução 1 - Fazer por grupos que nós considerarmos certos. Aqui estão os que eu acho que ficam bem, mas é perfeitamente alterável\n",
        "train['Education Level'] = train['Education Level'].map(lambda x: 'Masters' if (\"Masters\" in x) else x)\n",
        "train['Education Level'] = train['Education Level'].map(lambda x: 'PostGraduation' if (\"PostGraduation\" in x) else x)\n",
        "train['Education Level'] = train['Education Level'].map(lambda x: 'Incomplete High School' if ((x== \"High School - 2nd Cycle\") | (x== \"High School - 1st Cycle\")) else x)\n",
        "train['Education Level'] = train['Education Level'].map(lambda x: 'Less than Middle School' if ((x==\"Middle School - 2nd Cycle\") | (x== \"Middle School - 1st Cycle\") | (x== \"Primary School\") |(x== \"Preschool\" )) else x)\n",
        "train['Education Level'] = train['Education Level'].map(lambda x: '<HighSchool' if ((x==\"Incomplete High School\") | (x== \"Less than Middle School\") | (x== \"Middle School Complete\")) else x)\n",
        "train[\"Education Level\"].value_counts()"
      ],
      "execution_count": 148,
      "outputs": [
        {
          "output_type": "execute_result",
          "data": {
            "text/plain": [
              "PostGraduation          9643\n",
              "Professional School     7232\n",
              "<HighSchool             2624\n",
              "Masters                 1590\n",
              "Bachelors                735\n",
              "PhD                      289\n",
              "High School Complete     287\n",
              "Name: Education Level, dtype: int64"
            ]
          },
          "metadata": {
            "tags": []
          },
          "execution_count": 148
        }
      ]
    },
    {
      "cell_type": "code",
      "metadata": {
        "colab": {
          "base_uri": "https://localhost:8080/"
        },
        "id": "DeZU8v8IVSAn",
        "outputId": "23b397c7-57f7-489e-affc-778fb48735f3"
      },
      "source": [
        "#Solução 2 - Fazer por grupos instituidos pela UE (ver link acima). Se assim o fizermos, sabemos por exemplo que a professional school está acima da highschool!\n",
        "train['Education Level'] = train['Education Level'].map(lambda x: 'EQF3 or less' if ((x==\"<HighSchool\")) else x)\n",
        "train['Education Level'] = train['Education Level'].map(lambda x: 'EQF4' if ((x==\"High School Complete\")) else x)\n",
        "train['Education Level'] = train['Education Level'].map(lambda x: 'EQF5' if ((x==\"Professional School\")) else x)\n",
        "train['Education Level'] = train['Education Level'].map(lambda x: 'EQF6' if ((x==\"Bachelors\")) else x)\n",
        "train['Education Level'] = train['Education Level'].map(lambda x: 'EQF7' if ((x==\"Masters\") | (x== \"PostGraduation\")) else x)\n",
        "train['Education Level'] = train['Education Level'].map(lambda x: 'EQF8' if ((x==\"PhD\")) else x)\n",
        "train[\"Education Level\"].value_counts()"
      ],
      "execution_count": 149,
      "outputs": [
        {
          "output_type": "execute_result",
          "data": {
            "text/plain": [
              "EQF7            11233\n",
              "EQF5             7232\n",
              "EQF3 or less     2624\n",
              "EQF6              735\n",
              "EQF8              289\n",
              "EQF4              287\n",
              "Name: Education Level, dtype: int64"
            ]
          },
          "metadata": {
            "tags": []
          },
          "execution_count": 149
        }
      ]
    },
    {
      "cell_type": "markdown",
      "metadata": {
        "id": "FQNoWZ9sWB1q"
      },
      "source": [
        "### Profession\n"
      ]
    },
    {
      "cell_type": "code",
      "metadata": {
        "colab": {
          "base_uri": "https://localhost:8080/"
        },
        "id": "H_J04uF_WJYH",
        "outputId": "437edcb2-841b-4b9c-a700-270f37346cff"
      },
      "source": [
        "train[\"Employment Sector\"] = train[\"Employment Sector\"].astype(\"str\")\n",
        "train[\"Employment Sector\"].value_counts()"
      ],
      "execution_count": 150,
      "outputs": [
        {
          "output_type": "execute_result",
          "data": {
            "text/plain": [
              "Private Sector - Services     15599\n",
              "Self-Employed (Individual)     1764\n",
              "Public Sector - Others         1419\n",
              "nan                            1264\n",
              "Private Sector - Others         880\n",
              "Self-Employed (Company)         763\n",
              "Public Sector - Government      692\n",
              "Unemployed                       12\n",
              "Never Worked                      7\n",
              "Name: Employment Sector, dtype: int64"
            ]
          },
          "metadata": {
            "tags": []
          },
          "execution_count": 150
        }
      ]
    },
    {
      "cell_type": "code",
      "metadata": {
        "id": "GmPNUgZvWauV"
      },
      "source": [
        "train[\"Employment Sector\"]= train[\"Employment Sector\"].map(lambda x: 'Private Sector' if (\"Private Sector\" in x) else x)\n",
        "train[\"Employment Sector\"]= train[\"Employment Sector\"].map(lambda x: 'Public Sector' if (\"Public Sector\" in x) else x)\n",
        "train[\"Employment Sector\"]= train[\"Employment Sector\"].map(lambda x: 'Self Employed' if (\"Self-Employed\" in x) else x)\n",
        "train['Employment Sector'] = train['Employment Sector'].map(lambda x: 'Not Working' if ((x==\"Unemployed\") | (x== \"Never Worked\")) else x)\n",
        "train['Employment Sector'] = train['Employment Sector'].map(lambda x: np.nan if ((x==\"nan\")) else x)"
      ],
      "execution_count": 151,
      "outputs": []
    },
    {
      "cell_type": "code",
      "metadata": {
        "colab": {
          "base_uri": "https://localhost:8080/"
        },
        "id": "5sj2zwXNYvhV",
        "outputId": "5abaa7b0-8e15-42d5-bcbf-e1c53c5f3186"
      },
      "source": [
        "train[\"Employment Sector\"].value_counts()"
      ],
      "execution_count": 152,
      "outputs": [
        {
          "output_type": "execute_result",
          "data": {
            "text/plain": [
              "Private Sector    16479\n",
              "Self Employed      2527\n",
              "Public Sector      2111\n",
              "Not Working          19\n",
              "Name: Employment Sector, dtype: int64"
            ]
          },
          "metadata": {
            "tags": []
          },
          "execution_count": 152
        }
      ]
    },
    {
      "cell_type": "markdown",
      "metadata": {
        "id": "r2WZxPUykwLN"
      },
      "source": [
        "### Role"
      ]
    },
    {
      "cell_type": "code",
      "metadata": {
        "colab": {
          "base_uri": "https://localhost:8080/"
        },
        "id": "cVyAUhGrawdN",
        "outputId": "3e27a43a-5ced-4934-fec5-67e729d3550c"
      },
      "source": [
        "train[\"Role\"].value_counts()"
      ],
      "execution_count": 153,
      "outputs": [
        {
          "output_type": "execute_result",
          "data": {
            "text/plain": [
              "Professor                         2849\n",
              "Management                        2797\n",
              "Repair & constructions            2795\n",
              "Administratives                   2608\n",
              "Sales                             2531\n",
              "Other services                    2287\n",
              "Machine Operators & Inspectors    1384\n",
              "Transports                        1071\n",
              "Cleaners & Handlers                922\n",
              "Agriculture and Fishing            702\n",
              "IT                                 626\n",
              "Security                           450\n",
              "Household Services                 102\n",
              "Army                                 5\n",
              "Name: Role, dtype: int64"
            ]
          },
          "metadata": {
            "tags": []
          },
          "execution_count": 153
        }
      ]
    },
    {
      "cell_type": "code",
      "metadata": {
        "id": "YkNjLO_kl4Xw"
      },
      "source": [
        "## Primário: Agriculture and Fishing, \n",
        "## Secundário:Repair & constructions, Machine Operators & Inspectors,\n",
        "## Terciário: Administratives, Sales, Other services, Transports, Cleaners & Handlers, Household Services, Security, Army  \n",
        "## Quaternário: IT, Professor, Management"
      ],
      "execution_count": 154,
      "outputs": []
    },
    {
      "cell_type": "code",
      "metadata": {
        "id": "PCBvIb6QnaTd"
      },
      "source": [
        "train[\"Role\"]= train[\"Role\"].map(lambda x: '1st Sector' if ((x==\"Agriculture and Fishing\")) else x)\n",
        "train[\"Role\"]= train[\"Role\"].map(lambda x: '2nd Sector' if ((x==\"Repair & constructions\") | (x== \"Machine Operators & Inspectors\"))else x)\n",
        "train[\"Role\"]= train[\"Role\"].map(lambda x: '3rd Sector' if ((x== \"Administratives\")| (x== \"Sales\")| (x== \"Other services\")| (x== \"Transports\")| (x== \"Cleaners & Handlers\")| (x== \"Household Services\")| (x== \"Security\")| (x== \"Army\"))else x)\n",
        "train[\"Role\"]= train[\"Role\"].map(lambda x: '4th Sector' if ((x==\"IT\") | (x== \"Professor\")| (x== \"Management\"))else x)"
      ],
      "execution_count": 155,
      "outputs": []
    },
    {
      "cell_type": "code",
      "metadata": {
        "colab": {
          "base_uri": "https://localhost:8080/"
        },
        "id": "p5pYP6o2nG-Q",
        "outputId": "df061415-9fdb-40b6-c298-5454357cb9f0"
      },
      "source": [
        "train[\"Role\"].value_counts()"
      ],
      "execution_count": 156,
      "outputs": [
        {
          "output_type": "execute_result",
          "data": {
            "text/plain": [
              "3rd Sector    9976\n",
              "4th Sector    6272\n",
              "2nd Sector    4179\n",
              "1st Sector     702\n",
              "Name: Role, dtype: int64"
            ]
          },
          "metadata": {
            "tags": []
          },
          "execution_count": 156
        }
      ]
    },
    {
      "cell_type": "markdown",
      "metadata": {
        "id": "wy1Exjf7J-1w"
      },
      "source": [
        "### Ticket Price and Money"
      ]
    },
    {
      "cell_type": "markdown",
      "metadata": {
        "id": "909g-y0QKQ6d"
      },
      "source": [
        "As for the description of the project, we have noticed that ticket price represents the information of how much someone payed to go to the planet, and, money received represents the money someone was payed to go to Newland. \n",
        "\n",
        "Given so, we consider that both variables represent the same thing but in different directions. We will then proceed to join both, adding the inverse sign to one of them"
      ]
    },
    {
      "cell_type": "code",
      "metadata": {
        "id": "cXK_evgLLFPL"
      },
      "source": [
        "train[\"Money Received\"] = train[\"Money Received\"].map(lambda x: -x )"
      ],
      "execution_count": 157,
      "outputs": []
    },
    {
      "cell_type": "code",
      "metadata": {
        "id": "3t3EBX33KFjB"
      },
      "source": [
        "train[\"MONEY_TICKET\"] =  train[\"Money Received\"].astype(str) + train[\"Ticket Price\"].astype(str)\n",
        "train[\"MONEY_TICKET\"] = train[\"MONEY_TICKET\"].astype(int)"
      ],
      "execution_count": 158,
      "outputs": []
    },
    {
      "cell_type": "markdown",
      "metadata": {
        "id": "YuO-KYzHJST5"
      },
      "source": [
        "# **Missing Values Imputation**"
      ]
    },
    {
      "cell_type": "code",
      "metadata": {
        "colab": {
          "base_uri": "https://localhost:8080/"
        },
        "id": "DhTB20wmuy3A",
        "outputId": "f80015da-b6ae-436c-9eb6-77ecc72b46a0"
      },
      "source": [
        "((train.isna().sum())/(train.shape[0])*100)"
      ],
      "execution_count": 159,
      "outputs": [
        {
          "output_type": "execute_result",
          "data": {
            "text/plain": [
              "CITIZEN_ID                0.000000\n",
              "Native Continent          0.000000\n",
              "Marital Status            0.000000\n",
              "Lives with                0.000000\n",
              "Education Level           0.000000\n",
              "Years of Education        0.000000\n",
              "Employment Sector         5.642857\n",
              "Role                      5.674107\n",
              "Working Hours per week    0.000000\n",
              "Money Received            0.000000\n",
              "Ticket Price              0.000000\n",
              "Income                    0.000000\n",
              "Age                       0.000000\n",
              "Northbury                 0.000000\n",
              "Male                      0.000000\n",
              "MONEY_TICKET              0.000000\n",
              "dtype: float64"
            ]
          },
          "metadata": {
            "tags": []
          },
          "execution_count": 159
        }
      ]
    },
    {
      "cell_type": "code",
      "metadata": {
        "id": "XZVgCTOs2Nex"
      },
      "source": [
        "train[\"Employment Sector\"]= train[\"Employment Sector\"].fillna(train[\"Employment Sector\"].mode()[0])\n",
        "train[\"Role\"]= train[\"Role\"].fillna(train[\"Role\"].mode()[0])"
      ],
      "execution_count": 160,
      "outputs": []
    },
    {
      "cell_type": "code",
      "metadata": {
        "colab": {
          "base_uri": "https://localhost:8080/"
        },
        "id": "mb2reO5p26VJ",
        "outputId": "ea828dc1-2aa8-4cac-f78e-dc5601753943"
      },
      "source": [
        "((train.isna().sum())/(train.shape[0])*100)"
      ],
      "execution_count": 161,
      "outputs": [
        {
          "output_type": "execute_result",
          "data": {
            "text/plain": [
              "CITIZEN_ID                0.0\n",
              "Native Continent          0.0\n",
              "Marital Status            0.0\n",
              "Lives with                0.0\n",
              "Education Level           0.0\n",
              "Years of Education        0.0\n",
              "Employment Sector         0.0\n",
              "Role                      0.0\n",
              "Working Hours per week    0.0\n",
              "Money Received            0.0\n",
              "Ticket Price              0.0\n",
              "Income                    0.0\n",
              "Age                       0.0\n",
              "Northbury                 0.0\n",
              "Male                      0.0\n",
              "MONEY_TICKET              0.0\n",
              "dtype: float64"
            ]
          },
          "metadata": {
            "tags": []
          },
          "execution_count": 161
        }
      ]
    },
    {
      "cell_type": "markdown",
      "metadata": {
        "id": "awM3kIHXTLII"
      },
      "source": [
        "# **Data Encoding**"
      ]
    },
    {
      "cell_type": "code",
      "metadata": {
        "id": "28FyXTpT3gqC"
      },
      "source": [
        "train_encoding = train.copy()"
      ],
      "execution_count": 162,
      "outputs": []
    },
    {
      "cell_type": "code",
      "metadata": {
        "colab": {
          "base_uri": "https://localhost:8080/"
        },
        "id": "rWSQkxDuzywW",
        "outputId": "9ce08a47-ddf8-4e73-bc9f-b0581764e987"
      },
      "source": [
        "print(\"Number of Categories in: \")\n",
        "for ColName in train[['Native Continent','Marital Status','Lives with', \"Employment Sector\",\"Role\"]]:\n",
        "    print(\"{} = {}\".format(ColName,len(train[ColName].unique())))"
      ],
      "execution_count": 163,
      "outputs": [
        {
          "output_type": "stream",
          "text": [
            "Number of Categories in: \n",
            "Native Continent = 5\n",
            "Marital Status = 3\n",
            "Lives with = 4\n",
            "Employment Sector = 4\n",
            "Role = 4\n"
          ],
          "name": "stdout"
        }
      ]
    },
    {
      "cell_type": "markdown",
      "metadata": {
        "heading_collapsed": true,
        "hidden": true,
        "id": "Ntm96CXt3VJu"
      },
      "source": [
        "#### One Hot Encoding"
      ]
    },
    {
      "cell_type": "code",
      "metadata": {
        "hidden": true,
        "id": "h63WsnfJ3VJu"
      },
      "source": [
        "one_hot_var = ohe(train_encoding, ['Native Continent', 'Marital Status', 'Lives with', \"Employment Sector\", \"Role\"])"
      ],
      "execution_count": 164,
      "outputs": []
    },
    {
      "cell_type": "code",
      "metadata": {
        "hidden": true,
        "id": "Oo7fs4Xw3VJu"
      },
      "source": [
        "train_encoding = pd.concat([train_encoding.drop(columns = ['Native Continent', 'Marital Status', 'Lives with', \"Employment Sector\", \"Role\"]), one_hot_var], axis = 1)"
      ],
      "execution_count": 165,
      "outputs": []
    },
    {
      "cell_type": "code",
      "metadata": {
        "hidden": true,
        "colab": {
          "base_uri": "https://localhost:8080/"
        },
        "id": "lssXIGb23VJu",
        "outputId": "727e25fd-b1f2-4d27-cd82-7f45ca15032e"
      },
      "source": [
        "train_encoding.columns"
      ],
      "execution_count": 166,
      "outputs": [
        {
          "output_type": "execute_result",
          "data": {
            "text/plain": [
              "Index(['CITIZEN_ID', 'Education Level', 'Years of Education',\n",
              "       'Working Hours per week', 'Money Received', 'Ticket Price', 'Income',\n",
              "       'Age', 'Northbury', 'Male', 'MONEY_TICKET', 'x0_Africa', 'x0_America',\n",
              "       'x0_Asia', 'x0_Europe', 'x0_Oceania', 'x1_Married', 'x1_Never Married',\n",
              "       'x1_Not Married', 'x2_Alone', 'x2_Children', 'x2_Other Family',\n",
              "       'x2_Spouse', 'x3_Not Working', 'x3_Private Sector', 'x3_Public Sector',\n",
              "       'x3_Self Employed', 'x4_1st Sector', 'x4_2nd Sector', 'x4_3rd Sector',\n",
              "       'x4_4th Sector'],\n",
              "      dtype='object')"
            ]
          },
          "metadata": {
            "tags": []
          },
          "execution_count": 166
        }
      ]
    },
    {
      "cell_type": "markdown",
      "metadata": {
        "heading_collapsed": true,
        "hidden": true,
        "id": "1c_Y9Jdn3VJu"
      },
      "source": [
        "#### Label Encoding"
      ]
    },
    {
      "cell_type": "code",
      "metadata": {
        "colab": {
          "base_uri": "https://localhost:8080/"
        },
        "id": "Ecb0hSXh3rOP",
        "outputId": "b948c144-899e-44a4-f976-4559878d7099"
      },
      "source": [
        "train_encoding[\"Education Level\"].value_counts()"
      ],
      "execution_count": 167,
      "outputs": [
        {
          "output_type": "execute_result",
          "data": {
            "text/plain": [
              "EQF7            11233\n",
              "EQF5             7232\n",
              "EQF3 or less     2624\n",
              "EQF6              735\n",
              "EQF8              289\n",
              "EQF4              287\n",
              "Name: Education Level, dtype: int64"
            ]
          },
          "metadata": {
            "tags": []
          },
          "execution_count": 167
        }
      ]
    },
    {
      "cell_type": "code",
      "metadata": {
        "hidden": true,
        "id": "8Vu0jfVz3VJu"
      },
      "source": [
        "# create object of Ordinalencoding\n",
        "encoder= ce.OrdinalEncoder(cols=['Education Level'],return_df=True, mapping=[{'col':'Education Level','mapping':{'EQF3 or less':0,'EQF4':1,'EQF5':2,'EQF6':3,'EQF7':4,'EQF8':5}}])\n",
        "\n",
        "#fit and transform train data \n",
        "train_encoding = encoder.fit_transform(train_encoding)"
      ],
      "execution_count": 168,
      "outputs": []
    },
    {
      "cell_type": "markdown",
      "metadata": {
        "id": "b4MG0e1FePxO"
      },
      "source": [
        "# **Descriptive Statistics**"
      ]
    },
    {
      "cell_type": "code",
      "metadata": {
        "hidden": true,
        "colab": {
          "base_uri": "https://localhost:8080/",
          "height": 487
        },
        "id": "UeOw10Nd3VJt",
        "outputId": "d71b84a7-3aa7-4ce0-f838-94e6e98fcb34"
      },
      "source": [
        "train_encoding"
      ],
      "execution_count": 169,
      "outputs": [
        {
          "output_type": "execute_result",
          "data": {
            "text/html": [
              "<div>\n",
              "<style scoped>\n",
              "    .dataframe tbody tr th:only-of-type {\n",
              "        vertical-align: middle;\n",
              "    }\n",
              "\n",
              "    .dataframe tbody tr th {\n",
              "        vertical-align: top;\n",
              "    }\n",
              "\n",
              "    .dataframe thead th {\n",
              "        text-align: right;\n",
              "    }\n",
              "</style>\n",
              "<table border=\"1\" class=\"dataframe\">\n",
              "  <thead>\n",
              "    <tr style=\"text-align: right;\">\n",
              "      <th></th>\n",
              "      <th>CITIZEN_ID</th>\n",
              "      <th>Education Level</th>\n",
              "      <th>Years of Education</th>\n",
              "      <th>Working Hours per week</th>\n",
              "      <th>Money Received</th>\n",
              "      <th>Ticket Price</th>\n",
              "      <th>Income</th>\n",
              "      <th>Age</th>\n",
              "      <th>Northbury</th>\n",
              "      <th>Male</th>\n",
              "      <th>MONEY_TICKET</th>\n",
              "      <th>x0_Africa</th>\n",
              "      <th>x0_America</th>\n",
              "      <th>x0_Asia</th>\n",
              "      <th>x0_Europe</th>\n",
              "      <th>x0_Oceania</th>\n",
              "      <th>x1_Married</th>\n",
              "      <th>x1_Never Married</th>\n",
              "      <th>x1_Not Married</th>\n",
              "      <th>x2_Alone</th>\n",
              "      <th>x2_Children</th>\n",
              "      <th>x2_Other Family</th>\n",
              "      <th>x2_Spouse</th>\n",
              "      <th>x3_Not Working</th>\n",
              "      <th>x3_Private Sector</th>\n",
              "      <th>x3_Public Sector</th>\n",
              "      <th>x3_Self Employed</th>\n",
              "      <th>x4_1st Sector</th>\n",
              "      <th>x4_2nd Sector</th>\n",
              "      <th>x4_3rd Sector</th>\n",
              "      <th>x4_4th Sector</th>\n",
              "    </tr>\n",
              "  </thead>\n",
              "  <tbody>\n",
              "    <tr>\n",
              "      <th>0</th>\n",
              "      <td>12486</td>\n",
              "      <td>4</td>\n",
              "      <td>13</td>\n",
              "      <td>40</td>\n",
              "      <td>0</td>\n",
              "      <td>2273</td>\n",
              "      <td>1</td>\n",
              "      <td>45</td>\n",
              "      <td>1</td>\n",
              "      <td>1</td>\n",
              "      <td>2273</td>\n",
              "      <td>0.0</td>\n",
              "      <td>0.0</td>\n",
              "      <td>0.0</td>\n",
              "      <td>1.0</td>\n",
              "      <td>0.0</td>\n",
              "      <td>1.0</td>\n",
              "      <td>0.0</td>\n",
              "      <td>0.0</td>\n",
              "      <td>0.0</td>\n",
              "      <td>0.0</td>\n",
              "      <td>0.0</td>\n",
              "      <td>1.0</td>\n",
              "      <td>0.0</td>\n",
              "      <td>1.0</td>\n",
              "      <td>0.0</td>\n",
              "      <td>0.0</td>\n",
              "      <td>0.0</td>\n",
              "      <td>1.0</td>\n",
              "      <td>0.0</td>\n",
              "      <td>0.0</td>\n",
              "    </tr>\n",
              "    <tr>\n",
              "      <th>1</th>\n",
              "      <td>12487</td>\n",
              "      <td>2</td>\n",
              "      <td>12</td>\n",
              "      <td>40</td>\n",
              "      <td>0</td>\n",
              "      <td>0</td>\n",
              "      <td>1</td>\n",
              "      <td>42</td>\n",
              "      <td>1</td>\n",
              "      <td>1</td>\n",
              "      <td>0</td>\n",
              "      <td>0.0</td>\n",
              "      <td>0.0</td>\n",
              "      <td>0.0</td>\n",
              "      <td>1.0</td>\n",
              "      <td>0.0</td>\n",
              "      <td>1.0</td>\n",
              "      <td>0.0</td>\n",
              "      <td>0.0</td>\n",
              "      <td>0.0</td>\n",
              "      <td>0.0</td>\n",
              "      <td>0.0</td>\n",
              "      <td>1.0</td>\n",
              "      <td>0.0</td>\n",
              "      <td>0.0</td>\n",
              "      <td>1.0</td>\n",
              "      <td>0.0</td>\n",
              "      <td>0.0</td>\n",
              "      <td>1.0</td>\n",
              "      <td>0.0</td>\n",
              "      <td>0.0</td>\n",
              "    </tr>\n",
              "    <tr>\n",
              "      <th>2</th>\n",
              "      <td>12488</td>\n",
              "      <td>2</td>\n",
              "      <td>12</td>\n",
              "      <td>46</td>\n",
              "      <td>0</td>\n",
              "      <td>2321</td>\n",
              "      <td>1</td>\n",
              "      <td>39</td>\n",
              "      <td>1</td>\n",
              "      <td>1</td>\n",
              "      <td>2321</td>\n",
              "      <td>0.0</td>\n",
              "      <td>0.0</td>\n",
              "      <td>0.0</td>\n",
              "      <td>1.0</td>\n",
              "      <td>0.0</td>\n",
              "      <td>1.0</td>\n",
              "      <td>0.0</td>\n",
              "      <td>0.0</td>\n",
              "      <td>0.0</td>\n",
              "      <td>0.0</td>\n",
              "      <td>0.0</td>\n",
              "      <td>1.0</td>\n",
              "      <td>0.0</td>\n",
              "      <td>1.0</td>\n",
              "      <td>0.0</td>\n",
              "      <td>0.0</td>\n",
              "      <td>0.0</td>\n",
              "      <td>0.0</td>\n",
              "      <td>1.0</td>\n",
              "      <td>0.0</td>\n",
              "    </tr>\n",
              "    <tr>\n",
              "      <th>3</th>\n",
              "      <td>12489</td>\n",
              "      <td>0</td>\n",
              "      <td>11</td>\n",
              "      <td>37</td>\n",
              "      <td>-5395</td>\n",
              "      <td>0</td>\n",
              "      <td>1</td>\n",
              "      <td>63</td>\n",
              "      <td>1</td>\n",
              "      <td>1</td>\n",
              "      <td>-53950</td>\n",
              "      <td>0.0</td>\n",
              "      <td>0.0</td>\n",
              "      <td>0.0</td>\n",
              "      <td>1.0</td>\n",
              "      <td>0.0</td>\n",
              "      <td>1.0</td>\n",
              "      <td>0.0</td>\n",
              "      <td>0.0</td>\n",
              "      <td>0.0</td>\n",
              "      <td>0.0</td>\n",
              "      <td>0.0</td>\n",
              "      <td>1.0</td>\n",
              "      <td>0.0</td>\n",
              "      <td>1.0</td>\n",
              "      <td>0.0</td>\n",
              "      <td>0.0</td>\n",
              "      <td>0.0</td>\n",
              "      <td>0.0</td>\n",
              "      <td>1.0</td>\n",
              "      <td>0.0</td>\n",
              "    </tr>\n",
              "    <tr>\n",
              "      <th>4</th>\n",
              "      <td>12490</td>\n",
              "      <td>5</td>\n",
              "      <td>21</td>\n",
              "      <td>45</td>\n",
              "      <td>0</td>\n",
              "      <td>0</td>\n",
              "      <td>1</td>\n",
              "      <td>33</td>\n",
              "      <td>1</td>\n",
              "      <td>1</td>\n",
              "      <td>0</td>\n",
              "      <td>0.0</td>\n",
              "      <td>0.0</td>\n",
              "      <td>0.0</td>\n",
              "      <td>1.0</td>\n",
              "      <td>0.0</td>\n",
              "      <td>0.0</td>\n",
              "      <td>1.0</td>\n",
              "      <td>0.0</td>\n",
              "      <td>0.0</td>\n",
              "      <td>0.0</td>\n",
              "      <td>1.0</td>\n",
              "      <td>0.0</td>\n",
              "      <td>0.0</td>\n",
              "      <td>0.0</td>\n",
              "      <td>0.0</td>\n",
              "      <td>1.0</td>\n",
              "      <td>0.0</td>\n",
              "      <td>0.0</td>\n",
              "      <td>0.0</td>\n",
              "      <td>1.0</td>\n",
              "    </tr>\n",
              "    <tr>\n",
              "      <th>...</th>\n",
              "      <td>...</td>\n",
              "      <td>...</td>\n",
              "      <td>...</td>\n",
              "      <td>...</td>\n",
              "      <td>...</td>\n",
              "      <td>...</td>\n",
              "      <td>...</td>\n",
              "      <td>...</td>\n",
              "      <td>...</td>\n",
              "      <td>...</td>\n",
              "      <td>...</td>\n",
              "      <td>...</td>\n",
              "      <td>...</td>\n",
              "      <td>...</td>\n",
              "      <td>...</td>\n",
              "      <td>...</td>\n",
              "      <td>...</td>\n",
              "      <td>...</td>\n",
              "      <td>...</td>\n",
              "      <td>...</td>\n",
              "      <td>...</td>\n",
              "      <td>...</td>\n",
              "      <td>...</td>\n",
              "      <td>...</td>\n",
              "      <td>...</td>\n",
              "      <td>...</td>\n",
              "      <td>...</td>\n",
              "      <td>...</td>\n",
              "      <td>...</td>\n",
              "      <td>...</td>\n",
              "      <td>...</td>\n",
              "    </tr>\n",
              "    <tr>\n",
              "      <th>22395</th>\n",
              "      <td>34881</td>\n",
              "      <td>2</td>\n",
              "      <td>12</td>\n",
              "      <td>40</td>\n",
              "      <td>0</td>\n",
              "      <td>0</td>\n",
              "      <td>0</td>\n",
              "      <td>25</td>\n",
              "      <td>1</td>\n",
              "      <td>0</td>\n",
              "      <td>0</td>\n",
              "      <td>0.0</td>\n",
              "      <td>0.0</td>\n",
              "      <td>0.0</td>\n",
              "      <td>1.0</td>\n",
              "      <td>0.0</td>\n",
              "      <td>0.0</td>\n",
              "      <td>0.0</td>\n",
              "      <td>1.0</td>\n",
              "      <td>0.0</td>\n",
              "      <td>1.0</td>\n",
              "      <td>0.0</td>\n",
              "      <td>0.0</td>\n",
              "      <td>0.0</td>\n",
              "      <td>1.0</td>\n",
              "      <td>0.0</td>\n",
              "      <td>0.0</td>\n",
              "      <td>0.0</td>\n",
              "      <td>0.0</td>\n",
              "      <td>1.0</td>\n",
              "      <td>0.0</td>\n",
              "    </tr>\n",
              "    <tr>\n",
              "      <th>22396</th>\n",
              "      <td>34882</td>\n",
              "      <td>2</td>\n",
              "      <td>12</td>\n",
              "      <td>35</td>\n",
              "      <td>0</td>\n",
              "      <td>0</td>\n",
              "      <td>0</td>\n",
              "      <td>23</td>\n",
              "      <td>1</td>\n",
              "      <td>1</td>\n",
              "      <td>0</td>\n",
              "      <td>0.0</td>\n",
              "      <td>0.0</td>\n",
              "      <td>0.0</td>\n",
              "      <td>1.0</td>\n",
              "      <td>0.0</td>\n",
              "      <td>0.0</td>\n",
              "      <td>1.0</td>\n",
              "      <td>0.0</td>\n",
              "      <td>0.0</td>\n",
              "      <td>1.0</td>\n",
              "      <td>0.0</td>\n",
              "      <td>0.0</td>\n",
              "      <td>0.0</td>\n",
              "      <td>1.0</td>\n",
              "      <td>0.0</td>\n",
              "      <td>0.0</td>\n",
              "      <td>0.0</td>\n",
              "      <td>0.0</td>\n",
              "      <td>1.0</td>\n",
              "      <td>0.0</td>\n",
              "    </tr>\n",
              "    <tr>\n",
              "      <th>22397</th>\n",
              "      <td>34883</td>\n",
              "      <td>4</td>\n",
              "      <td>17</td>\n",
              "      <td>40</td>\n",
              "      <td>-2674</td>\n",
              "      <td>0</td>\n",
              "      <td>0</td>\n",
              "      <td>26</td>\n",
              "      <td>1</td>\n",
              "      <td>0</td>\n",
              "      <td>-26740</td>\n",
              "      <td>0.0</td>\n",
              "      <td>0.0</td>\n",
              "      <td>0.0</td>\n",
              "      <td>1.0</td>\n",
              "      <td>0.0</td>\n",
              "      <td>0.0</td>\n",
              "      <td>1.0</td>\n",
              "      <td>0.0</td>\n",
              "      <td>0.0</td>\n",
              "      <td>0.0</td>\n",
              "      <td>1.0</td>\n",
              "      <td>0.0</td>\n",
              "      <td>0.0</td>\n",
              "      <td>0.0</td>\n",
              "      <td>1.0</td>\n",
              "      <td>0.0</td>\n",
              "      <td>0.0</td>\n",
              "      <td>0.0</td>\n",
              "      <td>0.0</td>\n",
              "      <td>1.0</td>\n",
              "    </tr>\n",
              "    <tr>\n",
              "      <th>22398</th>\n",
              "      <td>34884</td>\n",
              "      <td>4</td>\n",
              "      <td>16</td>\n",
              "      <td>90</td>\n",
              "      <td>0</td>\n",
              "      <td>0</td>\n",
              "      <td>1</td>\n",
              "      <td>37</td>\n",
              "      <td>1</td>\n",
              "      <td>1</td>\n",
              "      <td>0</td>\n",
              "      <td>0.0</td>\n",
              "      <td>0.0</td>\n",
              "      <td>0.0</td>\n",
              "      <td>1.0</td>\n",
              "      <td>0.0</td>\n",
              "      <td>0.0</td>\n",
              "      <td>1.0</td>\n",
              "      <td>0.0</td>\n",
              "      <td>0.0</td>\n",
              "      <td>0.0</td>\n",
              "      <td>1.0</td>\n",
              "      <td>0.0</td>\n",
              "      <td>0.0</td>\n",
              "      <td>1.0</td>\n",
              "      <td>0.0</td>\n",
              "      <td>0.0</td>\n",
              "      <td>0.0</td>\n",
              "      <td>1.0</td>\n",
              "      <td>0.0</td>\n",
              "      <td>0.0</td>\n",
              "    </tr>\n",
              "    <tr>\n",
              "      <th>22399</th>\n",
              "      <td>34885</td>\n",
              "      <td>4</td>\n",
              "      <td>13</td>\n",
              "      <td>40</td>\n",
              "      <td>0</td>\n",
              "      <td>0</td>\n",
              "      <td>0</td>\n",
              "      <td>22</td>\n",
              "      <td>1</td>\n",
              "      <td>1</td>\n",
              "      <td>0</td>\n",
              "      <td>0.0</td>\n",
              "      <td>0.0</td>\n",
              "      <td>1.0</td>\n",
              "      <td>0.0</td>\n",
              "      <td>0.0</td>\n",
              "      <td>0.0</td>\n",
              "      <td>1.0</td>\n",
              "      <td>0.0</td>\n",
              "      <td>0.0</td>\n",
              "      <td>1.0</td>\n",
              "      <td>0.0</td>\n",
              "      <td>0.0</td>\n",
              "      <td>0.0</td>\n",
              "      <td>1.0</td>\n",
              "      <td>0.0</td>\n",
              "      <td>0.0</td>\n",
              "      <td>0.0</td>\n",
              "      <td>0.0</td>\n",
              "      <td>1.0</td>\n",
              "      <td>0.0</td>\n",
              "    </tr>\n",
              "  </tbody>\n",
              "</table>\n",
              "<p>22400 rows × 31 columns</p>\n",
              "</div>"
            ],
            "text/plain": [
              "       CITIZEN_ID  Education Level  ...  x4_3rd Sector  x4_4th Sector\n",
              "0           12486                4  ...            0.0            0.0\n",
              "1           12487                2  ...            0.0            0.0\n",
              "2           12488                2  ...            1.0            0.0\n",
              "3           12489                0  ...            1.0            0.0\n",
              "4           12490                5  ...            0.0            1.0\n",
              "...           ...              ...  ...            ...            ...\n",
              "22395       34881                2  ...            1.0            0.0\n",
              "22396       34882                2  ...            1.0            0.0\n",
              "22397       34883                4  ...            0.0            1.0\n",
              "22398       34884                4  ...            0.0            0.0\n",
              "22399       34885                4  ...            1.0            0.0\n",
              "\n",
              "[22400 rows x 31 columns]"
            ]
          },
          "metadata": {
            "tags": []
          },
          "execution_count": 169
        }
      ]
    },
    {
      "cell_type": "code",
      "metadata": {
        "id": "Fdyg25faTt45"
      },
      "source": [
        "hist_box_maker(train_encoding[[\"Years of Education\", \"Working Hours per week\", \"Age\", \"MONEY_TICKET\"]],\"yo\",8, 20, 20)"
      ],
      "execution_count": 186,
      "outputs": []
    },
    {
      "cell_type": "code",
      "metadata": {
        "id": "J81NDFYaJbS6",
        "outputId": "ebbb7cbb-1bf3-41cc-b0b3-3d48107a7f12",
        "colab": {
          "base_uri": "https://localhost:8080/"
        }
      },
      "source": [
        "train_encoding_corr=train_encoding.corr()\n",
        "plt.figure(figsize=(20,20))\n",
        "sns.heatmap(data = train_encoding_corr, annot = True, cmap=sns.diverging_palette(220, 10, as_cmap=True), fmt='.2',  vmin=-1, vmax=1, center=0,square=True )"
      ],
      "execution_count": 170,
      "outputs": [
        {
          "output_type": "execute_result",
          "data": {
            "text/plain": [
              "<matplotlib.axes._subplots.AxesSubplot at 0x7f894942b4a8>"
            ]
          },
          "metadata": {
            "tags": []
          },
          "execution_count": 170
        }
      ]
    },
    {
      "cell_type": "code",
      "metadata": {
        "id": "IjNhVYr1Q3HF"
      },
      "source": [
        "train_encoding = train_encoding.rename(columns={\"Native Continent\": \"CONTINENT\", \"Lives with\": \"LIVES_WITH\", 'Education Level': \"EDUCATION_LVL\",\n",
        "                      'Years of Education': \"YEARS_EDUCATION\", 'Employment Sector': \"EMPLOY_SECTOR\", 'Role': \"ECON_SECTOR\",\n",
        "                      'Working Hours per week': \"WORKING_HOURS\", 'Income': \"INCOME\",'Marital Status': \"MARITAL_STATUS\" })"
      ],
      "execution_count": 174,
      "outputs": []
    },
    {
      "cell_type": "code",
      "metadata": {
        "id": "_rZcns_wSkoZ"
      },
      "source": [
        "data_newland = train_encoding[['CITIZEN_ID', 'EDUCATION_LVL', 'YEARS_EDUCATION', 'WORKING_HOURS',\n",
        "       'Money Received', 'Ticket Price', 'Age', 'Northbury', 'Male',\n",
        "       'MONEY_TICKET', 'x0_Africa', 'x0_America', 'x0_Asia', 'x0_Europe',\n",
        "       'x0_Oceania', 'x1_Married', 'x1_Never Married', 'x1_Not Married',\n",
        "       'x2_Alone', 'x2_Children', 'x2_Other Family', 'x2_Spouse',\n",
        "       'x3_Not Working', 'x3_Private Sector', 'x3_Public Sector',\n",
        "       'x3_Self Employed', 'x4_1st Sector', 'x4_2nd Sector', 'x4_3rd Sector',\n",
        "       'x4_4th Sector']]\n",
        "target_newland = train_encoding[\"INCOME\"]"
      ],
      "execution_count": 177,
      "outputs": []
    },
    {
      "cell_type": "code",
      "metadata": {
        "id": "wtJ-Xll0S9Mw"
      },
      "source": [
        "X_train, X_val, y_train, y_val = train_test_split(data_newland, target_newland, test_size = 0.60, stratify = target_newland, random_state = 15)\n",
        "X_val, X_test, y_val, y_test = train_test_split(X_val, y_val, test_size = 0.50, stratify = y_val, random_state = 15)"
      ],
      "execution_count": 181,
      "outputs": []
    },
    {
      "cell_type": "markdown",
      "metadata": {
        "id": "wdwFVOR-r9xW"
      },
      "source": [
        "# **Data Standardization**"
      ]
    },
    {
      "cell_type": "code",
      "metadata": {
        "id": "YsuwxnbZVL26"
      },
      "source": [
        ""
      ],
      "execution_count": null,
      "outputs": []
    },
    {
      "cell_type": "markdown",
      "metadata": {
        "id": "JkOUssp0suxv"
      },
      "source": [
        "# **Feature Selection**"
      ]
    },
    {
      "cell_type": "markdown",
      "metadata": {
        "id": "lHuluPEPsyD2"
      },
      "source": [
        "# **Artificial Resampling**"
      ]
    },
    {
      "cell_type": "markdown",
      "metadata": {
        "id": "7oBwQQS2s1UQ"
      },
      "source": [
        "# **Model Exploration**"
      ]
    },
    {
      "cell_type": "markdown",
      "metadata": {
        "id": "DEm16Yh3s3vF"
      },
      "source": [
        "# **Final Model**"
      ]
    },
    {
      "cell_type": "markdown",
      "metadata": {
        "id": "pUQsB_S1s5yY"
      },
      "source": [
        "# **Assess**"
      ]
    },
    {
      "cell_type": "markdown",
      "metadata": {
        "id": "HFo0KYYbs8FQ"
      },
      "source": [
        "# **Limitations and Conclusions**"
      ]
    }
  ]
}