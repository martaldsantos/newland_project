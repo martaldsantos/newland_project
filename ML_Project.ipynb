{
 "cells": [
  {
   "cell_type": "markdown",
   "metadata": {
    "heading_collapsed": true
   },
   "source": [
    "## Machine Learning Project"
   ]
  },
  {
   "cell_type": "markdown",
   "metadata": {
    "heading_collapsed": true,
    "hidden": true
   },
   "source": [
    "### Importing the Libraries and Packages"
   ]
  },
  {
   "cell_type": "code",
   "execution_count": 1,
   "metadata": {
    "ExecuteTime": {
     "end_time": "2020-11-24T12:03:25.820833Z",
     "start_time": "2020-11-24T12:03:25.790560Z"
    },
    "hidden": true
   },
   "outputs": [],
   "source": [
    "import pandas as pd\n",
    "import datetime\n",
    "import numpy as np\n",
    "import scipy as sc\n",
    "import pandas as pd\n",
    "import matplotlib.pyplot as plt\n",
    "from matplotlib import style\n",
    "import seaborn as sns\n",
    "from math import ceil\n",
    "from pandas_profiling import ProfileReport\n",
    "import scipy.cluster.hierarchy as shc\n",
    "from sklearn import datasets\n",
    "from sklearn.feature_selection import VarianceThreshold\n",
    "from sklearn.preprocessing import OneHotEncoder\n",
    "\n",
    "# for better resolution plots\n",
    "%config InlineBackend.figure_format = 'retina' # optionally, you can change 'svg' to 'retina'\n",
    "\n",
    "\n",
    "import warnings\n",
    "warnings.filterwarnings(\"ignore\")"
   ]
  },
  {
   "cell_type": "markdown",
   "metadata": {
    "heading_collapsed": true,
    "hidden": true
   },
   "source": [
    "### Some Functions that we are going to use"
   ]
  },
  {
   "cell_type": "code",
   "execution_count": 32,
   "metadata": {
    "ExecuteTime": {
     "end_time": "2020-11-24T12:21:27.252985Z",
     "start_time": "2020-11-24T12:21:27.232206Z"
    },
    "hidden": true
   },
   "outputs": [],
   "source": [
    "def birthday_to_age(df, column, new_column):\n",
    "    '''\n",
    "    This function creates a column representing the difference in years from a given birth year column values\n",
    "    Having into account that we are on the year 2048\n",
    "    '''\n",
    "    \n",
    "    df[new_column] = df[column].map(lambda x : 2048 - x)\n",
    "    \n",
    "def questionmark_to_nan(df, column):\n",
    "    '''\n",
    "    This function turns a binary variable with missing values as '?' in NaN\n",
    "    It needs as input the dataframe and the column name \n",
    "    (column name needs to be between '')\n",
    "    '''\n",
    "    df[column] = df[column].map(lambda x: np.nan if x == '?' else x)\n",
    "    \n",
    "def ohe(df, column_list):\n",
    "    ohc = OneHotEncoder(sparse = False)\n",
    "    ohc_feat = ohc.fit_transform(df[column_list])\n",
    "    ohc_feat_names = ohc.get_feature_names()\n",
    "    ohc_df = pd.DataFrame(ohc_feat, index = df.index, columns = ohc_feat_names)\n",
    "    return ohc_df"
   ]
  },
  {
   "cell_type": "markdown",
   "metadata": {
    "heading_collapsed": true
   },
   "source": [
    "## Import data"
   ]
  },
  {
   "cell_type": "code",
   "execution_count": 3,
   "metadata": {
    "ExecuteTime": {
     "end_time": "2020-11-24T11:15:28.920836Z",
     "start_time": "2020-11-24T11:15:25.167658Z"
    },
    "hidden": true
   },
   "outputs": [],
   "source": [
    "train = pd.read_excel(\"Train.xlsx\")\n",
    "test = pd.read_excel(\"Test.xlsx\")"
   ]
  },
  {
   "cell_type": "markdown",
   "metadata": {
    "heading_collapsed": true
   },
   "source": [
    "## Data Inspection"
   ]
  },
  {
   "cell_type": "code",
   "execution_count": 4,
   "metadata": {
    "hidden": true
   },
   "outputs": [
    {
     "data": {
      "text/html": [
       "<div>\n",
       "<style scoped>\n",
       "    .dataframe tbody tr th:only-of-type {\n",
       "        vertical-align: middle;\n",
       "    }\n",
       "\n",
       "    .dataframe tbody tr th {\n",
       "        vertical-align: top;\n",
       "    }\n",
       "\n",
       "    .dataframe thead th {\n",
       "        text-align: right;\n",
       "    }\n",
       "</style>\n",
       "<table border=\"1\" class=\"dataframe\">\n",
       "  <thead>\n",
       "    <tr style=\"text-align: right;\">\n",
       "      <th></th>\n",
       "      <th>CITIZEN_ID</th>\n",
       "      <th>Name</th>\n",
       "      <th>Birthday</th>\n",
       "      <th>Native Continent</th>\n",
       "      <th>Marital Status</th>\n",
       "      <th>Lives with</th>\n",
       "      <th>Base Area</th>\n",
       "      <th>Education Level</th>\n",
       "      <th>Years of Education</th>\n",
       "      <th>Employment Sector</th>\n",
       "      <th>Role</th>\n",
       "      <th>Working Hours per week</th>\n",
       "      <th>Money Received</th>\n",
       "      <th>Ticket Price</th>\n",
       "      <th>Income</th>\n",
       "    </tr>\n",
       "  </thead>\n",
       "  <tbody>\n",
       "    <tr>\n",
       "      <th>0</th>\n",
       "      <td>12486</td>\n",
       "      <td>Mr. Adam Glover</td>\n",
       "      <td>July 1,2003</td>\n",
       "      <td>Europe</td>\n",
       "      <td>Married</td>\n",
       "      <td>Wife</td>\n",
       "      <td>Northbury</td>\n",
       "      <td>High School + PostGraduation</td>\n",
       "      <td>13</td>\n",
       "      <td>Private Sector - Services</td>\n",
       "      <td>Repair &amp; constructions</td>\n",
       "      <td>40</td>\n",
       "      <td>0</td>\n",
       "      <td>2273</td>\n",
       "      <td>1</td>\n",
       "    </tr>\n",
       "    <tr>\n",
       "      <th>1</th>\n",
       "      <td>12487</td>\n",
       "      <td>Mr. Cameron McDonald</td>\n",
       "      <td>January 25,2006</td>\n",
       "      <td>Europe</td>\n",
       "      <td>Married</td>\n",
       "      <td>Wife</td>\n",
       "      <td>Northbury</td>\n",
       "      <td>Professional School</td>\n",
       "      <td>12</td>\n",
       "      <td>Public Sector - Others</td>\n",
       "      <td>Repair &amp; constructions</td>\n",
       "      <td>40</td>\n",
       "      <td>0</td>\n",
       "      <td>0</td>\n",
       "      <td>1</td>\n",
       "    </tr>\n",
       "    <tr>\n",
       "      <th>2</th>\n",
       "      <td>12488</td>\n",
       "      <td>Mr. Keith Davidson</td>\n",
       "      <td>May 10,2009</td>\n",
       "      <td>Europe</td>\n",
       "      <td>Married</td>\n",
       "      <td>Wife</td>\n",
       "      <td>Northbury</td>\n",
       "      <td>Professional School</td>\n",
       "      <td>12</td>\n",
       "      <td>Private Sector - Services</td>\n",
       "      <td>Sales</td>\n",
       "      <td>46</td>\n",
       "      <td>0</td>\n",
       "      <td>2321</td>\n",
       "      <td>1</td>\n",
       "    </tr>\n",
       "    <tr>\n",
       "      <th>3</th>\n",
       "      <td>12489</td>\n",
       "      <td>Mr. Alexander Gill</td>\n",
       "      <td>March 25,1985</td>\n",
       "      <td>Europe</td>\n",
       "      <td>Married</td>\n",
       "      <td>Wife</td>\n",
       "      <td>Northbury</td>\n",
       "      <td>High School - 2nd Cycle</td>\n",
       "      <td>11</td>\n",
       "      <td>Private Sector - Services</td>\n",
       "      <td>Security</td>\n",
       "      <td>37</td>\n",
       "      <td>5395</td>\n",
       "      <td>0</td>\n",
       "      <td>1</td>\n",
       "    </tr>\n",
       "    <tr>\n",
       "      <th>4</th>\n",
       "      <td>12490</td>\n",
       "      <td>Mr. Neil Piper</td>\n",
       "      <td>May 29,2015</td>\n",
       "      <td>Europe</td>\n",
       "      <td>Single</td>\n",
       "      <td>Other Family</td>\n",
       "      <td>Northbury</td>\n",
       "      <td>PhD</td>\n",
       "      <td>21</td>\n",
       "      <td>Self-Employed (Individual)</td>\n",
       "      <td>Professor</td>\n",
       "      <td>45</td>\n",
       "      <td>0</td>\n",
       "      <td>0</td>\n",
       "      <td>1</td>\n",
       "    </tr>\n",
       "  </tbody>\n",
       "</table>\n",
       "</div>"
      ],
      "text/plain": [
       "   CITIZEN_ID                  Name          Birthday Native Continent  \\\n",
       "0       12486       Mr. Adam Glover       July 1,2003           Europe   \n",
       "1       12487  Mr. Cameron McDonald   January 25,2006           Europe   \n",
       "2       12488    Mr. Keith Davidson       May 10,2009           Europe   \n",
       "3       12489    Mr. Alexander Gill     March 25,1985           Europe   \n",
       "4       12490        Mr. Neil Piper       May 29,2015           Europe   \n",
       "\n",
       "  Marital Status    Lives with  Base Area               Education Level  \\\n",
       "0        Married          Wife  Northbury  High School + PostGraduation   \n",
       "1        Married          Wife  Northbury           Professional School   \n",
       "2        Married          Wife  Northbury           Professional School   \n",
       "3        Married          Wife  Northbury       High School - 2nd Cycle   \n",
       "4         Single  Other Family  Northbury                           PhD   \n",
       "\n",
       "   Years of Education           Employment Sector                    Role  \\\n",
       "0                  13  Private Sector - Services   Repair & constructions   \n",
       "1                  12      Public Sector - Others  Repair & constructions   \n",
       "2                  12  Private Sector - Services                    Sales   \n",
       "3                  11  Private Sector - Services                 Security   \n",
       "4                  21  Self-Employed (Individual)               Professor   \n",
       "\n",
       "   Working Hours per week  Money Received  Ticket Price  Income  \n",
       "0                      40               0          2273       1  \n",
       "1                      40               0             0       1  \n",
       "2                      46               0          2321       1  \n",
       "3                      37            5395             0       1  \n",
       "4                      45               0             0       1  "
      ]
     },
     "execution_count": 4,
     "metadata": {},
     "output_type": "execute_result"
    }
   ],
   "source": [
    "train.head() #Data was imported correctly"
   ]
  },
  {
   "cell_type": "code",
   "execution_count": 5,
   "metadata": {
    "ExecuteTime": {
     "end_time": "2020-11-24T12:34:30.474435Z",
     "start_time": "2020-11-24T12:34:30.430256Z"
    },
    "hidden": true,
    "scrolled": true
   },
   "outputs": [
    {
     "data": {
      "text/plain": [
       "CITIZEN_ID                 int64\n",
       "Name                      object\n",
       "Birthday                  object\n",
       "Native Continent          object\n",
       "Marital Status            object\n",
       "Lives with                object\n",
       "Base Area                 object\n",
       "Education Level           object\n",
       "Years of Education         int64\n",
       "Employment Sector         object\n",
       "Role                      object\n",
       "Working Hours per week     int64\n",
       "Money Received             int64\n",
       "Ticket Price               int64\n",
       "Income                     int64\n",
       "dtype: object"
      ]
     },
     "execution_count": 5,
     "metadata": {},
     "output_type": "execute_result"
    }
   ],
   "source": [
    "train.dtypes #No column seems to have, for now, a wrong dtype, except Birthday"
   ]
  },
  {
   "cell_type": "code",
   "execution_count": 6,
   "metadata": {
    "hidden": true
   },
   "outputs": [
    {
     "data": {
      "text/plain": [
       "CITIZEN_ID                0\n",
       "Name                      0\n",
       "Birthday                  0\n",
       "Native Continent          0\n",
       "Marital Status            0\n",
       "Lives with                0\n",
       "Base Area                 0\n",
       "Education Level           0\n",
       "Years of Education        0\n",
       "Employment Sector         0\n",
       "Role                      0\n",
       "Working Hours per week    0\n",
       "Money Received            0\n",
       "Ticket Price              0\n",
       "Income                    0\n",
       "dtype: int64"
      ]
     },
     "execution_count": 6,
     "metadata": {},
     "output_type": "execute_result"
    }
   ],
   "source": [
    "train.isna().sum() #No \"immediate\" missing values"
   ]
  },
  {
   "cell_type": "markdown",
   "metadata": {
    "heading_collapsed": true
   },
   "source": [
    "## Data Treatment\n"
   ]
  },
  {
   "cell_type": "markdown",
   "metadata": {
    "heading_collapsed": true,
    "hidden": true
   },
   "source": [
    "### Categorical Variables Treatment"
   ]
  },
  {
   "cell_type": "markdown",
   "metadata": {
    "hidden": true
   },
   "source": [
    "Lets start to treat the object type variables.\n",
    "\n",
    "Remember that no variables seemed to show missing values."
   ]
  },
  {
   "cell_type": "code",
   "execution_count": 88,
   "metadata": {
    "hidden": true
   },
   "outputs": [
    {
     "data": {
      "text/plain": [
       "CITIZEN_ID                 int64\n",
       "Name                      object\n",
       "Birthday                  object\n",
       "Native Continent          object\n",
       "Marital Status            object\n",
       "Lives with                object\n",
       "Base Area                 object\n",
       "Education Level           object\n",
       "Years of Education         int64\n",
       "Employment Sector         object\n",
       "Role                      object\n",
       "Working Hours per week     int64\n",
       "Money Received             int64\n",
       "Ticket Price               int64\n",
       "Income                     int64\n",
       "dtype: object"
      ]
     },
     "execution_count": 88,
     "metadata": {},
     "output_type": "execute_result"
    }
   ],
   "source": [
    "train.dtypes"
   ]
  },
  {
   "cell_type": "code",
   "execution_count": 9,
   "metadata": {
    "ExecuteTime": {
     "end_time": "2020-11-24T11:17:37.475714Z",
     "start_time": "2020-11-24T11:17:37.462241Z"
    },
    "hidden": true
   },
   "outputs": [
    {
     "data": {
      "text/plain": [
       "Europe     19111\n",
       "Africa      2187\n",
       "Asia         699\n",
       "America      219\n",
       "Oceania      184\n",
       "Name: Native Continent, dtype: int64"
      ]
     },
     "execution_count": 9,
     "metadata": {},
     "output_type": "execute_result"
    }
   ],
   "source": [
    "train['Native Continent'].value_counts()"
   ]
  },
  {
   "cell_type": "markdown",
   "metadata": {
    "hidden": true
   },
   "source": [
    "All seems fine.\n",
    "\n",
    "However in order to use Native Continent on our models we will need to later perform one hot encoding.\n",
    "\n",
    "We can't use label encoding since the categories aren't ordered and we would be inducing orders or hierarchies were they don't exist."
   ]
  },
  {
   "cell_type": "code",
   "execution_count": 10,
   "metadata": {
    "ExecuteTime": {
     "end_time": "2020-11-24T11:17:56.362760Z",
     "start_time": "2020-11-24T11:17:56.353820Z"
    },
    "hidden": true
   },
   "outputs": [
    {
     "data": {
      "text/plain": [
       "Married                         10219\n",
       "Single                           7416\n",
       "Divorced                         3072\n",
       "Separated                         699\n",
       "Widow                             696\n",
       "Married - Spouse Missing          284\n",
       "Married - Spouse in the Army       14\n",
       "Name: Marital Status, dtype: int64"
      ]
     },
     "execution_count": 10,
     "metadata": {},
     "output_type": "execute_result"
    }
   ],
   "source": [
    "train['Marital Status'].value_counts()\n",
    "\n",
    "#Tmb seria bue interessante comparar value importancy e accuracy dos modelos com ou sem estas observações\n",
    "#Isto vale para todas as variáveis semelhantes"
   ]
  },
  {
   "cell_type": "markdown",
   "metadata": {
    "hidden": true
   },
   "source": [
    "There are no weird values and one hot encoding will be needed for the same reasons as in the previous variable.\n",
    "\n",
    "However some values seem to specific and have very little representation on the observations, so we will \"standardize\" this values: \"Married - Spouse Missing\" and \"Married - Spouse in the Army\" will be changed to \"Married\"."
   ]
  },
  {
   "cell_type": "code",
   "execution_count": 13,
   "metadata": {
    "hidden": true
   },
   "outputs": [],
   "source": [
    "train['Marital Status'] = train['Marital Status'].map(lambda x: 'Married' if ((x == 'Married - Spouse Missing') \n",
    "                                                                              | (x == 'Married - Spouse in the Army')\n",
    "                                                                             ) else x)"
   ]
  },
  {
   "cell_type": "code",
   "execution_count": 14,
   "metadata": {
    "hidden": true
   },
   "outputs": [
    {
     "data": {
      "text/plain": [
       "Married      10517\n",
       "Single        7416\n",
       "Divorced      3072\n",
       "Separated      699\n",
       "Widow          696\n",
       "Name: Marital Status, dtype: int64"
      ]
     },
     "execution_count": 14,
     "metadata": {},
     "output_type": "execute_result"
    }
   ],
   "source": [
    "train['Marital Status'].value_counts()"
   ]
  },
  {
   "cell_type": "code",
   "execution_count": 4,
   "metadata": {
    "ExecuteTime": {
     "end_time": "2020-11-24T11:18:21.793518Z",
     "start_time": "2020-11-24T11:18:21.778374Z"
    },
    "hidden": true
   },
   "outputs": [
    {
     "data": {
      "text/plain": [
       "Wife               9012\n",
       "Other Family       5777\n",
       "Children           3519\n",
       "Alone              2362\n",
       "Husband            1049\n",
       "Other relatives     681\n",
       "Name: Lives with, dtype: int64"
      ]
     },
     "execution_count": 4,
     "metadata": {},
     "output_type": "execute_result"
    }
   ],
   "source": [
    "train['Lives with'].value_counts() #All seems fine\n",
    "\n",
    "#Falta \"standardizar\" Wife-Husband to Spouse e Other Relatives to Other Family\n",
    "#Fazer One-hot encoding"
   ]
  },
  {
   "cell_type": "markdown",
   "metadata": {
    "hidden": true
   },
   "source": [
    "There is no point in discretizing between living with Wife or Husband, so we will aggregate it in Spouse.\n",
    "Same thing with other relatives and Other Family."
   ]
  },
  {
   "cell_type": "code",
   "execution_count": 5,
   "metadata": {
    "hidden": true
   },
   "outputs": [],
   "source": [
    "train['Lives with'] = train['Lives with'].map(lambda x: 'Spouse' if ((x == 'Wife') | (x == 'Husband')) else x)"
   ]
  },
  {
   "cell_type": "code",
   "execution_count": 6,
   "metadata": {
    "hidden": true
   },
   "outputs": [],
   "source": [
    "train['Lives with'] = train['Lives with'].map(lambda x: 'Other Family' if (x == 'Other relatives') else x)"
   ]
  },
  {
   "cell_type": "code",
   "execution_count": 7,
   "metadata": {
    "hidden": true
   },
   "outputs": [
    {
     "data": {
      "text/plain": [
       "Spouse          10061\n",
       "Other Family     6458\n",
       "Children         3519\n",
       "Alone            2362\n",
       "Name: Lives with, dtype: int64"
      ]
     },
     "execution_count": 7,
     "metadata": {},
     "output_type": "execute_result"
    }
   ],
   "source": [
    "train['Lives with'].value_counts()"
   ]
  },
  {
   "cell_type": "code",
   "execution_count": 65,
   "metadata": {
    "ExecuteTime": {
     "end_time": "2020-11-24T11:18:50.008124Z",
     "start_time": "2020-11-24T11:18:49.980502Z"
    },
    "hidden": true
   },
   "outputs": [
    {
     "data": {
      "text/plain": [
       "Northbury        20074\n",
       "Fanfoss            443\n",
       "?                  395\n",
       "Alverton           135\n",
       "Butterpond          96\n",
       "Watford             83\n",
       "Auchenshuggle       80\n",
       "Pran                77\n",
       "Sharnwick           70\n",
       "Aroonshire          64\n",
       "Laewaes             63\n",
       "Fool's March        59\n",
       "Wigston             56\n",
       "Eelry               56\n",
       "Sharpton            54\n",
       "Lanercost           52\n",
       "Cherrytown          51\n",
       "Aerilon             45\n",
       "King's Watch        44\n",
       "Kirkwall            40\n",
       "Bellmoral           40\n",
       "Knife's Edge        37\n",
       "Laenteglos          32\n",
       "Tranmere            30\n",
       "Drumchapel          25\n",
       "Aberuthven          23\n",
       "Orilon              22\n",
       "Kald                19\n",
       "Carlisle            18\n",
       "MillerVille         17\n",
       "Willesden           16\n",
       "Lewes               16\n",
       "Conriston           12\n",
       "Marnmouth           11\n",
       "Middlesbrough       10\n",
       "Mensfield            9\n",
       "Woodpine             9\n",
       "Redwick Bush         8\n",
       "Bellenau             8\n",
       "Ironforge            1\n",
       "Name: Base Area, dtype: int64"
      ]
     },
     "execution_count": 65,
     "metadata": {},
     "output_type": "execute_result"
    }
   ],
   "source": [
    "train['Base Area'].value_counts() #We have '?' values, wich are clearly missing values, so we have to turn them in to ones\n",
    "\n",
    "#Falta fazer fillNA\n",
    "#Provavelmente n vamos poder usar esta variável pois seria necessário fazer one hot encoding e íamos criar muitas variáveis\n",
    "#No entanto conseguimos ver que a maior parte das observações são de Northbury, então uma variável binária sobre este valor\n",
    "#talvez seja fixe"
   ]
  },
  {
   "cell_type": "code",
   "execution_count": 66,
   "metadata": {
    "hidden": true
   },
   "outputs": [],
   "source": [
    "questionmark_to_nan(train, 'Base Area') #Turns '?' in to NaN"
   ]
  },
  {
   "cell_type": "code",
   "execution_count": 69,
   "metadata": {
    "hidden": true
   },
   "outputs": [
    {
     "name": "stdout",
     "output_type": "stream",
     "text": [
      "395\n"
     ]
    },
    {
     "data": {
      "text/plain": [
       "Northbury        20074\n",
       "Fanfoss            443\n",
       "Alverton           135\n",
       "Butterpond          96\n",
       "Watford             83\n",
       "Auchenshuggle       80\n",
       "Pran                77\n",
       "Sharnwick           70\n",
       "Aroonshire          64\n",
       "Laewaes             63\n",
       "Fool's March        59\n",
       "Eelry               56\n",
       "Wigston             56\n",
       "Sharpton            54\n",
       "Lanercost           52\n",
       "Cherrytown          51\n",
       "Aerilon             45\n",
       "King's Watch        44\n",
       "Kirkwall            40\n",
       "Bellmoral           40\n",
       "Knife's Edge        37\n",
       "Laenteglos          32\n",
       "Tranmere            30\n",
       "Drumchapel          25\n",
       "Aberuthven          23\n",
       "Orilon              22\n",
       "Kald                19\n",
       "Carlisle            18\n",
       "MillerVille         17\n",
       "Willesden           16\n",
       "Lewes               16\n",
       "Conriston           12\n",
       "Marnmouth           11\n",
       "Middlesbrough       10\n",
       "Mensfield            9\n",
       "Woodpine             9\n",
       "Redwick Bush         8\n",
       "Bellenau             8\n",
       "Ironforge            1\n",
       "Name: Base Area, dtype: int64"
      ]
     },
     "execution_count": 69,
     "metadata": {},
     "output_type": "execute_result"
    }
   ],
   "source": [
    "#Problem resolved\n",
    "\n",
    "print(train['Base Area'].isna().sum())\n",
    "\n",
    "train['Base Area'].value_counts()"
   ]
  },
  {
   "cell_type": "code",
   "execution_count": 14,
   "metadata": {
    "ExecuteTime": {
     "end_time": "2020-11-24T11:19:06.062528Z",
     "start_time": "2020-11-24T11:19:06.049563Z"
    },
    "hidden": true
   },
   "outputs": [
    {
     "data": {
      "text/plain": [
       "Professional School                     7232\n",
       "High School + PostGraduation            4994\n",
       "Bachelors + PostGraduation              3696\n",
       "Masters                                 1193\n",
       "Professional School + PostGraduation     953\n",
       "High School - 2nd Cycle                  809\n",
       "Bachelors                                735\n",
       "High School - 1st Cycle                  649\n",
       "Middle School - 2nd Cycle                432\n",
       "Masters + PostGraduation                 397\n",
       "Middle School Complete                   342\n",
       "PhD                                      289\n",
       "High School Complete                     287\n",
       "Middle School - 1st Cycle                237\n",
       "Primary School                           122\n",
       "Preschool                                 33\n",
       "Name: Education Level, dtype: int64"
      ]
     },
     "execution_count": 14,
     "metadata": {},
     "output_type": "execute_result"
    }
   ],
   "source": [
    "train['Education Level'].value_counts() #All seems fine\n",
    "\n",
    "#É preciso fazer muita standardização\n",
    "\n",
    "#Após a standardização, aqui já podemos usar label encoding, uma vez que há uma ordem entre as categorias!!"
   ]
  },
  {
   "cell_type": "code",
   "execution_count": 70,
   "metadata": {
    "ExecuteTime": {
     "end_time": "2020-11-24T11:19:20.467050Z",
     "start_time": "2020-11-24T11:19:20.457072Z"
    },
    "hidden": true
   },
   "outputs": [
    {
     "data": {
      "text/plain": [
       "Private Sector - Services     15599\n",
       "Self-Employed (Individual)     1764\n",
       "Public Sector - Others         1419\n",
       "?                              1264\n",
       "Private Sector - Others         880\n",
       "Self-Employed (Company)         763\n",
       "Public Sector - Government      692\n",
       "Unemployed                       12\n",
       "Never Worked                      7\n",
       "Name: Employment Sector, dtype: int64"
      ]
     },
     "execution_count": 70,
     "metadata": {},
     "output_type": "execute_result"
    }
   ],
   "source": [
    "train['Employment Sector'].value_counts() #Has the same missing values problem as before\n",
    "\n",
    "#Falta \"standardização\" e one hot encoding"
   ]
  },
  {
   "cell_type": "code",
   "execution_count": 71,
   "metadata": {
    "hidden": true
   },
   "outputs": [],
   "source": [
    "questionmark_to_nan(train, 'Employment Sector') #Turns '?' in to NaN"
   ]
  },
  {
   "cell_type": "code",
   "execution_count": 73,
   "metadata": {
    "hidden": true
   },
   "outputs": [
    {
     "name": "stdout",
     "output_type": "stream",
     "text": [
      "1264\n"
     ]
    },
    {
     "data": {
      "text/plain": [
       "Private Sector - Services     15599\n",
       "Self-Employed (Individual)     1764\n",
       "Public Sector - Others         1419\n",
       "Private Sector - Others         880\n",
       "Self-Employed (Company)         763\n",
       "Public Sector - Government      692\n",
       "Unemployed                       12\n",
       "Never Worked                      7\n",
       "Name: Employment Sector, dtype: int64"
      ]
     },
     "execution_count": 73,
     "metadata": {},
     "output_type": "execute_result"
    }
   ],
   "source": [
    "#Problem resolved\n",
    "\n",
    "print(train['Employment Sector'].isna().sum())\n",
    "\n",
    "train['Employment Sector'].value_counts()"
   ]
  },
  {
   "cell_type": "code",
   "execution_count": 74,
   "metadata": {
    "ExecuteTime": {
     "end_time": "2020-11-24T11:19:41.237156Z",
     "start_time": "2020-11-24T11:19:41.215655Z"
    },
    "hidden": true
   },
   "outputs": [
    {
     "data": {
      "text/plain": [
       "Professor                         2849\n",
       "Management                        2797\n",
       "Repair & constructions            2795\n",
       "Administratives                   2608\n",
       "Sales                             2531\n",
       "Other services                    2287\n",
       "Machine Operators & Inspectors    1384\n",
       "?                                 1271\n",
       "Transports                        1071\n",
       "Cleaners & Handlers                922\n",
       "Agriculture and Fishing            702\n",
       "IT                                 626\n",
       "Security                           450\n",
       "Household Services                 102\n",
       "Army                                 5\n",
       "Name: Role, dtype: int64"
      ]
     },
     "execution_count": 74,
     "metadata": {},
     "output_type": "execute_result"
    }
   ],
   "source": [
    "train['Role'].value_counts() #Has the same missing values problem as before\n",
    "\n",
    "#Não estou a ver que tipo de standardização podemos fazer, além, de setor terciário, secundário e primário\n",
    "\n",
    "#One hot encoding"
   ]
  },
  {
   "cell_type": "code",
   "execution_count": 75,
   "metadata": {
    "hidden": true
   },
   "outputs": [],
   "source": [
    "questionmark_to_nan(train, 'Role') #Turns '?' in to NaN"
   ]
  },
  {
   "cell_type": "code",
   "execution_count": 76,
   "metadata": {
    "hidden": true
   },
   "outputs": [
    {
     "name": "stdout",
     "output_type": "stream",
     "text": [
      "1271\n"
     ]
    },
    {
     "data": {
      "text/plain": [
       "Professor                         2849\n",
       "Management                        2797\n",
       "Repair & constructions            2795\n",
       "Administratives                   2608\n",
       "Sales                             2531\n",
       "Other services                    2287\n",
       "Machine Operators & Inspectors    1384\n",
       "Transports                        1071\n",
       "Cleaners & Handlers                922\n",
       "Agriculture and Fishing            702\n",
       "IT                                 626\n",
       "Security                           450\n",
       "Household Services                 102\n",
       "Army                                 5\n",
       "Name: Role, dtype: int64"
      ]
     },
     "execution_count": 76,
     "metadata": {},
     "output_type": "execute_result"
    }
   ],
   "source": [
    "#Problem resolved\n",
    "\n",
    "print(train['Role'].isna().sum())\n",
    "\n",
    "train['Role'].value_counts()"
   ]
  },
  {
   "cell_type": "code",
   "execution_count": 78,
   "metadata": {
    "hidden": true
   },
   "outputs": [
    {
     "data": {
      "text/plain": [
       "0         Mr. Adam Glover\n",
       "1    Mr. Cameron McDonald\n",
       "2      Mr. Keith Davidson\n",
       "3      Mr. Alexander Gill\n",
       "4          Mr. Neil Piper\n",
       "Name: Name, dtype: object"
      ]
     },
     "execution_count": 78,
     "metadata": {},
     "output_type": "execute_result"
    }
   ],
   "source": [
    "train['Name'].head()\n",
    "\n",
    "#Separar Mr. do nome, cagar no nome e utilizar 1st byte para criar variável Male"
   ]
  },
  {
   "cell_type": "code",
   "execution_count": 92,
   "metadata": {
    "hidden": true
   },
   "outputs": [
    {
     "data": {
      "text/plain": [
       "0"
      ]
     },
     "execution_count": 92,
     "metadata": {},
     "output_type": "execute_result"
    }
   ],
   "source": [
    "train['Name'].str.contains('?', regex = False).sum() #To check that there are no '?' missing values"
   ]
  },
  {
   "cell_type": "code",
   "execution_count": 90,
   "metadata": {
    "hidden": true
   },
   "outputs": [
    {
     "data": {
      "text/plain": [
       "0         July 1,2003\n",
       "1     January 25,2006\n",
       "2         May 10,2009\n",
       "3       March 25,1985\n",
       "4         May 29,2015\n",
       "Name: Birthday, dtype: object"
      ]
     },
     "execution_count": 90,
     "metadata": {},
     "output_type": "execute_result"
    }
   ],
   "source": [
    "train['Birthday'].head() #Clearly some transformations are needed, if we want to use this variable"
   ]
  },
  {
   "cell_type": "code",
   "execution_count": 91,
   "metadata": {
    "hidden": true
   },
   "outputs": [
    {
     "data": {
      "text/plain": [
       "0"
      ]
     },
     "execution_count": 91,
     "metadata": {},
     "output_type": "execute_result"
    }
   ],
   "source": [
    "train['Birthday'].str.contains('?', regex = False).sum() #To check that there are no '?' missing values"
   ]
  },
  {
   "cell_type": "markdown",
   "metadata": {
    "heading_collapsed": true,
    "hidden": true
   },
   "source": [
    "### Numeric Variables Treatment"
   ]
  },
  {
   "cell_type": "markdown",
   "metadata": {
    "hidden": true
   },
   "source": [
    "Since no variables showed \"immediate\" missing values, on the variables whose data type is float or int, we know that we won't have the problem of '?' missing values, otherwise the variables would be of object data type.\n",
    "\n",
    "However we still have to check these variables to know if there are some immediate incoherences."
   ]
  },
  {
   "cell_type": "code",
   "execution_count": 7,
   "metadata": {
    "hidden": true
   },
   "outputs": [
    {
     "data": {
      "text/plain": [
       "CITIZEN_ID                 int64\n",
       "Name                      object\n",
       "Birthday                  object\n",
       "Native Continent          object\n",
       "Marital Status            object\n",
       "Lives with                object\n",
       "Base Area                 object\n",
       "Education Level           object\n",
       "Years of Education         int64\n",
       "Employment Sector         object\n",
       "Role                      object\n",
       "Working Hours per week     int64\n",
       "Money Received             int64\n",
       "Ticket Price               int64\n",
       "Income                     int64\n",
       "dtype: object"
      ]
     },
     "execution_count": 7,
     "metadata": {},
     "output_type": "execute_result"
    }
   ],
   "source": [
    "train.dtypes"
   ]
  },
  {
   "cell_type": "code",
   "execution_count": 9,
   "metadata": {
    "hidden": true
   },
   "outputs": [
    {
     "data": {
      "text/plain": [
       "0"
      ]
     },
     "execution_count": 9,
     "metadata": {},
     "output_type": "execute_result"
    }
   ],
   "source": [
    "(train['CITIZEN_ID'].value_counts()>1).sum() #No repeated Citizen ID's"
   ]
  },
  {
   "cell_type": "code",
   "execution_count": 15,
   "metadata": {
    "hidden": true,
    "scrolled": true
   },
   "outputs": [
    {
     "data": {
      "text/html": [
       "<div>\n",
       "<style scoped>\n",
       "    .dataframe tbody tr th:only-of-type {\n",
       "        vertical-align: middle;\n",
       "    }\n",
       "\n",
       "    .dataframe tbody tr th {\n",
       "        vertical-align: top;\n",
       "    }\n",
       "\n",
       "    .dataframe thead th {\n",
       "        text-align: right;\n",
       "    }\n",
       "</style>\n",
       "<table border=\"1\" class=\"dataframe\">\n",
       "  <thead>\n",
       "    <tr style=\"text-align: right;\">\n",
       "      <th></th>\n",
       "      <th>Years of Education</th>\n",
       "      <th>Working Hours per week</th>\n",
       "      <th>Money Received</th>\n",
       "      <th>Ticket Price</th>\n",
       "      <th>Income</th>\n",
       "    </tr>\n",
       "  </thead>\n",
       "  <tbody>\n",
       "    <tr>\n",
       "      <th>count</th>\n",
       "      <td>22400.000000</td>\n",
       "      <td>22400.000000</td>\n",
       "      <td>22400.000000</td>\n",
       "      <td>22400.000000</td>\n",
       "      <td>22400.000000</td>\n",
       "    </tr>\n",
       "    <tr>\n",
       "      <th>mean</th>\n",
       "      <td>13.173884</td>\n",
       "      <td>40.483795</td>\n",
       "      <td>1324.915357</td>\n",
       "      <td>109.145313</td>\n",
       "      <td>0.237098</td>\n",
       "    </tr>\n",
       "    <tr>\n",
       "      <th>std</th>\n",
       "      <td>2.512451</td>\n",
       "      <td>12.370921</td>\n",
       "      <td>9227.771813</td>\n",
       "      <td>500.208904</td>\n",
       "      <td>0.425313</td>\n",
       "    </tr>\n",
       "    <tr>\n",
       "      <th>min</th>\n",
       "      <td>2.000000</td>\n",
       "      <td>1.000000</td>\n",
       "      <td>0.000000</td>\n",
       "      <td>0.000000</td>\n",
       "      <td>0.000000</td>\n",
       "    </tr>\n",
       "    <tr>\n",
       "      <th>25%</th>\n",
       "      <td>12.000000</td>\n",
       "      <td>40.000000</td>\n",
       "      <td>0.000000</td>\n",
       "      <td>0.000000</td>\n",
       "      <td>0.000000</td>\n",
       "    </tr>\n",
       "    <tr>\n",
       "      <th>50%</th>\n",
       "      <td>13.000000</td>\n",
       "      <td>40.000000</td>\n",
       "      <td>0.000000</td>\n",
       "      <td>0.000000</td>\n",
       "      <td>0.000000</td>\n",
       "    </tr>\n",
       "    <tr>\n",
       "      <th>75%</th>\n",
       "      <td>15.000000</td>\n",
       "      <td>45.000000</td>\n",
       "      <td>0.000000</td>\n",
       "      <td>0.000000</td>\n",
       "      <td>0.000000</td>\n",
       "    </tr>\n",
       "    <tr>\n",
       "      <th>max</th>\n",
       "      <td>21.000000</td>\n",
       "      <td>99.000000</td>\n",
       "      <td>122999.000000</td>\n",
       "      <td>5358.000000</td>\n",
       "      <td>1.000000</td>\n",
       "    </tr>\n",
       "  </tbody>\n",
       "</table>\n",
       "</div>"
      ],
      "text/plain": [
       "       Years of Education  Working Hours per week  Money Received  \\\n",
       "count        22400.000000            22400.000000    22400.000000   \n",
       "mean            13.173884               40.483795     1324.915357   \n",
       "std              2.512451               12.370921     9227.771813   \n",
       "min              2.000000                1.000000        0.000000   \n",
       "25%             12.000000               40.000000        0.000000   \n",
       "50%             13.000000               40.000000        0.000000   \n",
       "75%             15.000000               45.000000        0.000000   \n",
       "max             21.000000               99.000000   122999.000000   \n",
       "\n",
       "       Ticket Price        Income  \n",
       "count  22400.000000  22400.000000  \n",
       "mean     109.145313      0.237098  \n",
       "std      500.208904      0.425313  \n",
       "min        0.000000      0.000000  \n",
       "25%        0.000000      0.000000  \n",
       "50%        0.000000      0.000000  \n",
       "75%        0.000000      0.000000  \n",
       "max     5358.000000      1.000000  "
      ]
     },
     "execution_count": 15,
     "metadata": {},
     "output_type": "execute_result"
    }
   ],
   "source": [
    "train.drop(columns = ['CITIZEN_ID']).describe()"
   ]
  },
  {
   "cell_type": "markdown",
   "metadata": {
    "hidden": true
   },
   "source": [
    "No values below 0. For now everything looks fine.\n",
    "\n",
    "Judging by the average, standard deviation and min and max values of Years of Education and Working Hours per week, there definitely seem to be some outliers, but we will check this with more detail later. Since most values of Money Received and Ticket Price are 0, we can't talk about its outliers right now."
   ]
  },
  {
   "cell_type": "markdown",
   "metadata": {
    "heading_collapsed": true
   },
   "source": [
    "## Coherence Checks"
   ]
  },
  {
   "cell_type": "code",
   "execution_count": null,
   "metadata": {
    "hidden": true
   },
   "outputs": [],
   "source": []
  },
  {
   "cell_type": "markdown",
   "metadata": {
    "heading_collapsed": true
   },
   "source": [
    "## Missing Values Imputation"
   ]
  },
  {
   "cell_type": "code",
   "execution_count": null,
   "metadata": {
    "hidden": true
   },
   "outputs": [],
   "source": []
  },
  {
   "cell_type": "markdown",
   "metadata": {
    "heading_collapsed": true
   },
   "source": [
    "## Data Transformation"
   ]
  },
  {
   "cell_type": "markdown",
   "metadata": {
    "heading_collapsed": true,
    "hidden": true
   },
   "source": [
    "### Birthday to age transformation"
   ]
  },
  {
   "cell_type": "markdown",
   "metadata": {
    "hidden": true
   },
   "source": [
    "We have the birthday of each person, but more usefull to estimate the model is their age.\n",
    "\n",
    "However before we calculate the age we have to do some transformations to the birthday variable.\n",
    "\n",
    "We will calculate the age having in to account that we are on the year 2048, and we don't know the current month or day."
   ]
  },
  {
   "cell_type": "code",
   "execution_count": 55,
   "metadata": {
    "hidden": true
   },
   "outputs": [
    {
     "data": {
      "text/plain": [
       "0         July 1,2003\n",
       "1     January 25,2006\n",
       "2         May 10,2009\n",
       "3       March 25,1985\n",
       "4         May 29,2015\n",
       "Name: Birthday, dtype: object"
      ]
     },
     "execution_count": 55,
     "metadata": {},
     "output_type": "execute_result"
    }
   ],
   "source": [
    "train['Birthday'].head()"
   ]
  },
  {
   "cell_type": "code",
   "execution_count": 56,
   "metadata": {
    "ExecuteTime": {
     "end_time": "2020-11-24T12:01:31.409897Z",
     "start_time": "2020-11-24T12:01:31.227233Z"
    },
    "hidden": true
   },
   "outputs": [],
   "source": [
    "#First we extract the year of each birthday in to a new column\n",
    "\n",
    "train[\"YOB\"] = train['Birthday'].str.split(' ', n = 2, expand = True)[2].str.split(',', n = 1, expand = True)[1]"
   ]
  },
  {
   "cell_type": "code",
   "execution_count": 57,
   "metadata": {
    "hidden": true
   },
   "outputs": [
    {
     "data": {
      "text/plain": [
       "0    2003\n",
       "1    2006\n",
       "2    2009\n",
       "3    1985\n",
       "4    2015\n",
       "Name: YOB, dtype: object"
      ]
     },
     "execution_count": 57,
     "metadata": {},
     "output_type": "execute_result"
    }
   ],
   "source": [
    "train[\"YOB\"].head()"
   ]
  },
  {
   "cell_type": "code",
   "execution_count": 59,
   "metadata": {
    "hidden": true
   },
   "outputs": [],
   "source": [
    "train['YOB'] = train['YOB'].astype('int64') #Turns year of birth in to dtype int"
   ]
  },
  {
   "cell_type": "code",
   "execution_count": 60,
   "metadata": {
    "hidden": true
   },
   "outputs": [],
   "source": [
    "birthday_to_age(train, 'YOB', 'Age') #Turns year of birth to age"
   ]
  },
  {
   "cell_type": "code",
   "execution_count": 61,
   "metadata": {
    "hidden": true
   },
   "outputs": [
    {
     "data": {
      "text/html": [
       "<div>\n",
       "<style scoped>\n",
       "    .dataframe tbody tr th:only-of-type {\n",
       "        vertical-align: middle;\n",
       "    }\n",
       "\n",
       "    .dataframe tbody tr th {\n",
       "        vertical-align: top;\n",
       "    }\n",
       "\n",
       "    .dataframe thead th {\n",
       "        text-align: right;\n",
       "    }\n",
       "</style>\n",
       "<table border=\"1\" class=\"dataframe\">\n",
       "  <thead>\n",
       "    <tr style=\"text-align: right;\">\n",
       "      <th></th>\n",
       "      <th>count</th>\n",
       "      <th>mean</th>\n",
       "      <th>std</th>\n",
       "      <th>min</th>\n",
       "      <th>25%</th>\n",
       "      <th>50%</th>\n",
       "      <th>75%</th>\n",
       "      <th>max</th>\n",
       "    </tr>\n",
       "  </thead>\n",
       "  <tbody>\n",
       "    <tr>\n",
       "      <th>Age</th>\n",
       "      <td>22400.0</td>\n",
       "      <td>38.584866</td>\n",
       "      <td>13.651578</td>\n",
       "      <td>17.0</td>\n",
       "      <td>28.0</td>\n",
       "      <td>37.0</td>\n",
       "      <td>48.0</td>\n",
       "      <td>90.0</td>\n",
       "    </tr>\n",
       "  </tbody>\n",
       "</table>\n",
       "</div>"
      ],
      "text/plain": [
       "       count       mean        std   min   25%   50%   75%   max\n",
       "Age  22400.0  38.584866  13.651578  17.0  28.0  37.0  48.0  90.0"
      ]
     },
     "execution_count": 61,
     "metadata": {},
     "output_type": "execute_result"
    }
   ],
   "source": [
    "train[['Age']].describe().T #All seems fine"
   ]
  },
  {
   "cell_type": "code",
   "execution_count": 62,
   "metadata": {
    "hidden": true
   },
   "outputs": [],
   "source": [
    "train.drop(columns = ['Birthday', 'YOB'], inplace = True) #And we drop the columns we will no longer need"
   ]
  },
  {
   "cell_type": "markdown",
   "metadata": {
    "heading_collapsed": true,
    "hidden": true
   },
   "source": [
    "### Base Area -> Northbury"
   ]
  },
  {
   "cell_type": "markdown",
   "metadata": {
    "hidden": true
   },
   "source": [
    "There are a lot of base areas, however most observations belong to Northbury, so instead of using one hot encoding and proceding with all the values, we will just proced with a variable that signals whether the person is of Northbury or not.\n",
    "\n",
    "MESMO ASSIM SERIA FIXE FAZER ONE HOT ENCODING E DPS FEATURE SELECTION PARA GARANTIR QUE REALMENTE SO A NORTHBURY DEVA FICAR"
   ]
  },
  {
   "cell_type": "code",
   "execution_count": 37,
   "metadata": {
    "hidden": true
   },
   "outputs": [],
   "source": [
    "train['Northbury'] = train['Base Area'].map(lambda x: 1 if x == 'Northbury' else 0)\n",
    "\n",
    "#Não esquecer fazer inut NA antes disto\n",
    "#No entnto pode não ser necessário!!!!!!!!!!!!!!!!!!"
   ]
  },
  {
   "cell_type": "code",
   "execution_count": 38,
   "metadata": {
    "hidden": true
   },
   "outputs": [
    {
     "data": {
      "text/plain": [
       "0    22400\n",
       "Name: Northbury, dtype: int64"
      ]
     },
     "execution_count": 38,
     "metadata": {},
     "output_type": "execute_result"
    }
   ],
   "source": [
    "train['Northbury'].value_counts()"
   ]
  },
  {
   "cell_type": "code",
   "execution_count": 39,
   "metadata": {
    "hidden": true
   },
   "outputs": [],
   "source": [
    "train.drop(columns = ['Base Area'], inplace = True)"
   ]
  },
  {
   "cell_type": "markdown",
   "metadata": {
    "heading_collapsed": true,
    "hidden": true
   },
   "source": [
    "### Name -> Gender -> Male"
   ]
  },
  {
   "cell_type": "markdown",
   "metadata": {
    "hidden": true
   },
   "source": [
    "It doesn't make sense to model using the different names in the dataset, however with the first byte of each one (for example: Mrs.) we can conclude quite easily the gender of each person. Having the gender we can then create a variable that signals all the males."
   ]
  },
  {
   "cell_type": "code",
   "execution_count": 44,
   "metadata": {
    "hidden": true
   },
   "outputs": [],
   "source": [
    "train['Gender'] = train['Name'].str.split(' ', n = 1, expand = True)[0] "
   ]
  },
  {
   "cell_type": "code",
   "execution_count": 45,
   "metadata": {
    "hidden": true
   },
   "outputs": [
    {
     "data": {
      "text/plain": [
       "Mr.     14971\n",
       "Mrs.     4117\n",
       "Miss     3312\n",
       "Name: Gender, dtype: int64"
      ]
     },
     "execution_count": 45,
     "metadata": {},
     "output_type": "execute_result"
    }
   ],
   "source": [
    "train['Gender'].value_counts()"
   ]
  },
  {
   "cell_type": "code",
   "execution_count": 47,
   "metadata": {
    "hidden": true
   },
   "outputs": [],
   "source": [
    "train['Male'] = train['Gender'].map(lambda x: 1 if x == 'Mr.' else 0)"
   ]
  },
  {
   "cell_type": "code",
   "execution_count": 49,
   "metadata": {
    "hidden": true
   },
   "outputs": [
    {
     "data": {
      "text/plain": [
       "1    14971\n",
       "0     7429\n",
       "Name: Male, dtype: int64"
      ]
     },
     "execution_count": 49,
     "metadata": {},
     "output_type": "execute_result"
    }
   ],
   "source": [
    "train['Male'].value_counts()"
   ]
  },
  {
   "cell_type": "code",
   "execution_count": 50,
   "metadata": {
    "hidden": true
   },
   "outputs": [],
   "source": [
    "train.drop(columns = ['Name', 'Gender'], inplace = True)"
   ]
  },
  {
   "cell_type": "markdown",
   "metadata": {
    "heading_collapsed": true,
    "hidden": true
   },
   "source": [
    "### One Hot Encoding"
   ]
  },
  {
   "cell_type": "code",
   "execution_count": 26,
   "metadata": {
    "hidden": true
   },
   "outputs": [],
   "source": [
    "one_hot_var = ohe(train, ['Native Continent', 'Marital Status', 'Lives with'])"
   ]
  },
  {
   "cell_type": "code",
   "execution_count": 30,
   "metadata": {
    "hidden": true
   },
   "outputs": [],
   "source": [
    "train = pd.concat([train.drop(columns = ['Native Continent', 'Marital Status', 'Lives with']), one_hot_var], axis = 1)"
   ]
  },
  {
   "cell_type": "code",
   "execution_count": 31,
   "metadata": {
    "hidden": true
   },
   "outputs": [
    {
     "data": {
      "text/plain": [
       "Index(['CITIZEN_ID', 'Name', 'Birthday', 'Base Area', 'Education Level',\n",
       "       'Years of Education', 'Employment Sector', 'Role',\n",
       "       'Working Hours per week', 'Money Received', 'Ticket Price', 'Income',\n",
       "       'x0_Africa', 'x0_America', 'x0_Asia', 'x0_Europe', 'x0_Oceania',\n",
       "       'x1_Divorced', 'x1_Married', 'x1_Separated', 'x1_Single', 'x1_Widow',\n",
       "       'x2_Alone', 'x2_Children', 'x2_Other Family', 'x2_Spouse'],\n",
       "      dtype='object')"
      ]
     },
     "execution_count": 31,
     "metadata": {},
     "output_type": "execute_result"
    }
   ],
   "source": [
    "train.columns"
   ]
  },
  {
   "cell_type": "markdown",
   "metadata": {
    "heading_collapsed": true,
    "hidden": true
   },
   "source": [
    "### Label Encoding"
   ]
  },
  {
   "cell_type": "code",
   "execution_count": null,
   "metadata": {
    "hidden": true
   },
   "outputs": [],
   "source": []
  },
  {
   "cell_type": "code",
   "execution_count": null,
   "metadata": {
    "hidden": true
   },
   "outputs": [],
   "source": []
  }
 ],
 "metadata": {
  "kernelspec": {
   "display_name": "Python 3",
   "language": "python",
   "name": "python3"
  },
  "language_info": {
   "codemirror_mode": {
    "name": "ipython",
    "version": 3
   },
   "file_extension": ".py",
   "mimetype": "text/x-python",
   "name": "python",
   "nbconvert_exporter": "python",
   "pygments_lexer": "ipython3",
   "version": "3.8.3"
  },
  "nbTranslate": {
   "displayLangs": [
    "*"
   ],
   "hotkey": "alt-t",
   "langInMainMenu": true,
   "sourceLang": "en",
   "targetLang": "fr",
   "useGoogleTranslate": true
  },
  "toc": {
   "base_numbering": 1,
   "nav_menu": {},
   "number_sections": true,
   "sideBar": true,
   "skip_h1_title": false,
   "title_cell": "Table of Contents",
   "title_sidebar": "Contents",
   "toc_cell": false,
   "toc_position": {},
   "toc_section_display": true,
   "toc_window_display": false
  },
  "varInspector": {
   "cols": {
    "lenName": 16,
    "lenType": 16,
    "lenVar": 40
   },
   "kernels_config": {
    "python": {
     "delete_cmd_postfix": "",
     "delete_cmd_prefix": "del ",
     "library": "var_list.py",
     "varRefreshCmd": "print(var_dic_list())"
    },
    "r": {
     "delete_cmd_postfix": ") ",
     "delete_cmd_prefix": "rm(",
     "library": "var_list.r",
     "varRefreshCmd": "cat(var_dic_list()) "
    }
   },
   "types_to_exclude": [
    "module",
    "function",
    "builtin_function_or_method",
    "instance",
    "_Feature"
   ],
   "window_display": false
  }
 },
 "nbformat": 4,
 "nbformat_minor": 4
}
