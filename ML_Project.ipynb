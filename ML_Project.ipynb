{
  "nbformat": 4,
  "nbformat_minor": 0,
  "metadata": {
    "kernelspec": {
      "display_name": "Python 3",
      "language": "python",
      "name": "python3"
    },
    "language_info": {
      "codemirror_mode": {
        "name": "ipython",
        "version": 3
      },
      "file_extension": ".py",
      "mimetype": "text/x-python",
      "name": "python",
      "nbconvert_exporter": "python",
      "pygments_lexer": "ipython3",
      "version": "3.8.3"
    },
    "nbTranslate": {
      "displayLangs": [
        "*"
      ],
      "hotkey": "alt-t",
      "langInMainMenu": true,
      "sourceLang": "en",
      "targetLang": "fr",
      "useGoogleTranslate": true
    },
    "toc": {
      "base_numbering": 1,
      "nav_menu": {},
      "number_sections": true,
      "sideBar": true,
      "skip_h1_title": false,
      "title_cell": "Table of Contents",
      "title_sidebar": "Contents",
      "toc_cell": false,
      "toc_position": {},
      "toc_section_display": true,
      "toc_window_display": false
    },
    "varInspector": {
      "cols": {
        "lenName": 16,
        "lenType": 16,
        "lenVar": 40
      },
      "kernels_config": {
        "python": {
          "delete_cmd_postfix": "",
          "delete_cmd_prefix": "del ",
          "library": "var_list.py",
          "varRefreshCmd": "print(var_dic_list())"
        },
        "r": {
          "delete_cmd_postfix": ") ",
          "delete_cmd_prefix": "rm(",
          "library": "var_list.r",
          "varRefreshCmd": "cat(var_dic_list()) "
        }
      },
      "types_to_exclude": [
        "module",
        "function",
        "builtin_function_or_method",
        "instance",
        "_Feature"
      ],
      "window_display": false
    },
    "colab": {
      "name": "ML_Project.ipynb",
      "provenance": []
    }
  },
  "cells": [
    {
      "cell_type": "markdown",
      "metadata": {
        "id": "4RtChpBIwnLQ"
      },
      "source": [
        "# **Initial Steps**"
      ]
    },
    {
      "cell_type": "code",
      "metadata": {
        "id": "ZZshs59W4FQR"
      },
      "source": [
        "from pydrive.auth import GoogleAuth\n",
        "from pydrive.drive import GoogleDrive\n",
        "from google.colab import auth\n",
        "from oauth2client.client import GoogleCredentials\n",
        "\n",
        "auth.authenticate_user()\n",
        "gauth = GoogleAuth()\n",
        "gauth.credentials = GoogleCredentials.get_application_default()\n",
        "drive = GoogleDrive(gauth)\n",
        "\n",
        "downloaded = drive.CreateFile({'id':\"10TVpC4_CV-h4o2U3P7KjGdvbsiuFFnkN\"})   # replace the id with id of file you want to access\n",
        "downloaded.GetContentFile('Train.xlsx')"
      ],
      "execution_count": null,
      "outputs": []
    },
    {
      "cell_type": "markdown",
      "metadata": {
        "heading_collapsed": true,
        "hidden": true,
        "id": "U-78uRpS3VJn"
      },
      "source": [
        "### Libraries, Packages and others"
      ]
    },
    {
      "cell_type": "code",
      "metadata": {
        "ExecuteTime": {
          "end_time": "2020-11-24T12:03:25.820833Z",
          "start_time": "2020-11-24T12:03:25.790560Z"
        },
        "hidden": true,
        "id": "IuGGg6SC3VJn"
      },
      "source": [
        "import pandas as pd\n",
        "import datetime\n",
        "import numpy as np\n",
        "import scipy as sc\n",
        "import pandas as pd\n",
        "import matplotlib.pyplot as plt\n",
        "from matplotlib import style\n",
        "import seaborn as sns\n",
        "from math import ceil\n",
        "from pandas_profiling import ProfileReport\n",
        "import scipy.cluster.hierarchy as shc\n",
        "from sklearn import datasets\n",
        "from sklearn.feature_selection import VarianceThreshold\n",
        "from sklearn.preprocessing import OneHotEncoder\n",
        "from sklearn.impute import KNNImputer\n",
        "\n",
        "\n",
        "# for better resolution plots\n",
        "%config InlineBackend.figure_format = 'retina' # optionally, you can change 'svg' to 'retina'\n",
        "\n",
        "\n",
        "import warnings\n",
        "warnings.filterwarnings(\"ignore\")"
      ],
      "execution_count": 600,
      "outputs": []
    },
    {
      "cell_type": "code",
      "metadata": {
        "colab": {
          "base_uri": "https://localhost:8080/"
        },
        "id": "-h_iFQoV6dAa",
        "outputId": "3884f00e-16b7-48f2-ef76-33af87ffb3bb"
      },
      "source": [
        "pip install category_encoders"
      ],
      "execution_count": 601,
      "outputs": [
        {
          "output_type": "stream",
          "text": [
            "Requirement already satisfied: category_encoders in /usr/local/lib/python3.6/dist-packages (2.2.2)\n",
            "Requirement already satisfied: scipy>=1.0.0 in /usr/local/lib/python3.6/dist-packages (from category_encoders) (1.4.1)\n",
            "Requirement already satisfied: scikit-learn>=0.20.0 in /usr/local/lib/python3.6/dist-packages (from category_encoders) (0.22.2.post1)\n",
            "Requirement already satisfied: numpy>=1.14.0 in /usr/local/lib/python3.6/dist-packages (from category_encoders) (1.18.5)\n",
            "Requirement already satisfied: statsmodels>=0.9.0 in /usr/local/lib/python3.6/dist-packages (from category_encoders) (0.10.2)\n",
            "Requirement already satisfied: patsy>=0.5.1 in /usr/local/lib/python3.6/dist-packages (from category_encoders) (0.5.1)\n",
            "Requirement already satisfied: pandas>=0.21.1 in /usr/local/lib/python3.6/dist-packages (from category_encoders) (1.1.4)\n",
            "Requirement already satisfied: joblib>=0.11 in /usr/local/lib/python3.6/dist-packages (from scikit-learn>=0.20.0->category_encoders) (0.17.0)\n",
            "Requirement already satisfied: six in /usr/local/lib/python3.6/dist-packages (from patsy>=0.5.1->category_encoders) (1.15.0)\n",
            "Requirement already satisfied: python-dateutil>=2.7.3 in /usr/local/lib/python3.6/dist-packages (from pandas>=0.21.1->category_encoders) (2.8.1)\n",
            "Requirement already satisfied: pytz>=2017.2 in /usr/local/lib/python3.6/dist-packages (from pandas>=0.21.1->category_encoders) (2018.9)\n"
          ],
          "name": "stdout"
        }
      ]
    },
    {
      "cell_type": "markdown",
      "metadata": {
        "heading_collapsed": true,
        "hidden": true,
        "id": "LfZNC8kO3VJn"
      },
      "source": [
        "###Functions "
      ]
    },
    {
      "cell_type": "code",
      "metadata": {
        "ExecuteTime": {
          "end_time": "2020-11-24T12:21:27.252985Z",
          "start_time": "2020-11-24T12:21:27.232206Z"
        },
        "hidden": true,
        "id": "oMCQQSU_3VJn"
      },
      "source": [
        "def birthday_to_age(df, column, new_column):\n",
        "    '''\n",
        "    This function creates a column representing the difference in years from a given birth year column values\n",
        "    Having into account that we are on the year 2048\n",
        "    '''\n",
        "    \n",
        "    df[new_column] = df[column].map(lambda x : 2048 - x)\n",
        "    \n",
        "def questionmark_to_nan(df, column):\n",
        "    '''\n",
        "    This function turns a binary variable with missing values as '?' in NaN\n",
        "    It needs as input the dataframe and the column name \n",
        "    (column name needs to be between '')\n",
        "    '''\n",
        "    df[column] = df[column].map(lambda x: np.nan if x == '?' else x)\n",
        "    \n",
        "def ohe(df, column_list):\n",
        "    ohc = OneHotEncoder(sparse = False)\n",
        "    ohc_feat = ohc.fit_transform(df[column_list])\n",
        "    ohc_feat_names = ohc.get_feature_names()\n",
        "    ohc_df = pd.DataFrame(ohc_feat, index = df.index, columns = ohc_feat_names)\n",
        "    return ohc_df"
      ],
      "execution_count": 542,
      "outputs": []
    },
    {
      "cell_type": "markdown",
      "metadata": {
        "heading_collapsed": true,
        "id": "B1Ka7i_z3VJn"
      },
      "source": [
        "### Import data"
      ]
    },
    {
      "cell_type": "code",
      "metadata": {
        "ExecuteTime": {
          "end_time": "2020-11-24T11:15:28.920836Z",
          "start_time": "2020-11-24T11:15:25.167658Z"
        },
        "hidden": true,
        "id": "oe2aTIuy3VJo"
      },
      "source": [
        "train = pd.read_excel(\"Train.xlsx\")"
      ],
      "execution_count": 543,
      "outputs": []
    },
    {
      "cell_type": "markdown",
      "metadata": {
        "heading_collapsed": true,
        "id": "CJIExRy53VJo"
      },
      "source": [
        "# **Data Inspection**"
      ]
    },
    {
      "cell_type": "code",
      "metadata": {
        "hidden": true,
        "colab": {
          "base_uri": "https://localhost:8080/",
          "height": 197
        },
        "id": "XwTqAtDG3VJo",
        "outputId": "698f97b9-f87f-4e3e-be84-8830e1f88bb7"
      },
      "source": [
        "train.head() #Data was imported correctly"
      ],
      "execution_count": 544,
      "outputs": [
        {
          "output_type": "execute_result",
          "data": {
            "text/html": [
              "<div>\n",
              "<style scoped>\n",
              "    .dataframe tbody tr th:only-of-type {\n",
              "        vertical-align: middle;\n",
              "    }\n",
              "\n",
              "    .dataframe tbody tr th {\n",
              "        vertical-align: top;\n",
              "    }\n",
              "\n",
              "    .dataframe thead th {\n",
              "        text-align: right;\n",
              "    }\n",
              "</style>\n",
              "<table border=\"1\" class=\"dataframe\">\n",
              "  <thead>\n",
              "    <tr style=\"text-align: right;\">\n",
              "      <th></th>\n",
              "      <th>CITIZEN_ID</th>\n",
              "      <th>Name</th>\n",
              "      <th>Birthday</th>\n",
              "      <th>Native Continent</th>\n",
              "      <th>Marital Status</th>\n",
              "      <th>Lives with</th>\n",
              "      <th>Base Area</th>\n",
              "      <th>Education Level</th>\n",
              "      <th>Years of Education</th>\n",
              "      <th>Employment Sector</th>\n",
              "      <th>Role</th>\n",
              "      <th>Working Hours per week</th>\n",
              "      <th>Money Received</th>\n",
              "      <th>Ticket Price</th>\n",
              "      <th>Income</th>\n",
              "    </tr>\n",
              "  </thead>\n",
              "  <tbody>\n",
              "    <tr>\n",
              "      <th>0</th>\n",
              "      <td>12486</td>\n",
              "      <td>Mr. Adam Glover</td>\n",
              "      <td>July 1,2003</td>\n",
              "      <td>Europe</td>\n",
              "      <td>Married</td>\n",
              "      <td>Wife</td>\n",
              "      <td>Northbury</td>\n",
              "      <td>High School + PostGraduation</td>\n",
              "      <td>13</td>\n",
              "      <td>Private Sector - Services</td>\n",
              "      <td>Repair &amp; constructions</td>\n",
              "      <td>40</td>\n",
              "      <td>0</td>\n",
              "      <td>2273</td>\n",
              "      <td>1</td>\n",
              "    </tr>\n",
              "    <tr>\n",
              "      <th>1</th>\n",
              "      <td>12487</td>\n",
              "      <td>Mr. Cameron McDonald</td>\n",
              "      <td>January 25,2006</td>\n",
              "      <td>Europe</td>\n",
              "      <td>Married</td>\n",
              "      <td>Wife</td>\n",
              "      <td>Northbury</td>\n",
              "      <td>Professional School</td>\n",
              "      <td>12</td>\n",
              "      <td>Public Sector - Others</td>\n",
              "      <td>Repair &amp; constructions</td>\n",
              "      <td>40</td>\n",
              "      <td>0</td>\n",
              "      <td>0</td>\n",
              "      <td>1</td>\n",
              "    </tr>\n",
              "    <tr>\n",
              "      <th>2</th>\n",
              "      <td>12488</td>\n",
              "      <td>Mr. Keith Davidson</td>\n",
              "      <td>May 10,2009</td>\n",
              "      <td>Europe</td>\n",
              "      <td>Married</td>\n",
              "      <td>Wife</td>\n",
              "      <td>Northbury</td>\n",
              "      <td>Professional School</td>\n",
              "      <td>12</td>\n",
              "      <td>Private Sector - Services</td>\n",
              "      <td>Sales</td>\n",
              "      <td>46</td>\n",
              "      <td>0</td>\n",
              "      <td>2321</td>\n",
              "      <td>1</td>\n",
              "    </tr>\n",
              "    <tr>\n",
              "      <th>3</th>\n",
              "      <td>12489</td>\n",
              "      <td>Mr. Alexander Gill</td>\n",
              "      <td>March 25,1985</td>\n",
              "      <td>Europe</td>\n",
              "      <td>Married</td>\n",
              "      <td>Wife</td>\n",
              "      <td>Northbury</td>\n",
              "      <td>High School - 2nd Cycle</td>\n",
              "      <td>11</td>\n",
              "      <td>Private Sector - Services</td>\n",
              "      <td>Security</td>\n",
              "      <td>37</td>\n",
              "      <td>5395</td>\n",
              "      <td>0</td>\n",
              "      <td>1</td>\n",
              "    </tr>\n",
              "    <tr>\n",
              "      <th>4</th>\n",
              "      <td>12490</td>\n",
              "      <td>Mr. Neil Piper</td>\n",
              "      <td>May 29,2015</td>\n",
              "      <td>Europe</td>\n",
              "      <td>Single</td>\n",
              "      <td>Other Family</td>\n",
              "      <td>Northbury</td>\n",
              "      <td>PhD</td>\n",
              "      <td>21</td>\n",
              "      <td>Self-Employed (Individual)</td>\n",
              "      <td>Professor</td>\n",
              "      <td>45</td>\n",
              "      <td>0</td>\n",
              "      <td>0</td>\n",
              "      <td>1</td>\n",
              "    </tr>\n",
              "  </tbody>\n",
              "</table>\n",
              "</div>"
            ],
            "text/plain": [
              "   CITIZEN_ID                  Name  ... Ticket Price Income\n",
              "0       12486       Mr. Adam Glover  ...         2273      1\n",
              "1       12487  Mr. Cameron McDonald  ...            0      1\n",
              "2       12488    Mr. Keith Davidson  ...         2321      1\n",
              "3       12489    Mr. Alexander Gill  ...            0      1\n",
              "4       12490        Mr. Neil Piper  ...            0      1\n",
              "\n",
              "[5 rows x 15 columns]"
            ]
          },
          "metadata": {
            "tags": []
          },
          "execution_count": 544
        }
      ]
    },
    {
      "cell_type": "code",
      "metadata": {
        "ExecuteTime": {
          "end_time": "2020-11-24T12:34:30.474435Z",
          "start_time": "2020-11-24T12:34:30.430256Z"
        },
        "hidden": true,
        "scrolled": true,
        "colab": {
          "base_uri": "https://localhost:8080/"
        },
        "id": "rP-zf8Cf3VJp",
        "outputId": "e40de46e-80ae-4702-e29a-f0c1c12e9da7"
      },
      "source": [
        " #No column seems to have, for now, a wrong dtype, except Birthday\n",
        "train.dtypes"
      ],
      "execution_count": 545,
      "outputs": [
        {
          "output_type": "execute_result",
          "data": {
            "text/plain": [
              "CITIZEN_ID                 int64\n",
              "Name                      object\n",
              "Birthday                  object\n",
              "Native Continent          object\n",
              "Marital Status            object\n",
              "Lives with                object\n",
              "Base Area                 object\n",
              "Education Level           object\n",
              "Years of Education         int64\n",
              "Employment Sector         object\n",
              "Role                      object\n",
              "Working Hours per week     int64\n",
              "Money Received             int64\n",
              "Ticket Price               int64\n",
              "Income                     int64\n",
              "dtype: object"
            ]
          },
          "metadata": {
            "tags": []
          },
          "execution_count": 545
        }
      ]
    },
    {
      "cell_type": "code",
      "metadata": {
        "colab": {
          "base_uri": "https://localhost:8080/",
          "height": 287
        },
        "id": "zcY0LrLD6I5a",
        "outputId": "9b7edbf5-56f6-4630-9ca4-beb73889470a"
      },
      "source": [
        "train.describe()"
      ],
      "execution_count": 546,
      "outputs": [
        {
          "output_type": "execute_result",
          "data": {
            "text/html": [
              "<div>\n",
              "<style scoped>\n",
              "    .dataframe tbody tr th:only-of-type {\n",
              "        vertical-align: middle;\n",
              "    }\n",
              "\n",
              "    .dataframe tbody tr th {\n",
              "        vertical-align: top;\n",
              "    }\n",
              "\n",
              "    .dataframe thead th {\n",
              "        text-align: right;\n",
              "    }\n",
              "</style>\n",
              "<table border=\"1\" class=\"dataframe\">\n",
              "  <thead>\n",
              "    <tr style=\"text-align: right;\">\n",
              "      <th></th>\n",
              "      <th>CITIZEN_ID</th>\n",
              "      <th>Years of Education</th>\n",
              "      <th>Working Hours per week</th>\n",
              "      <th>Money Received</th>\n",
              "      <th>Ticket Price</th>\n",
              "      <th>Income</th>\n",
              "    </tr>\n",
              "  </thead>\n",
              "  <tbody>\n",
              "    <tr>\n",
              "      <th>count</th>\n",
              "      <td>22400.000000</td>\n",
              "      <td>22400.000000</td>\n",
              "      <td>22400.000000</td>\n",
              "      <td>22400.000000</td>\n",
              "      <td>22400.000000</td>\n",
              "      <td>22400.000000</td>\n",
              "    </tr>\n",
              "    <tr>\n",
              "      <th>mean</th>\n",
              "      <td>23685.500000</td>\n",
              "      <td>13.173884</td>\n",
              "      <td>40.483795</td>\n",
              "      <td>1324.915357</td>\n",
              "      <td>109.145313</td>\n",
              "      <td>0.237098</td>\n",
              "    </tr>\n",
              "    <tr>\n",
              "      <th>std</th>\n",
              "      <td>6466.467351</td>\n",
              "      <td>2.512451</td>\n",
              "      <td>12.370921</td>\n",
              "      <td>9227.771813</td>\n",
              "      <td>500.208904</td>\n",
              "      <td>0.425313</td>\n",
              "    </tr>\n",
              "    <tr>\n",
              "      <th>min</th>\n",
              "      <td>12486.000000</td>\n",
              "      <td>2.000000</td>\n",
              "      <td>1.000000</td>\n",
              "      <td>0.000000</td>\n",
              "      <td>0.000000</td>\n",
              "      <td>0.000000</td>\n",
              "    </tr>\n",
              "    <tr>\n",
              "      <th>25%</th>\n",
              "      <td>18085.750000</td>\n",
              "      <td>12.000000</td>\n",
              "      <td>40.000000</td>\n",
              "      <td>0.000000</td>\n",
              "      <td>0.000000</td>\n",
              "      <td>0.000000</td>\n",
              "    </tr>\n",
              "    <tr>\n",
              "      <th>50%</th>\n",
              "      <td>23685.500000</td>\n",
              "      <td>13.000000</td>\n",
              "      <td>40.000000</td>\n",
              "      <td>0.000000</td>\n",
              "      <td>0.000000</td>\n",
              "      <td>0.000000</td>\n",
              "    </tr>\n",
              "    <tr>\n",
              "      <th>75%</th>\n",
              "      <td>29285.250000</td>\n",
              "      <td>15.000000</td>\n",
              "      <td>45.000000</td>\n",
              "      <td>0.000000</td>\n",
              "      <td>0.000000</td>\n",
              "      <td>0.000000</td>\n",
              "    </tr>\n",
              "    <tr>\n",
              "      <th>max</th>\n",
              "      <td>34885.000000</td>\n",
              "      <td>21.000000</td>\n",
              "      <td>99.000000</td>\n",
              "      <td>122999.000000</td>\n",
              "      <td>5358.000000</td>\n",
              "      <td>1.000000</td>\n",
              "    </tr>\n",
              "  </tbody>\n",
              "</table>\n",
              "</div>"
            ],
            "text/plain": [
              "         CITIZEN_ID  Years of Education  ...  Ticket Price        Income\n",
              "count  22400.000000        22400.000000  ...  22400.000000  22400.000000\n",
              "mean   23685.500000           13.173884  ...    109.145313      0.237098\n",
              "std     6466.467351            2.512451  ...    500.208904      0.425313\n",
              "min    12486.000000            2.000000  ...      0.000000      0.000000\n",
              "25%    18085.750000           12.000000  ...      0.000000      0.000000\n",
              "50%    23685.500000           13.000000  ...      0.000000      0.000000\n",
              "75%    29285.250000           15.000000  ...      0.000000      0.000000\n",
              "max    34885.000000           21.000000  ...   5358.000000      1.000000\n",
              "\n",
              "[8 rows x 6 columns]"
            ]
          },
          "metadata": {
            "tags": []
          },
          "execution_count": 546
        }
      ]
    },
    {
      "cell_type": "code",
      "metadata": {
        "hidden": true,
        "colab": {
          "base_uri": "https://localhost:8080/"
        },
        "id": "yaL7-l6V3VJp",
        "outputId": "94d8f559-7cd6-4590-fe91-a21ce9c01323"
      },
      "source": [
        "train.isna().sum() #No \"immediate\" missing values"
      ],
      "execution_count": 547,
      "outputs": [
        {
          "output_type": "execute_result",
          "data": {
            "text/plain": [
              "CITIZEN_ID                0\n",
              "Name                      0\n",
              "Birthday                  0\n",
              "Native Continent          0\n",
              "Marital Status            0\n",
              "Lives with                0\n",
              "Base Area                 0\n",
              "Education Level           0\n",
              "Years of Education        0\n",
              "Employment Sector         0\n",
              "Role                      0\n",
              "Working Hours per week    0\n",
              "Money Received            0\n",
              "Ticket Price              0\n",
              "Income                    0\n",
              "dtype: int64"
            ]
          },
          "metadata": {
            "tags": []
          },
          "execution_count": 547
        }
      ]
    },
    {
      "cell_type": "markdown",
      "metadata": {
        "heading_collapsed": true,
        "id": "1vJQ4A6F3VJq"
      },
      "source": [
        "### Data Treatment\n"
      ]
    },
    {
      "cell_type": "markdown",
      "metadata": {
        "heading_collapsed": true,
        "hidden": true,
        "id": "Fr_OG5wj3VJq"
      },
      "source": [
        "#### Categorical Variables Treatment"
      ]
    },
    {
      "cell_type": "markdown",
      "metadata": {
        "hidden": true,
        "id": "4UnnTZXI3VJq"
      },
      "source": [
        "Lets start to treat the object type variables.\n",
        "\n",
        "Remember that no variables seemed to show missing values."
      ]
    },
    {
      "cell_type": "code",
      "metadata": {
        "id": "QTsjxYLAZ62V"
      },
      "source": [
        "for i in [\"Name\", \"Native Continent\", \"Marital Status\", \"Lives with\", \"Base Area\", \"Education Level\", \"Employment Sector\", \"Role\"]:\n",
        "  train[i] = train[i].astype(\"str\")"
      ],
      "execution_count": 548,
      "outputs": []
    },
    {
      "cell_type": "code",
      "metadata": {
        "colab": {
          "base_uri": "https://localhost:8080/"
        },
        "id": "xY1b3qF2F0RJ",
        "outputId": "753ab461-1c2f-483d-c95c-4878b374824a"
      },
      "source": [
        "train.dtypes"
      ],
      "execution_count": 549,
      "outputs": [
        {
          "output_type": "execute_result",
          "data": {
            "text/plain": [
              "CITIZEN_ID                 int64\n",
              "Name                      object\n",
              "Birthday                  object\n",
              "Native Continent          object\n",
              "Marital Status            object\n",
              "Lives with                object\n",
              "Base Area                 object\n",
              "Education Level           object\n",
              "Years of Education         int64\n",
              "Employment Sector         object\n",
              "Role                      object\n",
              "Working Hours per week     int64\n",
              "Money Received             int64\n",
              "Ticket Price               int64\n",
              "Income                     int64\n",
              "dtype: object"
            ]
          },
          "metadata": {
            "tags": []
          },
          "execution_count": 549
        }
      ]
    },
    {
      "cell_type": "code",
      "metadata": {
        "ExecuteTime": {
          "end_time": "2020-11-24T11:17:37.475714Z",
          "start_time": "2020-11-24T11:17:37.462241Z"
        },
        "hidden": true,
        "colab": {
          "base_uri": "https://localhost:8080/"
        },
        "id": "mJ7vYYfQ3VJq",
        "outputId": "a65a3c94-298e-400c-95d2-ed9e88ad1370"
      },
      "source": [
        "#All seems fine.\n",
        "#However in order to use Native Continent on our models we will need to later perform one hot encoding.\n",
        "#We can't use label encoding since the categories aren't ordered and we would be inducing orders or hierarchies were they don't exist.\n",
        "train['Native Continent'].value_counts()"
      ],
      "execution_count": 550,
      "outputs": [
        {
          "output_type": "execute_result",
          "data": {
            "text/plain": [
              "Europe     19111\n",
              "Africa      2187\n",
              "Asia         699\n",
              "America      219\n",
              "Oceania      184\n",
              "Name: Native Continent, dtype: int64"
            ]
          },
          "metadata": {
            "tags": []
          },
          "execution_count": 550
        }
      ]
    },
    {
      "cell_type": "code",
      "metadata": {
        "ExecuteTime": {
          "end_time": "2020-11-24T11:17:56.362760Z",
          "start_time": "2020-11-24T11:17:56.353820Z"
        },
        "hidden": true,
        "colab": {
          "base_uri": "https://localhost:8080/"
        },
        "id": "R_XuC6MQ3VJq",
        "outputId": "f00d7b0b-8a45-4ead-ddfe-f250b4b3083a"
      },
      "source": [
        "#This values can be turned into binary variables which describe if the person is married, not married (anymore), or never married.\n",
        "#This will allow us to have a better significance in our resuls (meaning, not a huge amount of 0s in binary variables), which we would\n",
        "#have if we proceed to make one hot encoding right now. \n",
        "#We will make this change later in the feature engineering step.\n",
        "train['Marital Status'].value_counts()"
      ],
      "execution_count": 551,
      "outputs": [
        {
          "output_type": "execute_result",
          "data": {
            "text/plain": [
              "Married                         10219\n",
              "Single                           7416\n",
              "Divorced                         3072\n",
              "Separated                         699\n",
              "Widow                             696\n",
              "Married - Spouse Missing          284\n",
              "Married - Spouse in the Army       14\n",
              "Name: Marital Status, dtype: int64"
            ]
          },
          "metadata": {
            "tags": []
          },
          "execution_count": 551
        }
      ]
    },
    {
      "cell_type": "code",
      "metadata": {
        "hidden": true,
        "colab": {
          "base_uri": "https://localhost:8080/"
        },
        "id": "E6gaQI393VJr",
        "outputId": "97064d03-e6d6-4bf6-b466-203a9cd081f7"
      },
      "source": [
        "#This values can be turned into binary variables. For being able to do so, we will primarily turn the values \"Husband\" and \"Wife\" in \"Spouse\" and \"Other Family\"\n",
        "#and \"Other relatives\" in only 1 value as they seem to have the same meaning.\n",
        "#We will make this change later in the feature engineering step.\n",
        "train['Lives with'].value_counts()"
      ],
      "execution_count": 552,
      "outputs": [
        {
          "output_type": "execute_result",
          "data": {
            "text/plain": [
              "Wife               9012\n",
              "Other Family       5777\n",
              "Children           3519\n",
              "Alone              2362\n",
              "Husband            1049\n",
              "Other relatives     681\n",
              "Name: Lives with, dtype: int64"
            ]
          },
          "metadata": {
            "tags": []
          },
          "execution_count": 552
        }
      ]
    },
    {
      "cell_type": "code",
      "metadata": {
        "ExecuteTime": {
          "end_time": "2020-11-24T11:18:50.008124Z",
          "start_time": "2020-11-24T11:18:49.980502Z"
        },
        "hidden": true,
        "colab": {
          "base_uri": "https://localhost:8080/"
        },
        "id": "YjN_pMxi3VJr",
        "outputId": "f7007989-8df2-487f-df72-68a30e119e17"
      },
      "source": [
        "#We have '?' values, wich are clearly missing values, so we have to turn them into ones\n",
        "#With the high number of missing values, we will probably need to use techniques to fill missing values, for example, the KNN\n",
        "#We also believe we cannot make one hot encoding in this variable otherwise we would create too many variables and they would loose their significance\n",
        "#However, it is important to highlight that we have a lot of observations with the value Northbury, which means that if we have to make only a binary column\n",
        "#with this variable it will have a good representation on the dataset.\n",
        "train['Base Area'].value_counts() "
      ],
      "execution_count": 553,
      "outputs": [
        {
          "output_type": "execute_result",
          "data": {
            "text/plain": [
              "Northbury        20074\n",
              "Fanfoss            443\n",
              "?                  395\n",
              "Alverton           135\n",
              "Butterpond          96\n",
              "Watford             83\n",
              "Auchenshuggle       80\n",
              "Pran                77\n",
              "Sharnwick           70\n",
              "Aroonshire          64\n",
              "Laewaes             63\n",
              "Fool's March        59\n",
              "Eelry               56\n",
              "Wigston             56\n",
              "Sharpton            54\n",
              "Lanercost           52\n",
              "Cherrytown          51\n",
              "Aerilon             45\n",
              "King's Watch        44\n",
              "Bellmoral           40\n",
              "Kirkwall            40\n",
              "Knife's Edge        37\n",
              "Laenteglos          32\n",
              "Tranmere            30\n",
              "Drumchapel          25\n",
              "Aberuthven          23\n",
              "Orilon              22\n",
              "Kald                19\n",
              "Carlisle            18\n",
              "MillerVille         17\n",
              "Willesden           16\n",
              "Lewes               16\n",
              "Conriston           12\n",
              "Marnmouth           11\n",
              "Middlesbrough       10\n",
              "Mensfield            9\n",
              "Woodpine             9\n",
              "Redwick Bush         8\n",
              "Bellenau             8\n",
              "Ironforge            1\n",
              "Name: Base Area, dtype: int64"
            ]
          },
          "metadata": {
            "tags": []
          },
          "execution_count": 553
        }
      ]
    },
    {
      "cell_type": "code",
      "metadata": {
        "ExecuteTime": {
          "end_time": "2020-11-24T11:19:06.062528Z",
          "start_time": "2020-11-24T11:19:06.049563Z"
        },
        "hidden": true,
        "colab": {
          "base_uri": "https://localhost:8080/"
        },
        "id": "yvFiuvLl3VJr",
        "outputId": "c814d2d1-8d4d-4093-d66f-4f3c71238c23"
      },
      "source": [
        "#The categories seem to be good! We believe that a distinction as deep as the one presented is not needed, and so, we will\n",
        "#group some variables as the latest education a person has received.\n",
        "#As we are dealing with Ordinal data, meaning, the variables have a natural order, for example, a PhD is valued higher than a high school degree, \n",
        "#We will create a variable that contains the categories representing the education qualification, in integer values, as the algorithm can process\n",
        "#these values as an order\n",
        "#We will make this change later in the feature engineering step.\n",
        "train['Education Level'].value_counts() "
      ],
      "execution_count": 554,
      "outputs": [
        {
          "output_type": "execute_result",
          "data": {
            "text/plain": [
              "Professional School                     7232\n",
              "High School + PostGraduation            4994\n",
              "Bachelors + PostGraduation              3696\n",
              "Masters                                 1193\n",
              "Professional School + PostGraduation     953\n",
              "High School - 2nd Cycle                  809\n",
              "Bachelors                                735\n",
              "High School - 1st Cycle                  649\n",
              "Middle School - 2nd Cycle                432\n",
              "Masters + PostGraduation                 397\n",
              "Middle School Complete                   342\n",
              "PhD                                      289\n",
              "High School Complete                     287\n",
              "Middle School - 1st Cycle                237\n",
              "Primary School                           122\n",
              "Preschool                                 33\n",
              "Name: Education Level, dtype: int64"
            ]
          },
          "metadata": {
            "tags": []
          },
          "execution_count": 554
        }
      ]
    },
    {
      "cell_type": "code",
      "metadata": {
        "ExecuteTime": {
          "end_time": "2020-11-24T11:19:20.467050Z",
          "start_time": "2020-11-24T11:19:20.457072Z"
        },
        "hidden": true,
        "colab": {
          "base_uri": "https://localhost:8080/"
        },
        "id": "90lK7yY43VJr",
        "outputId": "2dd25d41-1147-4cad-c6de-4979c134bfd7"
      },
      "source": [
        "#Has the same missing values problem as before, meaning, when there is missing data it is represented by a \"?\"\n",
        "#The categories have information about big groups of values (private sector, public sector, etc), so we will retrieve this information in \n",
        "#a more correct and larger way.\n",
        "#After doing so, we will probably have to reach to some type of data encoding technique in order to be able to use this information in our model\n",
        "#We will make this change later in the feature engineering step.\n",
        "train['Employment Sector'].value_counts() "
      ],
      "execution_count": 555,
      "outputs": [
        {
          "output_type": "execute_result",
          "data": {
            "text/plain": [
              "Private Sector - Services     15599\n",
              "Self-Employed (Individual)     1764\n",
              "Public Sector - Others         1419\n",
              "?                              1264\n",
              "Private Sector - Others         880\n",
              "Self-Employed (Company)         763\n",
              "Public Sector - Government      692\n",
              "Unemployed                       12\n",
              "Never Worked                      7\n",
              "Name: Employment Sector, dtype: int64"
            ]
          },
          "metadata": {
            "tags": []
          },
          "execution_count": 555
        }
      ]
    },
    {
      "cell_type": "code",
      "metadata": {
        "ExecuteTime": {
          "end_time": "2020-11-24T11:19:41.237156Z",
          "start_time": "2020-11-24T11:19:41.215655Z"
        },
        "hidden": true,
        "colab": {
          "base_uri": "https://localhost:8080/"
        },
        "id": "f5UfPGDT3VJs",
        "outputId": "ca7c9110-6670-4e4d-e43d-9f59da6b0d7c"
      },
      "source": [
        "#Has the same missing values problem as before, meaning, when there is missing data it is represented by a \"?\"\n",
        "#The grouping of information (in order to be able to have encoding) in this variable is difficult to tackle.\n",
        "#We will probably use the sectors of the economy to make some type of encoding in this variable\n",
        "#We will make this change later in the feature engineering step.\n",
        "train['Role'].value_counts() "
      ],
      "execution_count": 556,
      "outputs": [
        {
          "output_type": "execute_result",
          "data": {
            "text/plain": [
              "Professor                         2849\n",
              "Management                        2797\n",
              "Repair & constructions            2795\n",
              "Administratives                   2608\n",
              "Sales                             2531\n",
              "Other services                    2287\n",
              "Machine Operators & Inspectors    1384\n",
              "?                                 1271\n",
              "Transports                        1071\n",
              "Cleaners & Handlers                922\n",
              "Agriculture and Fishing            702\n",
              "IT                                 626\n",
              "Security                           450\n",
              "Household Services                 102\n",
              "Army                                 5\n",
              "Name: Role, dtype: int64"
            ]
          },
          "metadata": {
            "tags": []
          },
          "execution_count": 556
        }
      ]
    },
    {
      "cell_type": "code",
      "metadata": {
        "hidden": true,
        "colab": {
          "base_uri": "https://localhost:8080/"
        },
        "id": "6FPwVdA-3VJs",
        "outputId": "6297659a-055f-4a3d-a649-9d08d21c4272"
      },
      "source": [
        "#As the name is not very important in our analysis, we will proceed on removing the first word from the name, meaning, the gender the person\n",
        "#identifies with and we will create a variable with information about the gender.\n",
        "#We will make this change later in the feature engineering step.\n",
        "train['Name'].head()"
      ],
      "execution_count": 557,
      "outputs": [
        {
          "output_type": "execute_result",
          "data": {
            "text/plain": [
              "0         Mr. Adam Glover\n",
              "1    Mr. Cameron McDonald\n",
              "2      Mr. Keith Davidson\n",
              "3      Mr. Alexander Gill\n",
              "4          Mr. Neil Piper\n",
              "Name: Name, dtype: object"
            ]
          },
          "metadata": {
            "tags": []
          },
          "execution_count": 557
        }
      ]
    },
    {
      "cell_type": "code",
      "metadata": {
        "hidden": true,
        "colab": {
          "base_uri": "https://localhost:8080/"
        },
        "id": "KGj0j7Ei3VJs",
        "outputId": "72230633-581f-498c-d3d6-093ceb44f3bf"
      },
      "source": [
        "#Clearly some transformations are needed, if we want to use this variable\n",
        "#We will have to do some engineering \n",
        "train['Birthday'].head() "
      ],
      "execution_count": 558,
      "outputs": [
        {
          "output_type": "execute_result",
          "data": {
            "text/plain": [
              "0         July 1,2003\n",
              "1     January 25,2006\n",
              "2         May 10,2009\n",
              "3       March 25,1985\n",
              "4         May 29,2015\n",
              "Name: Birthday, dtype: object"
            ]
          },
          "metadata": {
            "tags": []
          },
          "execution_count": 558
        }
      ]
    },
    {
      "cell_type": "code",
      "metadata": {
        "colab": {
          "base_uri": "https://localhost:8080/"
        },
        "id": "tcuYTNyK6oag",
        "outputId": "2f0d0ec3-1cae-4eb3-c99e-3e818a5fa9c7"
      },
      "source": [
        "#Turning the \"?\" in missing value np.nan\n",
        "questionmark_to_nan(train, 'Base Area') \n",
        "questionmark_to_nan(train, 'Employment Sector') \n",
        "questionmark_to_nan(train, 'Role') \n",
        "\n",
        "#Checking whether there are more categorical variables with \"?\" values\n",
        "for i in [\"Name\", \"Native Continent\", \"Marital Status\", \"Lives with\", \"Base Area\", \"Education Level\", \"Employment Sector\", \"Role\"]:\n",
        "  print(train[i].str.contains('?', regex = False).sum())"
      ],
      "execution_count": 559,
      "outputs": [
        {
          "output_type": "stream",
          "text": [
            "0\n",
            "0\n",
            "0\n",
            "0\n",
            "0\n",
            "0\n",
            "0\n",
            "0\n"
          ],
          "name": "stdout"
        }
      ]
    },
    {
      "cell_type": "markdown",
      "metadata": {
        "heading_collapsed": true,
        "hidden": true,
        "id": "fet4vQdL3VJt"
      },
      "source": [
        "#### Numeric Variables Treatment"
      ]
    },
    {
      "cell_type": "markdown",
      "metadata": {
        "hidden": true,
        "id": "pchXufJ43VJt"
      },
      "source": [
        "Since no variables showed *immediate* missing values, on the variables whose data type is float or int, we know that we won't have the problem of '?' missing values, otherwise the variables would be of object data type.\n",
        "\n",
        "However we still have to check these variables to know if there are some immediate incoherences."
      ]
    },
    {
      "cell_type": "code",
      "metadata": {
        "hidden": true,
        "colab": {
          "base_uri": "https://localhost:8080/"
        },
        "id": "lnuKhL4U3VJt",
        "outputId": "87a8fb51-a40c-4477-fee0-29ffa199c46d"
      },
      "source": [
        "train.dtypes"
      ],
      "execution_count": 560,
      "outputs": [
        {
          "output_type": "execute_result",
          "data": {
            "text/plain": [
              "CITIZEN_ID                 int64\n",
              "Name                      object\n",
              "Birthday                  object\n",
              "Native Continent          object\n",
              "Marital Status            object\n",
              "Lives with                object\n",
              "Base Area                 object\n",
              "Education Level           object\n",
              "Years of Education         int64\n",
              "Employment Sector         object\n",
              "Role                      object\n",
              "Working Hours per week     int64\n",
              "Money Received             int64\n",
              "Ticket Price               int64\n",
              "Income                     int64\n",
              "dtype: object"
            ]
          },
          "metadata": {
            "tags": []
          },
          "execution_count": 560
        }
      ]
    },
    {
      "cell_type": "code",
      "metadata": {
        "hidden": true,
        "colab": {
          "base_uri": "https://localhost:8080/"
        },
        "id": "GkbSn6gA3VJt",
        "outputId": "3bb4d416-182b-45f2-f04f-217ce38bc197"
      },
      "source": [
        "#No repeated Citizen ID's\n",
        "(train['CITIZEN_ID'].value_counts()>1).sum() "
      ],
      "execution_count": 561,
      "outputs": [
        {
          "output_type": "execute_result",
          "data": {
            "text/plain": [
              "0"
            ]
          },
          "metadata": {
            "tags": []
          },
          "execution_count": 561
        }
      ]
    },
    {
      "cell_type": "markdown",
      "metadata": {
        "id": "TtMeNCzhJgux"
      },
      "source": [
        "**Assumption:**If the Citizen ID follows the normal order of atribution of ID after being recognized the citizenship, we know which citizens were the first to arrive, as their ID's will have a smaller value."
      ]
    },
    {
      "cell_type": "code",
      "metadata": {
        "hidden": true,
        "scrolled": true,
        "id": "95rg-7bo3VJt"
      },
      "source": [
        "#??????\n",
        "#train.drop(columns = ['CITIZEN_ID']).describe()"
      ],
      "execution_count": 562,
      "outputs": []
    },
    {
      "cell_type": "markdown",
      "metadata": {
        "heading_collapsed": true,
        "id": "-UI_4cXH3VJt"
      },
      "source": [
        "# **Coherence Checks**"
      ]
    },
    {
      "cell_type": "code",
      "metadata": {
        "colab": {
          "base_uri": "https://localhost:8080/"
        },
        "id": "zKvkhUzdHeCz",
        "outputId": "7d42d6fc-96c4-423c-9770-3f8326d22539"
      },
      "source": [
        "#It makes no sense to have negative values in the following numerical variables.\n",
        "print(\"Number of negative values:\")\n",
        "for i in [\"Years of Education\", \"Working Hours per week\", \"Money Received\", \"Ticket Price\", \"Income\"]:\n",
        "  print(i,\":\", ((train[i]<0).sum()))\n",
        "#All seems to be good!"
      ],
      "execution_count": 563,
      "outputs": [
        {
          "output_type": "stream",
          "text": [
            "Number of negative values:\n",
            "Years of Education : 0\n",
            "Working Hours per week : 0\n",
            "Money Received : 0\n",
            "Ticket Price : 0\n",
            "Income : 0\n"
          ],
          "name": "stdout"
        }
      ]
    },
    {
      "cell_type": "markdown",
      "metadata": {
        "hidden": true,
        "id": "MqNFuFx63VJt"
      },
      "source": [
        "No values below 0. For now everything looks fine.\n",
        "\n",
        "Considering the average, std and min and max values of *Years of Education* and *Working Hours per week*, there definitely seem to be some outliers, but we will check this with more detail later. Since most values of *Money Received* and *Ticket Price* are 0, we can't talk about its outliers right now."
      ]
    },
    {
      "cell_type": "markdown",
      "metadata": {
        "heading_collapsed": true,
        "id": "x04ImyMQ3VJt"
      },
      "source": [
        "# **Data Transformation**"
      ]
    },
    {
      "cell_type": "markdown",
      "metadata": {
        "heading_collapsed": true,
        "hidden": true,
        "id": "Xejyuzup3VJt"
      },
      "source": [
        "#### Birthday to age transformation"
      ]
    },
    {
      "cell_type": "markdown",
      "metadata": {
        "hidden": true,
        "id": "Lhae5MJm3VJt"
      },
      "source": [
        "We have the birthday of each person, but more usefull to estimate the model is their age.\n",
        "\n",
        "However before we calculate the age we have to do some transformations to the birthday variable.\n",
        "\n",
        "We will calculate the age having in to account that we are on the year 2048, and we don't know the current month or day."
      ]
    },
    {
      "cell_type": "code",
      "metadata": {
        "hidden": true,
        "colab": {
          "base_uri": "https://localhost:8080/"
        },
        "id": "77gu2_gz3VJt",
        "outputId": "4bbb8077-ec0e-43f6-e11e-e6ec13c7476d"
      },
      "source": [
        "train['Birthday'].head()"
      ],
      "execution_count": 564,
      "outputs": [
        {
          "output_type": "execute_result",
          "data": {
            "text/plain": [
              "0         July 1,2003\n",
              "1     January 25,2006\n",
              "2         May 10,2009\n",
              "3       March 25,1985\n",
              "4         May 29,2015\n",
              "Name: Birthday, dtype: object"
            ]
          },
          "metadata": {
            "tags": []
          },
          "execution_count": 564
        }
      ]
    },
    {
      "cell_type": "code",
      "metadata": {
        "ExecuteTime": {
          "end_time": "2020-11-24T12:01:31.409897Z",
          "start_time": "2020-11-24T12:01:31.227233Z"
        },
        "hidden": true,
        "id": "qX6kW-HE3VJt"
      },
      "source": [
        "#First we extract the year of each birthday in to a new column\n",
        "train[\"YOB\"] = train['Birthday'].str.split(' ', n = 2, expand = True)[2].str.split(',', n = 1, expand = True)[1]"
      ],
      "execution_count": 565,
      "outputs": []
    },
    {
      "cell_type": "code",
      "metadata": {
        "hidden": true,
        "colab": {
          "base_uri": "https://localhost:8080/"
        },
        "id": "0IyCTnfV3VJt",
        "outputId": "ffc30fd1-7c52-4dbd-d5f9-63c5f9bb08b8"
      },
      "source": [
        "train[\"YOB\"].head()"
      ],
      "execution_count": 566,
      "outputs": [
        {
          "output_type": "execute_result",
          "data": {
            "text/plain": [
              "0    2003\n",
              "1    2006\n",
              "2    2009\n",
              "3    1985\n",
              "4    2015\n",
              "Name: YOB, dtype: object"
            ]
          },
          "metadata": {
            "tags": []
          },
          "execution_count": 566
        }
      ]
    },
    {
      "cell_type": "code",
      "metadata": {
        "hidden": true,
        "id": "ypi9P3_h3VJt"
      },
      "source": [
        "train['YOB'] = train['YOB'].astype('int64') #Turns year of birth in to dtype int"
      ],
      "execution_count": 567,
      "outputs": []
    },
    {
      "cell_type": "code",
      "metadata": {
        "hidden": true,
        "id": "UOQEIp6q3VJt"
      },
      "source": [
        "birthday_to_age(train, 'YOB', 'Age') #Turns year of birth to age"
      ],
      "execution_count": 568,
      "outputs": []
    },
    {
      "cell_type": "code",
      "metadata": {
        "hidden": true,
        "colab": {
          "base_uri": "https://localhost:8080/",
          "height": 0
        },
        "id": "AegTHSOV3VJt",
        "outputId": "937c14ad-91db-4d3d-beb0-1ab59c357be9"
      },
      "source": [
        "train[['Age']].describe().T #All seems fine"
      ],
      "execution_count": 569,
      "outputs": [
        {
          "output_type": "execute_result",
          "data": {
            "text/html": [
              "<div>\n",
              "<style scoped>\n",
              "    .dataframe tbody tr th:only-of-type {\n",
              "        vertical-align: middle;\n",
              "    }\n",
              "\n",
              "    .dataframe tbody tr th {\n",
              "        vertical-align: top;\n",
              "    }\n",
              "\n",
              "    .dataframe thead th {\n",
              "        text-align: right;\n",
              "    }\n",
              "</style>\n",
              "<table border=\"1\" class=\"dataframe\">\n",
              "  <thead>\n",
              "    <tr style=\"text-align: right;\">\n",
              "      <th></th>\n",
              "      <th>count</th>\n",
              "      <th>mean</th>\n",
              "      <th>std</th>\n",
              "      <th>min</th>\n",
              "      <th>25%</th>\n",
              "      <th>50%</th>\n",
              "      <th>75%</th>\n",
              "      <th>max</th>\n",
              "    </tr>\n",
              "  </thead>\n",
              "  <tbody>\n",
              "    <tr>\n",
              "      <th>Age</th>\n",
              "      <td>22400.0</td>\n",
              "      <td>38.584866</td>\n",
              "      <td>13.651578</td>\n",
              "      <td>17.0</td>\n",
              "      <td>28.0</td>\n",
              "      <td>37.0</td>\n",
              "      <td>48.0</td>\n",
              "      <td>90.0</td>\n",
              "    </tr>\n",
              "  </tbody>\n",
              "</table>\n",
              "</div>"
            ],
            "text/plain": [
              "       count       mean        std   min   25%   50%   75%   max\n",
              "Age  22400.0  38.584866  13.651578  17.0  28.0  37.0  48.0  90.0"
            ]
          },
          "metadata": {
            "tags": []
          },
          "execution_count": 569
        }
      ]
    },
    {
      "cell_type": "code",
      "metadata": {
        "hidden": true,
        "id": "gDZE4BwU3VJt"
      },
      "source": [
        "#And we drop the columns we will no longer need\n",
        "train.drop(columns = ['Birthday', 'YOB'], inplace = True)"
      ],
      "execution_count": 570,
      "outputs": []
    },
    {
      "cell_type": "markdown",
      "metadata": {
        "heading_collapsed": true,
        "hidden": true,
        "id": "Va9Ntv1a3VJt"
      },
      "source": [
        "#### Base Area -> Northbury"
      ]
    },
    {
      "cell_type": "markdown",
      "metadata": {
        "hidden": true,
        "id": "UBrxfbPx3VJt"
      },
      "source": [
        "There are a lot of base areas, however most observations belong to Northbury, so instead of using one hot encoding and proceding with all the values, we will just proced with a variable that signals whether the person is of Northbury or not.\n",
        "\n",
        "MESMO ASSIM SERIA FIXE FAZER ONE HOT ENCODING E DPS FEATURE SELECTION PARA GARANTIR QUE REALMENTE SO A NORTHBURY DEVA FICAR"
      ]
    },
    {
      "cell_type": "code",
      "metadata": {
        "hidden": true,
        "id": "mL2esext3VJt"
      },
      "source": [
        "train['Northbury'] = train['Base Area'].map(lambda x: 1 if x == 'Northbury' else 0)\n",
        "\n",
        "#Não esquecer fazer inut NA antes disto\n",
        "#No entnto pode não ser necessário!!!!!!!!!!!!!!!!!!"
      ],
      "execution_count": 571,
      "outputs": []
    },
    {
      "cell_type": "code",
      "metadata": {
        "hidden": true,
        "colab": {
          "base_uri": "https://localhost:8080/"
        },
        "id": "U7RrdBm83VJt",
        "outputId": "1787a34b-45e5-48da-ebb7-06c003b90da5"
      },
      "source": [
        "train['Northbury'].value_counts()"
      ],
      "execution_count": 572,
      "outputs": [
        {
          "output_type": "execute_result",
          "data": {
            "text/plain": [
              "1    20074\n",
              "0     2326\n",
              "Name: Northbury, dtype: int64"
            ]
          },
          "metadata": {
            "tags": []
          },
          "execution_count": 572
        }
      ]
    },
    {
      "cell_type": "code",
      "metadata": {
        "hidden": true,
        "id": "kwKw2_ll3VJt"
      },
      "source": [
        "train.drop(columns = ['Base Area'], inplace = True)"
      ],
      "execution_count": 573,
      "outputs": []
    },
    {
      "cell_type": "markdown",
      "metadata": {
        "heading_collapsed": true,
        "hidden": true,
        "id": "cQggstrJ3VJu"
      },
      "source": [
        "#### Name -> Gender -> Male"
      ]
    },
    {
      "cell_type": "markdown",
      "metadata": {
        "hidden": true,
        "id": "UNig0NwH3VJu"
      },
      "source": [
        "It doesn't make sense to model using the different names in the dataset, however with the first byte of each one (for example: Mrs.) we can conclude quite easily the gender of each person. Having the gender we can then create a variable that signals all the males."
      ]
    },
    {
      "cell_type": "code",
      "metadata": {
        "hidden": true,
        "id": "fPpDsPeP3VJu"
      },
      "source": [
        "train['Gender'] = train['Name'].str.split(' ', n = 1, expand = True)[0] "
      ],
      "execution_count": 574,
      "outputs": []
    },
    {
      "cell_type": "code",
      "metadata": {
        "hidden": true,
        "colab": {
          "base_uri": "https://localhost:8080/"
        },
        "id": "TjBNfEa23VJu",
        "outputId": "0af48fac-946d-47b5-dd17-481affe718a9"
      },
      "source": [
        "train['Gender'].value_counts()"
      ],
      "execution_count": 575,
      "outputs": [
        {
          "output_type": "execute_result",
          "data": {
            "text/plain": [
              "Mr.     14971\n",
              "Mrs.     4117\n",
              "Miss     3312\n",
              "Name: Gender, dtype: int64"
            ]
          },
          "metadata": {
            "tags": []
          },
          "execution_count": 575
        }
      ]
    },
    {
      "cell_type": "code",
      "metadata": {
        "hidden": true,
        "id": "5gDiqz7Z3VJu"
      },
      "source": [
        "train['Male'] = train['Gender'].map(lambda x: 1 if x == 'Mr.' else 0)"
      ],
      "execution_count": 576,
      "outputs": []
    },
    {
      "cell_type": "code",
      "metadata": {
        "hidden": true,
        "colab": {
          "base_uri": "https://localhost:8080/"
        },
        "id": "6WYInXrA3VJu",
        "outputId": "65544138-f6b3-4f91-9e40-99d575f0a030"
      },
      "source": [
        "train['Male'].value_counts()"
      ],
      "execution_count": 577,
      "outputs": [
        {
          "output_type": "execute_result",
          "data": {
            "text/plain": [
              "1    14971\n",
              "0     7429\n",
              "Name: Male, dtype: int64"
            ]
          },
          "metadata": {
            "tags": []
          },
          "execution_count": 577
        }
      ]
    },
    {
      "cell_type": "code",
      "metadata": {
        "hidden": true,
        "id": "gSOT0giy3VJu"
      },
      "source": [
        "train.drop(columns = ['Name', 'Gender'], inplace = True)"
      ],
      "execution_count": 578,
      "outputs": []
    },
    {
      "cell_type": "markdown",
      "metadata": {
        "id": "KoDpxnU18KvV"
      },
      "source": [
        "### *Lives with* and *Marital Status*\n"
      ]
    },
    {
      "cell_type": "code",
      "metadata": {
        "id": "pQX1zt-r8OiF"
      },
      "source": [
        "train['Marital Status'] = train['Marital Status'].map(lambda x: 'Married' if ((x == 'Married - Spouse Missing') | (x == 'Married - Spouse in the Army') ) else x)\n",
        "train['Marital Status'] = train['Marital Status'].map(lambda x: 'Not Married' if ((x == 'Divorced')  | (x == 'Separated') | (x == 'Widow')) else x)\n",
        "train['Marital Status'] = train['Marital Status'].map(lambda x: 'Never Married' if ((x == 'Single') ) else x)"
      ],
      "execution_count": 579,
      "outputs": []
    },
    {
      "cell_type": "markdown",
      "metadata": {
        "id": "r0EnGFdY8cBb"
      },
      "source": [
        "There are no weird values and one hot encoding will be needed for the same reasons as in the previous variable.\n",
        "\n",
        "However some values seem to specific and have very little representation on the observations, so we will \"standardize\" this values: \"Married - Spouse Missing\" and \"Married - Spouse in the Army\" will be changed to \"Married\"."
      ]
    },
    {
      "cell_type": "markdown",
      "metadata": {
        "id": "3J29EFr48hgp"
      },
      "source": [
        "There is no point in discretizing between living with Wife or Husband, so we will aggregate it in Spouse. Same thing with other relatives and Other Family."
      ]
    },
    {
      "cell_type": "code",
      "metadata": {
        "id": "AfxjuYcR8Wul"
      },
      "source": [
        "train['Lives with'] = train['Lives with'].map(lambda x: 'Spouse' if ((x == 'Wife') | (x == 'Husband')) else x)\n",
        "train['Lives with'] = train['Lives with'].map(lambda x: 'Other Family' if (x == 'Other relatives') else x)"
      ],
      "execution_count": 580,
      "outputs": []
    },
    {
      "cell_type": "code",
      "metadata": {
        "colab": {
          "base_uri": "https://localhost:8080/"
        },
        "id": "rnsphnDIK1if",
        "outputId": "59392bf3-8340-4a82-a728-427a73f6c252"
      },
      "source": [
        "train.dtypes"
      ],
      "execution_count": 581,
      "outputs": [
        {
          "output_type": "execute_result",
          "data": {
            "text/plain": [
              "CITIZEN_ID                 int64\n",
              "Native Continent          object\n",
              "Marital Status            object\n",
              "Lives with                object\n",
              "Education Level           object\n",
              "Years of Education         int64\n",
              "Employment Sector         object\n",
              "Role                      object\n",
              "Working Hours per week     int64\n",
              "Money Received             int64\n",
              "Ticket Price               int64\n",
              "Income                     int64\n",
              "Age                        int64\n",
              "Northbury                  int64\n",
              "Male                       int64\n",
              "dtype: object"
            ]
          },
          "metadata": {
            "tags": []
          },
          "execution_count": 581
        }
      ]
    },
    {
      "cell_type": "markdown",
      "metadata": {
        "id": "__sJDc_IMJrz"
      },
      "source": [
        "### Education Level"
      ]
    },
    {
      "cell_type": "markdown",
      "metadata": {
        "id": "zKUJRoWMV7nU"
      },
      "source": [
        "- https://en.wikipedia.org/wiki/Education_in_the_United_States\n",
        "- http://internacional.ipvc.pt/sites/default/files/Diagrama_SESP_EQF_PT1.pdf\n",
        "- https://europa.eu/europass/pt/description-eight-eqf-levels"
      ]
    },
    {
      "cell_type": "code",
      "metadata": {
        "colab": {
          "base_uri": "https://localhost:8080/"
        },
        "id": "FKox4VsCMMgR",
        "outputId": "d489263f-4d47-403b-d4a0-3076061a4658"
      },
      "source": [
        "#Division will have to be made top to bottom. Meaning, if it appears \"Masters\" and \"PostGraduation\",\n",
        "#we will treat first \"Masters\" to make sure we have the maximum education first\n",
        "train[\"Education Level\"].value_counts()"
      ],
      "execution_count": 582,
      "outputs": [
        {
          "output_type": "execute_result",
          "data": {
            "text/plain": [
              "Professional School                     7232\n",
              "High School + PostGraduation            4994\n",
              "Bachelors + PostGraduation              3696\n",
              "Masters                                 1193\n",
              "Professional School + PostGraduation     953\n",
              "High School - 2nd Cycle                  809\n",
              "Bachelors                                735\n",
              "High School - 1st Cycle                  649\n",
              "Middle School - 2nd Cycle                432\n",
              "Masters + PostGraduation                 397\n",
              "Middle School Complete                   342\n",
              "PhD                                      289\n",
              "High School Complete                     287\n",
              "Middle School - 1st Cycle                237\n",
              "Primary School                           122\n",
              "Preschool                                 33\n",
              "Name: Education Level, dtype: int64"
            ]
          },
          "metadata": {
            "tags": []
          },
          "execution_count": 582
        }
      ]
    },
    {
      "cell_type": "code",
      "metadata": {
        "colab": {
          "base_uri": "https://localhost:8080/"
        },
        "id": "AN2a_oBZMUo1",
        "outputId": "ec25ad03-6c67-45cc-94a6-5f4d00450f83"
      },
      "source": [
        "#Solução 1 - Fazer por grupos que nós considerarmos certos. Aqui estão os que eu acho que ficam bem, mas é perfeitamente alterável\n",
        "train['Education Level'] = train['Education Level'].map(lambda x: 'Masters' if (\"Masters\" in x) else x)\n",
        "train['Education Level'] = train['Education Level'].map(lambda x: 'PostGraduation' if (\"PostGraduation\" in x) else x)\n",
        "train['Education Level'] = train['Education Level'].map(lambda x: 'Incomplete High School' if ((x== \"High School - 2nd Cycle\") | (x== \"High School - 1st Cycle\")) else x)\n",
        "train['Education Level'] = train['Education Level'].map(lambda x: 'Less than Middle School' if ((x==\"Middle School - 2nd Cycle\") | (x== \"Middle School - 1st Cycle\") | (x== \"Primary School\") |(x== \"Preschool\" )) else x)\n",
        "train['Education Level'] = train['Education Level'].map(lambda x: '<HighSchool' if ((x==\"Incomplete High School\") | (x== \"Less than Middle School\") | (x== \"Middle School Complete\")) else x)\n",
        "train[\"Education Level\"].value_counts()"
      ],
      "execution_count": 583,
      "outputs": [
        {
          "output_type": "execute_result",
          "data": {
            "text/plain": [
              "PostGraduation          9643\n",
              "Professional School     7232\n",
              "<HighSchool             2624\n",
              "Masters                 1590\n",
              "Bachelors                735\n",
              "PhD                      289\n",
              "High School Complete     287\n",
              "Name: Education Level, dtype: int64"
            ]
          },
          "metadata": {
            "tags": []
          },
          "execution_count": 583
        }
      ]
    },
    {
      "cell_type": "code",
      "metadata": {
        "colab": {
          "base_uri": "https://localhost:8080/"
        },
        "id": "DeZU8v8IVSAn",
        "outputId": "0633fde9-25c5-456c-e2aa-2edbdeef824f"
      },
      "source": [
        "#Solução 2 - Fazer por grupos instituidos pela UE (ver link acima). Se assim o fizermos, sabemos por exemplo que a professional school está acima da highschool!\n",
        "train['Education Level'] = train['Education Level'].map(lambda x: 'EQF3 or less' if ((x==\"<HighSchool\")) else x)\n",
        "train['Education Level'] = train['Education Level'].map(lambda x: 'EQF4' if ((x==\"High School Complete\")) else x)\n",
        "train['Education Level'] = train['Education Level'].map(lambda x: 'EQF5' if ((x==\"Professional School\")) else x)\n",
        "train['Education Level'] = train['Education Level'].map(lambda x: 'EQF6' if ((x==\"Bachelors\")) else x)\n",
        "train['Education Level'] = train['Education Level'].map(lambda x: 'EQF7' if ((x==\"Masters\") | (x== \"PostGraduation\")) else x)\n",
        "train['Education Level'] = train['Education Level'].map(lambda x: 'EQF8' if ((x==\"PhD\")) else x)\n",
        "train[\"Education Level\"].value_counts()"
      ],
      "execution_count": 584,
      "outputs": [
        {
          "output_type": "execute_result",
          "data": {
            "text/plain": [
              "EQF7            11233\n",
              "EQF5             7232\n",
              "EQF3 or less     2624\n",
              "EQF6              735\n",
              "EQF8              289\n",
              "EQF4              287\n",
              "Name: Education Level, dtype: int64"
            ]
          },
          "metadata": {
            "tags": []
          },
          "execution_count": 584
        }
      ]
    },
    {
      "cell_type": "markdown",
      "metadata": {
        "id": "FQNoWZ9sWB1q"
      },
      "source": [
        "### Profession\n"
      ]
    },
    {
      "cell_type": "code",
      "metadata": {
        "colab": {
          "base_uri": "https://localhost:8080/"
        },
        "id": "H_J04uF_WJYH",
        "outputId": "b77d4002-1a6a-4a7f-a24e-d335ff5b5e38"
      },
      "source": [
        "train[\"Employment Sector\"] = train[\"Employment Sector\"].astype(\"str\")\n",
        "train[\"Employment Sector\"].value_counts()"
      ],
      "execution_count": 585,
      "outputs": [
        {
          "output_type": "execute_result",
          "data": {
            "text/plain": [
              "Private Sector - Services     15599\n",
              "Self-Employed (Individual)     1764\n",
              "Public Sector - Others         1419\n",
              "nan                            1264\n",
              "Private Sector - Others         880\n",
              "Self-Employed (Company)         763\n",
              "Public Sector - Government      692\n",
              "Unemployed                       12\n",
              "Never Worked                      7\n",
              "Name: Employment Sector, dtype: int64"
            ]
          },
          "metadata": {
            "tags": []
          },
          "execution_count": 585
        }
      ]
    },
    {
      "cell_type": "code",
      "metadata": {
        "id": "GmPNUgZvWauV"
      },
      "source": [
        "train[\"Employment Sector\"]= train[\"Employment Sector\"].map(lambda x: 'Private Sector' if (\"Private Sector\" in x) else x)\n",
        "train[\"Employment Sector\"]= train[\"Employment Sector\"].map(lambda x: 'Public Sector' if (\"Public Sector\" in x) else x)\n",
        "train[\"Employment Sector\"]= train[\"Employment Sector\"].map(lambda x: 'Self Employed' if (\"Self-Employed\" in x) else x)\n",
        "train['Employment Sector'] = train['Employment Sector'].map(lambda x: 'Not Working' if ((x==\"Unemployed\") | (x== \"Never Worked\")) else x)\n",
        "train['Employment Sector'] = train['Employment Sector'].map(lambda x: np.nan if ((x==\"nan\")) else x)"
      ],
      "execution_count": 596,
      "outputs": []
    },
    {
      "cell_type": "code",
      "metadata": {
        "colab": {
          "base_uri": "https://localhost:8080/"
        },
        "id": "5sj2zwXNYvhV",
        "outputId": "9a0bae5c-92ce-4a6a-888c-c773397af197"
      },
      "source": [
        "train[\"Employment Sector\"].value_counts()"
      ],
      "execution_count": 597,
      "outputs": [
        {
          "output_type": "execute_result",
          "data": {
            "text/plain": [
              "Private Sector    16479\n",
              "Self Employed      2527\n",
              "Public Sector      2111\n",
              "Not Working          19\n",
              "Name: Employment Sector, dtype: int64"
            ]
          },
          "metadata": {
            "tags": []
          },
          "execution_count": 597
        }
      ]
    },
    {
      "cell_type": "markdown",
      "metadata": {
        "id": "r2WZxPUykwLN"
      },
      "source": [
        "### Role"
      ]
    },
    {
      "cell_type": "code",
      "metadata": {
        "colab": {
          "base_uri": "https://localhost:8080/"
        },
        "id": "cVyAUhGrawdN",
        "outputId": "38f0a478-9717-4b7a-c6cf-4fd83fd73147"
      },
      "source": [
        "train[\"Role\"].value_counts()"
      ],
      "execution_count": 588,
      "outputs": [
        {
          "output_type": "execute_result",
          "data": {
            "text/plain": [
              "Professor                         2849\n",
              "Management                        2797\n",
              "Repair & constructions            2795\n",
              "Administratives                   2608\n",
              "Sales                             2531\n",
              "Other services                    2287\n",
              "Machine Operators & Inspectors    1384\n",
              "Transports                        1071\n",
              "Cleaners & Handlers                922\n",
              "Agriculture and Fishing            702\n",
              "IT                                 626\n",
              "Security                           450\n",
              "Household Services                 102\n",
              "Army                                 5\n",
              "Name: Role, dtype: int64"
            ]
          },
          "metadata": {
            "tags": []
          },
          "execution_count": 588
        }
      ]
    },
    {
      "cell_type": "code",
      "metadata": {
        "id": "YkNjLO_kl4Xw"
      },
      "source": [
        "## Primário: Agriculture and Fishing, \n",
        "## Secundário:Repair & constructions, Machine Operators & Inspectors,\n",
        "## Terciário: Administratives, Sales, Other services, Transports, Cleaners & Handlers, Household Services, Security, Army  \n",
        "## Quaternário: IT, Professor, Management"
      ],
      "execution_count": 589,
      "outputs": []
    },
    {
      "cell_type": "code",
      "metadata": {
        "id": "PCBvIb6QnaTd"
      },
      "source": [
        "train[\"Role\"]= train[\"Role\"].map(lambda x: '1st Sector' if ((x==\"Agriculture and Fishing\")) else x)\n",
        "train[\"Role\"]= train[\"Role\"].map(lambda x: '2nd Sector' if ((x==\"Repair & constructions\") | (x== \"Machine Operators & Inspectors\"))else x)\n",
        "train[\"Role\"]= train[\"Role\"].map(lambda x: '3rd Sector' if ((x== \"Administratives\")| (x== \"Sales\")| (x== \"Other services\")| (x== \"Transports\")| (x== \"Cleaners & Handlers\")| (x== \"Household Services\")| (x== \"Security\")| (x== \"Army\"))else x)\n",
        "train[\"Role\"]= train[\"Role\"].map(lambda x: '4th Sector' if ((x==\"IT\") | (x== \"Professor\")| (x== \"Management\"))else x)"
      ],
      "execution_count": 590,
      "outputs": []
    },
    {
      "cell_type": "code",
      "metadata": {
        "colab": {
          "base_uri": "https://localhost:8080/"
        },
        "id": "p5pYP6o2nG-Q",
        "outputId": "f17e5bab-af54-4c7f-eb5b-9b6893d5eb6f"
      },
      "source": [
        "train[\"Role\"].value_counts()"
      ],
      "execution_count": 591,
      "outputs": [
        {
          "output_type": "execute_result",
          "data": {
            "text/plain": [
              "3rd Sector    9976\n",
              "4th Sector    6272\n",
              "2nd Sector    4179\n",
              "1st Sector     702\n",
              "Name: Role, dtype: int64"
            ]
          },
          "metadata": {
            "tags": []
          },
          "execution_count": 591
        }
      ]
    },
    {
      "cell_type": "markdown",
      "metadata": {
        "id": "YuO-KYzHJST5"
      },
      "source": [
        "# **Missing Values Imputation**"
      ]
    },
    {
      "cell_type": "code",
      "metadata": {
        "id": "DhTB20wmuy3A",
        "outputId": "90d653f6-3317-4a12-eef9-1d199407a2b1",
        "colab": {
          "base_uri": "https://localhost:8080/"
        }
      },
      "source": [
        "train.isna().sum()"
      ],
      "execution_count": 598,
      "outputs": [
        {
          "output_type": "execute_result",
          "data": {
            "text/plain": [
              "CITIZEN_ID                   0\n",
              "Native Continent             0\n",
              "Marital Status               0\n",
              "Lives with                   0\n",
              "Education Level              0\n",
              "Years of Education           0\n",
              "Employment Sector         1264\n",
              "Role                      1271\n",
              "Working Hours per week       0\n",
              "Money Received               0\n",
              "Ticket Price                 0\n",
              "Income                       0\n",
              "Age                          0\n",
              "Northbury                    0\n",
              "Male                         0\n",
              "dtype: int64"
            ]
          },
          "metadata": {
            "tags": []
          },
          "execution_count": 598
        }
      ]
    },
    {
      "cell_type": "code",
      "metadata": {
        "id": "r4czkMMQwjJA",
        "outputId": "44f31825-99db-4ca7-943f-935415d82ca2",
        "colab": {
          "base_uri": "https://localhost:8080/",
          "height": 334
        }
      },
      "source": [
        "imputer = KNNImputer(n_neighbors=5, weights=\"uniform\")\n",
        "imputer.fit_transform(train[[\"Employment Sector\", \"Role\"]])"
      ],
      "execution_count": 602,
      "outputs": [
        {
          "output_type": "error",
          "ename": "ValueError",
          "evalue": "ignored",
          "traceback": [
            "\u001b[0;31m---------------------------------------------------------------------------\u001b[0m",
            "\u001b[0;31mValueError\u001b[0m                                Traceback (most recent call last)",
            "\u001b[0;32m<ipython-input-602-b6333116cf2b>\u001b[0m in \u001b[0;36m<module>\u001b[0;34m()\u001b[0m\n\u001b[1;32m      1\u001b[0m \u001b[0mimputer\u001b[0m \u001b[0;34m=\u001b[0m \u001b[0mKNNImputer\u001b[0m\u001b[0;34m(\u001b[0m\u001b[0mn_neighbors\u001b[0m\u001b[0;34m=\u001b[0m\u001b[0;36m5\u001b[0m\u001b[0;34m,\u001b[0m \u001b[0mweights\u001b[0m\u001b[0;34m=\u001b[0m\u001b[0;34m\"uniform\"\u001b[0m\u001b[0;34m)\u001b[0m\u001b[0;34m\u001b[0m\u001b[0;34m\u001b[0m\u001b[0m\n\u001b[0;32m----> 2\u001b[0;31m \u001b[0mimputer\u001b[0m\u001b[0;34m.\u001b[0m\u001b[0mfit_transform\u001b[0m\u001b[0;34m(\u001b[0m\u001b[0mtrain\u001b[0m\u001b[0;34m[\u001b[0m\u001b[0;34m[\u001b[0m\u001b[0;34m\"Employment Sector\"\u001b[0m\u001b[0;34m,\u001b[0m \u001b[0;34m\"Role\"\u001b[0m\u001b[0;34m]\u001b[0m\u001b[0;34m]\u001b[0m\u001b[0;34m)\u001b[0m\u001b[0;34m\u001b[0m\u001b[0;34m\u001b[0m\u001b[0m\n\u001b[0m",
            "\u001b[0;32m/usr/local/lib/python3.6/dist-packages/sklearn/base.py\u001b[0m in \u001b[0;36mfit_transform\u001b[0;34m(self, X, y, **fit_params)\u001b[0m\n\u001b[1;32m    569\u001b[0m         \u001b[0;32mif\u001b[0m \u001b[0my\u001b[0m \u001b[0;32mis\u001b[0m \u001b[0;32mNone\u001b[0m\u001b[0;34m:\u001b[0m\u001b[0;34m\u001b[0m\u001b[0;34m\u001b[0m\u001b[0m\n\u001b[1;32m    570\u001b[0m             \u001b[0;31m# fit method of arity 1 (unsupervised transformation)\u001b[0m\u001b[0;34m\u001b[0m\u001b[0;34m\u001b[0m\u001b[0;34m\u001b[0m\u001b[0m\n\u001b[0;32m--> 571\u001b[0;31m             \u001b[0;32mreturn\u001b[0m \u001b[0mself\u001b[0m\u001b[0;34m.\u001b[0m\u001b[0mfit\u001b[0m\u001b[0;34m(\u001b[0m\u001b[0mX\u001b[0m\u001b[0;34m,\u001b[0m \u001b[0;34m**\u001b[0m\u001b[0mfit_params\u001b[0m\u001b[0;34m)\u001b[0m\u001b[0;34m.\u001b[0m\u001b[0mtransform\u001b[0m\u001b[0;34m(\u001b[0m\u001b[0mX\u001b[0m\u001b[0;34m)\u001b[0m\u001b[0;34m\u001b[0m\u001b[0;34m\u001b[0m\u001b[0m\n\u001b[0m\u001b[1;32m    572\u001b[0m         \u001b[0;32melse\u001b[0m\u001b[0;34m:\u001b[0m\u001b[0;34m\u001b[0m\u001b[0;34m\u001b[0m\u001b[0m\n\u001b[1;32m    573\u001b[0m             \u001b[0;31m# fit method of arity 2 (supervised transformation)\u001b[0m\u001b[0;34m\u001b[0m\u001b[0;34m\u001b[0m\u001b[0;34m\u001b[0m\u001b[0m\n",
            "\u001b[0;32m/usr/local/lib/python3.6/dist-packages/sklearn/impute/_knn.py\u001b[0m in \u001b[0;36mfit\u001b[0;34m(self, X, y)\u001b[0m\n\u001b[1;32m    180\u001b[0m \u001b[0;34m\u001b[0m\u001b[0m\n\u001b[1;32m    181\u001b[0m         X = check_array(X, accept_sparse=False, dtype=FLOAT_DTYPES,\n\u001b[0;32m--> 182\u001b[0;31m                         force_all_finite=force_all_finite, copy=self.copy)\n\u001b[0m\u001b[1;32m    183\u001b[0m         \u001b[0msuper\u001b[0m\u001b[0;34m(\u001b[0m\u001b[0;34m)\u001b[0m\u001b[0;34m.\u001b[0m\u001b[0m_fit_indicator\u001b[0m\u001b[0;34m(\u001b[0m\u001b[0mX\u001b[0m\u001b[0;34m)\u001b[0m\u001b[0;34m\u001b[0m\u001b[0;34m\u001b[0m\u001b[0m\n\u001b[1;32m    184\u001b[0m \u001b[0;34m\u001b[0m\u001b[0m\n",
            "\u001b[0;32m/usr/local/lib/python3.6/dist-packages/sklearn/utils/validation.py\u001b[0m in \u001b[0;36mcheck_array\u001b[0;34m(array, accept_sparse, accept_large_sparse, dtype, order, copy, force_all_finite, ensure_2d, allow_nd, ensure_min_samples, ensure_min_features, warn_on_dtype, estimator)\u001b[0m\n\u001b[1;32m    529\u001b[0m                     \u001b[0marray\u001b[0m \u001b[0;34m=\u001b[0m \u001b[0marray\u001b[0m\u001b[0;34m.\u001b[0m\u001b[0mastype\u001b[0m\u001b[0;34m(\u001b[0m\u001b[0mdtype\u001b[0m\u001b[0;34m,\u001b[0m \u001b[0mcasting\u001b[0m\u001b[0;34m=\u001b[0m\u001b[0;34m\"unsafe\"\u001b[0m\u001b[0;34m,\u001b[0m \u001b[0mcopy\u001b[0m\u001b[0;34m=\u001b[0m\u001b[0;32mFalse\u001b[0m\u001b[0;34m)\u001b[0m\u001b[0;34m\u001b[0m\u001b[0;34m\u001b[0m\u001b[0m\n\u001b[1;32m    530\u001b[0m                 \u001b[0;32melse\u001b[0m\u001b[0;34m:\u001b[0m\u001b[0;34m\u001b[0m\u001b[0;34m\u001b[0m\u001b[0m\n\u001b[0;32m--> 531\u001b[0;31m                     \u001b[0marray\u001b[0m \u001b[0;34m=\u001b[0m \u001b[0mnp\u001b[0m\u001b[0;34m.\u001b[0m\u001b[0masarray\u001b[0m\u001b[0;34m(\u001b[0m\u001b[0marray\u001b[0m\u001b[0;34m,\u001b[0m \u001b[0morder\u001b[0m\u001b[0;34m=\u001b[0m\u001b[0morder\u001b[0m\u001b[0;34m,\u001b[0m \u001b[0mdtype\u001b[0m\u001b[0;34m=\u001b[0m\u001b[0mdtype\u001b[0m\u001b[0;34m)\u001b[0m\u001b[0;34m\u001b[0m\u001b[0;34m\u001b[0m\u001b[0m\n\u001b[0m\u001b[1;32m    532\u001b[0m             \u001b[0;32mexcept\u001b[0m \u001b[0mComplexWarning\u001b[0m\u001b[0;34m:\u001b[0m\u001b[0;34m\u001b[0m\u001b[0;34m\u001b[0m\u001b[0m\n\u001b[1;32m    533\u001b[0m                 raise ValueError(\"Complex data not supported\\n\"\n",
            "\u001b[0;32m/usr/local/lib/python3.6/dist-packages/numpy/core/_asarray.py\u001b[0m in \u001b[0;36masarray\u001b[0;34m(a, dtype, order)\u001b[0m\n\u001b[1;32m     83\u001b[0m \u001b[0;34m\u001b[0m\u001b[0m\n\u001b[1;32m     84\u001b[0m     \"\"\"\n\u001b[0;32m---> 85\u001b[0;31m     \u001b[0;32mreturn\u001b[0m \u001b[0marray\u001b[0m\u001b[0;34m(\u001b[0m\u001b[0ma\u001b[0m\u001b[0;34m,\u001b[0m \u001b[0mdtype\u001b[0m\u001b[0;34m,\u001b[0m \u001b[0mcopy\u001b[0m\u001b[0;34m=\u001b[0m\u001b[0;32mFalse\u001b[0m\u001b[0;34m,\u001b[0m \u001b[0morder\u001b[0m\u001b[0;34m=\u001b[0m\u001b[0morder\u001b[0m\u001b[0;34m)\u001b[0m\u001b[0;34m\u001b[0m\u001b[0;34m\u001b[0m\u001b[0m\n\u001b[0m\u001b[1;32m     86\u001b[0m \u001b[0;34m\u001b[0m\u001b[0m\n\u001b[1;32m     87\u001b[0m \u001b[0;34m\u001b[0m\u001b[0m\n",
            "\u001b[0;32m/usr/local/lib/python3.6/dist-packages/pandas/core/generic.py\u001b[0m in \u001b[0;36m__array__\u001b[0;34m(self, dtype)\u001b[0m\n\u001b[1;32m   1779\u001b[0m \u001b[0;34m\u001b[0m\u001b[0m\n\u001b[1;32m   1780\u001b[0m     \u001b[0;32mdef\u001b[0m \u001b[0m__array__\u001b[0m\u001b[0;34m(\u001b[0m\u001b[0mself\u001b[0m\u001b[0;34m,\u001b[0m \u001b[0mdtype\u001b[0m\u001b[0;34m=\u001b[0m\u001b[0;32mNone\u001b[0m\u001b[0;34m)\u001b[0m \u001b[0;34m->\u001b[0m \u001b[0mnp\u001b[0m\u001b[0;34m.\u001b[0m\u001b[0mndarray\u001b[0m\u001b[0;34m:\u001b[0m\u001b[0;34m\u001b[0m\u001b[0;34m\u001b[0m\u001b[0m\n\u001b[0;32m-> 1781\u001b[0;31m         \u001b[0;32mreturn\u001b[0m \u001b[0mnp\u001b[0m\u001b[0;34m.\u001b[0m\u001b[0masarray\u001b[0m\u001b[0;34m(\u001b[0m\u001b[0mself\u001b[0m\u001b[0;34m.\u001b[0m\u001b[0m_values\u001b[0m\u001b[0;34m,\u001b[0m \u001b[0mdtype\u001b[0m\u001b[0;34m=\u001b[0m\u001b[0mdtype\u001b[0m\u001b[0;34m)\u001b[0m\u001b[0;34m\u001b[0m\u001b[0;34m\u001b[0m\u001b[0m\n\u001b[0m\u001b[1;32m   1782\u001b[0m \u001b[0;34m\u001b[0m\u001b[0m\n\u001b[1;32m   1783\u001b[0m     \u001b[0;32mdef\u001b[0m \u001b[0m__array_wrap__\u001b[0m\u001b[0;34m(\u001b[0m\u001b[0mself\u001b[0m\u001b[0;34m,\u001b[0m \u001b[0mresult\u001b[0m\u001b[0;34m,\u001b[0m \u001b[0mcontext\u001b[0m\u001b[0;34m=\u001b[0m\u001b[0;32mNone\u001b[0m\u001b[0;34m)\u001b[0m\u001b[0;34m:\u001b[0m\u001b[0;34m\u001b[0m\u001b[0;34m\u001b[0m\u001b[0m\n",
            "\u001b[0;32m/usr/local/lib/python3.6/dist-packages/numpy/core/_asarray.py\u001b[0m in \u001b[0;36masarray\u001b[0;34m(a, dtype, order)\u001b[0m\n\u001b[1;32m     83\u001b[0m \u001b[0;34m\u001b[0m\u001b[0m\n\u001b[1;32m     84\u001b[0m     \"\"\"\n\u001b[0;32m---> 85\u001b[0;31m     \u001b[0;32mreturn\u001b[0m \u001b[0marray\u001b[0m\u001b[0;34m(\u001b[0m\u001b[0ma\u001b[0m\u001b[0;34m,\u001b[0m \u001b[0mdtype\u001b[0m\u001b[0;34m,\u001b[0m \u001b[0mcopy\u001b[0m\u001b[0;34m=\u001b[0m\u001b[0;32mFalse\u001b[0m\u001b[0;34m,\u001b[0m \u001b[0morder\u001b[0m\u001b[0;34m=\u001b[0m\u001b[0morder\u001b[0m\u001b[0;34m)\u001b[0m\u001b[0;34m\u001b[0m\u001b[0;34m\u001b[0m\u001b[0m\n\u001b[0m\u001b[1;32m     86\u001b[0m \u001b[0;34m\u001b[0m\u001b[0m\n\u001b[1;32m     87\u001b[0m \u001b[0;34m\u001b[0m\u001b[0m\n",
            "\u001b[0;31mValueError\u001b[0m: could not convert string to float: 'Private Sector'"
          ]
        }
      ]
    },
    {
      "cell_type": "markdown",
      "metadata": {
        "id": "awM3kIHXTLII"
      },
      "source": [
        "# **Data Encoding**\n",
        "Types of data encoding: https://www.analyticsvidhya.com/blog/2020/08/types-of-categorical-data-encoding/"
      ]
    },
    {
      "cell_type": "code",
      "metadata": {
        "id": "rWSQkxDuzywW",
        "outputId": "08bb031e-e731-4236-bd6e-6da2106738ec",
        "colab": {
          "base_uri": "https://localhost:8080/"
        }
      },
      "source": [
        "print(\"Number of Categories in: \")\n",
        "for ColName in train[['Native Continent','Marital Status','Lives with', 'Education Level', \"Employment Sector\",\"Role\"]]:\n",
        "    print(\"{} = {}\".format(ColName,len(train[ColName].unique())))"
      ],
      "execution_count": 603,
      "outputs": [
        {
          "output_type": "stream",
          "text": [
            "Number of Categories in: \n",
            "Native Continent = 5\n",
            "Marital Status = 3\n",
            "Lives with = 4\n",
            "Education Level = 6\n",
            "Employment Sector = 5\n",
            "Role = 5\n"
          ],
          "name": "stdout"
        }
      ]
    },
    {
      "cell_type": "markdown",
      "metadata": {
        "heading_collapsed": true,
        "hidden": true,
        "id": "Ntm96CXt3VJu"
      },
      "source": [
        "#### One Hot Encoding"
      ]
    },
    {
      "cell_type": "code",
      "metadata": {
        "colab": {
          "base_uri": "https://localhost:8080/"
        },
        "id": "kPcUqFLrseVD",
        "outputId": "815816c1-4837-440f-abab-a68ae1247d46"
      },
      "source": [
        "train.dtypes"
      ],
      "execution_count": 527,
      "outputs": [
        {
          "output_type": "execute_result",
          "data": {
            "text/plain": [
              "CITIZEN_ID                 int64\n",
              "Native Continent          object\n",
              "Marital Status            object\n",
              "Lives with                object\n",
              "Education Level           object\n",
              "Years of Education         int64\n",
              "Employment Sector         object\n",
              "Role                      object\n",
              "Working Hours per week     int64\n",
              "Money Received             int64\n",
              "Ticket Price               int64\n",
              "Income                     int64\n",
              "Age                        int64\n",
              "Northbury                  int64\n",
              "Male                       int64\n",
              "dtype: object"
            ]
          },
          "metadata": {
            "tags": []
          },
          "execution_count": 527
        }
      ]
    },
    {
      "cell_type": "code",
      "metadata": {
        "hidden": true,
        "colab": {
          "base_uri": "https://localhost:8080/",
          "height": 316
        },
        "id": "h63WsnfJ3VJu",
        "outputId": "0cd4775e-4303-40a1-bdb2-a29035b93621"
      },
      "source": [
        "one_hot_var = ohe(train, ['Native Continent', 'Marital Status', 'Lives with', \"Employment Sector\", \"Role\", \"Education Level\"])"
      ],
      "execution_count": 528,
      "outputs": [
        {
          "output_type": "error",
          "ename": "ValueError",
          "evalue": "ignored",
          "traceback": [
            "\u001b[0;31m---------------------------------------------------------------------------\u001b[0m",
            "\u001b[0;31mValueError\u001b[0m                                Traceback (most recent call last)",
            "\u001b[0;32m<ipython-input-528-609c8fa62b39>\u001b[0m in \u001b[0;36m<module>\u001b[0;34m()\u001b[0m\n\u001b[0;32m----> 1\u001b[0;31m \u001b[0mone_hot_var\u001b[0m \u001b[0;34m=\u001b[0m \u001b[0mohe\u001b[0m\u001b[0;34m(\u001b[0m\u001b[0mtrain\u001b[0m\u001b[0;34m,\u001b[0m \u001b[0;34m[\u001b[0m\u001b[0;34m'Native Continent'\u001b[0m\u001b[0;34m,\u001b[0m \u001b[0;34m'Marital Status'\u001b[0m\u001b[0;34m,\u001b[0m \u001b[0;34m'Lives with'\u001b[0m\u001b[0;34m,\u001b[0m \u001b[0;34m\"Employment Sector\"\u001b[0m\u001b[0;34m,\u001b[0m \u001b[0;34m\"Role\"\u001b[0m\u001b[0;34m,\u001b[0m \u001b[0;34m\"Education Level\"\u001b[0m\u001b[0;34m]\u001b[0m\u001b[0;34m)\u001b[0m\u001b[0;34m\u001b[0m\u001b[0;34m\u001b[0m\u001b[0m\n\u001b[0m",
            "\u001b[0;32m<ipython-input-124-1ed0d22a5c3e>\u001b[0m in \u001b[0;36mohe\u001b[0;34m(df, column_list)\u001b[0m\n\u001b[1;32m     17\u001b[0m \u001b[0;32mdef\u001b[0m \u001b[0mohe\u001b[0m\u001b[0;34m(\u001b[0m\u001b[0mdf\u001b[0m\u001b[0;34m,\u001b[0m \u001b[0mcolumn_list\u001b[0m\u001b[0;34m)\u001b[0m\u001b[0;34m:\u001b[0m\u001b[0;34m\u001b[0m\u001b[0;34m\u001b[0m\u001b[0m\n\u001b[1;32m     18\u001b[0m     \u001b[0mohc\u001b[0m \u001b[0;34m=\u001b[0m \u001b[0mOneHotEncoder\u001b[0m\u001b[0;34m(\u001b[0m\u001b[0msparse\u001b[0m \u001b[0;34m=\u001b[0m \u001b[0;32mFalse\u001b[0m\u001b[0;34m)\u001b[0m\u001b[0;34m\u001b[0m\u001b[0;34m\u001b[0m\u001b[0m\n\u001b[0;32m---> 19\u001b[0;31m     \u001b[0mohc_feat\u001b[0m \u001b[0;34m=\u001b[0m \u001b[0mohc\u001b[0m\u001b[0;34m.\u001b[0m\u001b[0mfit_transform\u001b[0m\u001b[0;34m(\u001b[0m\u001b[0mdf\u001b[0m\u001b[0;34m[\u001b[0m\u001b[0mcolumn_list\u001b[0m\u001b[0;34m]\u001b[0m\u001b[0;34m)\u001b[0m\u001b[0;34m\u001b[0m\u001b[0;34m\u001b[0m\u001b[0m\n\u001b[0m\u001b[1;32m     20\u001b[0m     \u001b[0mohc_feat_names\u001b[0m \u001b[0;34m=\u001b[0m \u001b[0mohc\u001b[0m\u001b[0;34m.\u001b[0m\u001b[0mget_feature_names\u001b[0m\u001b[0;34m(\u001b[0m\u001b[0;34m)\u001b[0m\u001b[0;34m\u001b[0m\u001b[0;34m\u001b[0m\u001b[0m\n\u001b[1;32m     21\u001b[0m     \u001b[0mohc_df\u001b[0m \u001b[0;34m=\u001b[0m \u001b[0mpd\u001b[0m\u001b[0;34m.\u001b[0m\u001b[0mDataFrame\u001b[0m\u001b[0;34m(\u001b[0m\u001b[0mohc_feat\u001b[0m\u001b[0;34m,\u001b[0m \u001b[0mindex\u001b[0m \u001b[0;34m=\u001b[0m \u001b[0mdf\u001b[0m\u001b[0;34m.\u001b[0m\u001b[0mindex\u001b[0m\u001b[0;34m,\u001b[0m \u001b[0mcolumns\u001b[0m \u001b[0;34m=\u001b[0m \u001b[0mohc_feat_names\u001b[0m\u001b[0;34m)\u001b[0m\u001b[0;34m\u001b[0m\u001b[0;34m\u001b[0m\u001b[0m\n",
            "\u001b[0;32m/usr/local/lib/python3.6/dist-packages/sklearn/preprocessing/_encoders.py\u001b[0m in \u001b[0;36mfit_transform\u001b[0;34m(self, X, y)\u001b[0m\n\u001b[1;32m    370\u001b[0m         \"\"\"\n\u001b[1;32m    371\u001b[0m         \u001b[0mself\u001b[0m\u001b[0;34m.\u001b[0m\u001b[0m_validate_keywords\u001b[0m\u001b[0;34m(\u001b[0m\u001b[0;34m)\u001b[0m\u001b[0;34m\u001b[0m\u001b[0;34m\u001b[0m\u001b[0m\n\u001b[0;32m--> 372\u001b[0;31m         \u001b[0;32mreturn\u001b[0m \u001b[0msuper\u001b[0m\u001b[0;34m(\u001b[0m\u001b[0;34m)\u001b[0m\u001b[0;34m.\u001b[0m\u001b[0mfit_transform\u001b[0m\u001b[0;34m(\u001b[0m\u001b[0mX\u001b[0m\u001b[0;34m,\u001b[0m \u001b[0my\u001b[0m\u001b[0;34m)\u001b[0m\u001b[0;34m\u001b[0m\u001b[0;34m\u001b[0m\u001b[0m\n\u001b[0m\u001b[1;32m    373\u001b[0m \u001b[0;34m\u001b[0m\u001b[0m\n\u001b[1;32m    374\u001b[0m     \u001b[0;32mdef\u001b[0m \u001b[0mtransform\u001b[0m\u001b[0;34m(\u001b[0m\u001b[0mself\u001b[0m\u001b[0;34m,\u001b[0m \u001b[0mX\u001b[0m\u001b[0;34m)\u001b[0m\u001b[0;34m:\u001b[0m\u001b[0;34m\u001b[0m\u001b[0;34m\u001b[0m\u001b[0m\n",
            "\u001b[0;32m/usr/local/lib/python3.6/dist-packages/sklearn/base.py\u001b[0m in \u001b[0;36mfit_transform\u001b[0;34m(self, X, y, **fit_params)\u001b[0m\n\u001b[1;32m    569\u001b[0m         \u001b[0;32mif\u001b[0m \u001b[0my\u001b[0m \u001b[0;32mis\u001b[0m \u001b[0;32mNone\u001b[0m\u001b[0;34m:\u001b[0m\u001b[0;34m\u001b[0m\u001b[0;34m\u001b[0m\u001b[0m\n\u001b[1;32m    570\u001b[0m             \u001b[0;31m# fit method of arity 1 (unsupervised transformation)\u001b[0m\u001b[0;34m\u001b[0m\u001b[0;34m\u001b[0m\u001b[0;34m\u001b[0m\u001b[0m\n\u001b[0;32m--> 571\u001b[0;31m             \u001b[0;32mreturn\u001b[0m \u001b[0mself\u001b[0m\u001b[0;34m.\u001b[0m\u001b[0mfit\u001b[0m\u001b[0;34m(\u001b[0m\u001b[0mX\u001b[0m\u001b[0;34m,\u001b[0m \u001b[0;34m**\u001b[0m\u001b[0mfit_params\u001b[0m\u001b[0;34m)\u001b[0m\u001b[0;34m.\u001b[0m\u001b[0mtransform\u001b[0m\u001b[0;34m(\u001b[0m\u001b[0mX\u001b[0m\u001b[0;34m)\u001b[0m\u001b[0;34m\u001b[0m\u001b[0;34m\u001b[0m\u001b[0m\n\u001b[0m\u001b[1;32m    572\u001b[0m         \u001b[0;32melse\u001b[0m\u001b[0;34m:\u001b[0m\u001b[0;34m\u001b[0m\u001b[0;34m\u001b[0m\u001b[0m\n\u001b[1;32m    573\u001b[0m             \u001b[0;31m# fit method of arity 2 (supervised transformation)\u001b[0m\u001b[0;34m\u001b[0m\u001b[0;34m\u001b[0m\u001b[0;34m\u001b[0m\u001b[0m\n",
            "\u001b[0;32m/usr/local/lib/python3.6/dist-packages/sklearn/preprocessing/_encoders.py\u001b[0m in \u001b[0;36mfit\u001b[0;34m(self, X, y)\u001b[0m\n\u001b[1;32m    345\u001b[0m         \"\"\"\n\u001b[1;32m    346\u001b[0m         \u001b[0mself\u001b[0m\u001b[0;34m.\u001b[0m\u001b[0m_validate_keywords\u001b[0m\u001b[0;34m(\u001b[0m\u001b[0;34m)\u001b[0m\u001b[0;34m\u001b[0m\u001b[0;34m\u001b[0m\u001b[0m\n\u001b[0;32m--> 347\u001b[0;31m         \u001b[0mself\u001b[0m\u001b[0;34m.\u001b[0m\u001b[0m_fit\u001b[0m\u001b[0;34m(\u001b[0m\u001b[0mX\u001b[0m\u001b[0;34m,\u001b[0m \u001b[0mhandle_unknown\u001b[0m\u001b[0;34m=\u001b[0m\u001b[0mself\u001b[0m\u001b[0;34m.\u001b[0m\u001b[0mhandle_unknown\u001b[0m\u001b[0;34m)\u001b[0m\u001b[0;34m\u001b[0m\u001b[0;34m\u001b[0m\u001b[0m\n\u001b[0m\u001b[1;32m    348\u001b[0m         \u001b[0mself\u001b[0m\u001b[0;34m.\u001b[0m\u001b[0mdrop_idx_\u001b[0m \u001b[0;34m=\u001b[0m \u001b[0mself\u001b[0m\u001b[0;34m.\u001b[0m\u001b[0m_compute_drop_idx\u001b[0m\u001b[0;34m(\u001b[0m\u001b[0;34m)\u001b[0m\u001b[0;34m\u001b[0m\u001b[0;34m\u001b[0m\u001b[0m\n\u001b[1;32m    349\u001b[0m         \u001b[0;32mreturn\u001b[0m \u001b[0mself\u001b[0m\u001b[0;34m\u001b[0m\u001b[0;34m\u001b[0m\u001b[0m\n",
            "\u001b[0;32m/usr/local/lib/python3.6/dist-packages/sklearn/preprocessing/_encoders.py\u001b[0m in \u001b[0;36m_fit\u001b[0;34m(self, X, handle_unknown)\u001b[0m\n\u001b[1;32m     72\u001b[0m \u001b[0;34m\u001b[0m\u001b[0m\n\u001b[1;32m     73\u001b[0m     \u001b[0;32mdef\u001b[0m \u001b[0m_fit\u001b[0m\u001b[0;34m(\u001b[0m\u001b[0mself\u001b[0m\u001b[0;34m,\u001b[0m \u001b[0mX\u001b[0m\u001b[0;34m,\u001b[0m \u001b[0mhandle_unknown\u001b[0m\u001b[0;34m=\u001b[0m\u001b[0;34m'error'\u001b[0m\u001b[0;34m)\u001b[0m\u001b[0;34m:\u001b[0m\u001b[0;34m\u001b[0m\u001b[0;34m\u001b[0m\u001b[0m\n\u001b[0;32m---> 74\u001b[0;31m         \u001b[0mX_list\u001b[0m\u001b[0;34m,\u001b[0m \u001b[0mn_samples\u001b[0m\u001b[0;34m,\u001b[0m \u001b[0mn_features\u001b[0m \u001b[0;34m=\u001b[0m \u001b[0mself\u001b[0m\u001b[0;34m.\u001b[0m\u001b[0m_check_X\u001b[0m\u001b[0;34m(\u001b[0m\u001b[0mX\u001b[0m\u001b[0;34m)\u001b[0m\u001b[0;34m\u001b[0m\u001b[0;34m\u001b[0m\u001b[0m\n\u001b[0m\u001b[1;32m     75\u001b[0m \u001b[0;34m\u001b[0m\u001b[0m\n\u001b[1;32m     76\u001b[0m         \u001b[0;32mif\u001b[0m \u001b[0mself\u001b[0m\u001b[0;34m.\u001b[0m\u001b[0mcategories\u001b[0m \u001b[0;34m!=\u001b[0m \u001b[0;34m'auto'\u001b[0m\u001b[0;34m:\u001b[0m\u001b[0;34m\u001b[0m\u001b[0;34m\u001b[0m\u001b[0m\n",
            "\u001b[0;32m/usr/local/lib/python3.6/dist-packages/sklearn/preprocessing/_encoders.py\u001b[0m in \u001b[0;36m_check_X\u001b[0;34m(self, X)\u001b[0m\n\u001b[1;32m     59\u001b[0m             \u001b[0mXi\u001b[0m \u001b[0;34m=\u001b[0m \u001b[0mself\u001b[0m\u001b[0;34m.\u001b[0m\u001b[0m_get_feature\u001b[0m\u001b[0;34m(\u001b[0m\u001b[0mX\u001b[0m\u001b[0;34m,\u001b[0m \u001b[0mfeature_idx\u001b[0m\u001b[0;34m=\u001b[0m\u001b[0mi\u001b[0m\u001b[0;34m)\u001b[0m\u001b[0;34m\u001b[0m\u001b[0;34m\u001b[0m\u001b[0m\n\u001b[1;32m     60\u001b[0m             Xi = check_array(Xi, ensure_2d=False, dtype=None,\n\u001b[0;32m---> 61\u001b[0;31m                              force_all_finite=needs_validation)\n\u001b[0m\u001b[1;32m     62\u001b[0m             \u001b[0mX_columns\u001b[0m\u001b[0;34m.\u001b[0m\u001b[0mappend\u001b[0m\u001b[0;34m(\u001b[0m\u001b[0mXi\u001b[0m\u001b[0;34m)\u001b[0m\u001b[0;34m\u001b[0m\u001b[0;34m\u001b[0m\u001b[0m\n\u001b[1;32m     63\u001b[0m \u001b[0;34m\u001b[0m\u001b[0m\n",
            "\u001b[0;32m/usr/local/lib/python3.6/dist-packages/sklearn/utils/validation.py\u001b[0m in \u001b[0;36mcheck_array\u001b[0;34m(array, accept_sparse, accept_large_sparse, dtype, order, copy, force_all_finite, ensure_2d, allow_nd, ensure_min_samples, ensure_min_features, warn_on_dtype, estimator)\u001b[0m\n\u001b[1;32m    576\u001b[0m         \u001b[0;32mif\u001b[0m \u001b[0mforce_all_finite\u001b[0m\u001b[0;34m:\u001b[0m\u001b[0;34m\u001b[0m\u001b[0;34m\u001b[0m\u001b[0m\n\u001b[1;32m    577\u001b[0m             _assert_all_finite(array,\n\u001b[0;32m--> 578\u001b[0;31m                                allow_nan=force_all_finite == 'allow-nan')\n\u001b[0m\u001b[1;32m    579\u001b[0m \u001b[0;34m\u001b[0m\u001b[0m\n\u001b[1;32m    580\u001b[0m     \u001b[0;32mif\u001b[0m \u001b[0mensure_min_samples\u001b[0m \u001b[0;34m>\u001b[0m \u001b[0;36m0\u001b[0m\u001b[0;34m:\u001b[0m\u001b[0;34m\u001b[0m\u001b[0;34m\u001b[0m\u001b[0m\n",
            "\u001b[0;32m/usr/local/lib/python3.6/dist-packages/sklearn/utils/validation.py\u001b[0m in \u001b[0;36m_assert_all_finite\u001b[0;34m(X, allow_nan, msg_dtype)\u001b[0m\n\u001b[1;32m     63\u001b[0m     \u001b[0;32melif\u001b[0m \u001b[0mX\u001b[0m\u001b[0;34m.\u001b[0m\u001b[0mdtype\u001b[0m \u001b[0;34m==\u001b[0m \u001b[0mnp\u001b[0m\u001b[0;34m.\u001b[0m\u001b[0mdtype\u001b[0m\u001b[0;34m(\u001b[0m\u001b[0;34m'object'\u001b[0m\u001b[0;34m)\u001b[0m \u001b[0;32mand\u001b[0m \u001b[0;32mnot\u001b[0m \u001b[0mallow_nan\u001b[0m\u001b[0;34m:\u001b[0m\u001b[0;34m\u001b[0m\u001b[0;34m\u001b[0m\u001b[0m\n\u001b[1;32m     64\u001b[0m         \u001b[0;32mif\u001b[0m \u001b[0m_object_dtype_isnan\u001b[0m\u001b[0;34m(\u001b[0m\u001b[0mX\u001b[0m\u001b[0;34m)\u001b[0m\u001b[0;34m.\u001b[0m\u001b[0many\u001b[0m\u001b[0;34m(\u001b[0m\u001b[0;34m)\u001b[0m\u001b[0;34m:\u001b[0m\u001b[0;34m\u001b[0m\u001b[0;34m\u001b[0m\u001b[0m\n\u001b[0;32m---> 65\u001b[0;31m             \u001b[0;32mraise\u001b[0m \u001b[0mValueError\u001b[0m\u001b[0;34m(\u001b[0m\u001b[0;34m\"Input contains NaN\"\u001b[0m\u001b[0;34m)\u001b[0m\u001b[0;34m\u001b[0m\u001b[0;34m\u001b[0m\u001b[0m\n\u001b[0m\u001b[1;32m     66\u001b[0m \u001b[0;34m\u001b[0m\u001b[0m\n\u001b[1;32m     67\u001b[0m \u001b[0;34m\u001b[0m\u001b[0m\n",
            "\u001b[0;31mValueError\u001b[0m: Input contains NaN"
          ]
        }
      ]
    },
    {
      "cell_type": "code",
      "metadata": {
        "hidden": true,
        "id": "Oo7fs4Xw3VJu"
      },
      "source": [
        "#train = pd.concat([train.drop(columns = ['Native Continent', 'Marital Status', 'Lives with']), one_hot_var], axis = 1)"
      ],
      "execution_count": null,
      "outputs": []
    },
    {
      "cell_type": "code",
      "metadata": {
        "hidden": true,
        "id": "lssXIGb23VJu"
      },
      "source": [
        "train.columns"
      ],
      "execution_count": null,
      "outputs": []
    },
    {
      "cell_type": "markdown",
      "metadata": {
        "heading_collapsed": true,
        "hidden": true,
        "id": "1c_Y9Jdn3VJu"
      },
      "source": [
        "#### Label Encoding"
      ]
    },
    {
      "cell_type": "code",
      "metadata": {
        "hidden": true,
        "id": "8Vu0jfVz3VJu"
      },
      "source": [
        "import category_encoders as ce\n",
        "import pandas as pd\n",
        "train_df=pd.DataFrame({'Degree':['High school','Masters','Diploma','Bachelors','Bachelors','Masters','Phd','High school','High school']})\n",
        "\n",
        "# create object of Ordinalencoding\n",
        "encoder= ce.OrdinalEncoder(cols=['Degree'],return_df=True,\n",
        "                           mapping=[{'col':'Degree',\n",
        "'mapping':{'None':0,'High school':1,'Diploma':2,'Bachelors':3,'Masters':4,'phd':5}}])\n",
        "\n",
        "#Original data\n",
        "train_df\n",
        "\n",
        "#fit and transform train data \n",
        "df_train_transformed = encoder.fit_transform(train_df)"
      ],
      "execution_count": null,
      "outputs": []
    },
    {
      "cell_type": "code",
      "metadata": {
        "hidden": true,
        "id": "xss1Fe7q3VJu"
      },
      "source": [
        ""
      ],
      "execution_count": null,
      "outputs": []
    },
    {
      "cell_type": "code",
      "metadata": {
        "hidden": true,
        "id": "UeOw10Nd3VJt"
      },
      "source": [
        ""
      ],
      "execution_count": null,
      "outputs": []
    },
    {
      "cell_type": "code",
      "metadata": {
        "id": "J81NDFYaJbS6"
      },
      "source": [
        ""
      ],
      "execution_count": null,
      "outputs": []
    }
  ]
}