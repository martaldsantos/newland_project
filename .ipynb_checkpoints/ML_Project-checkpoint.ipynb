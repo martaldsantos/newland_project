{
 "cells": [
  {
   "cell_type": "markdown",
   "metadata": {},
   "source": [
    "## Machine Learning Project"
   ]
  },
  {
   "cell_type": "markdown",
   "metadata": {},
   "source": [
    "### Importing the Libraries and Packages"
   ]
  },
  {
   "cell_type": "code",
   "execution_count": 104,
   "metadata": {
    "ExecuteTime": {
     "end_time": "2020-11-24T12:03:25.820833Z",
     "start_time": "2020-11-24T12:03:25.790560Z"
    }
   },
   "outputs": [],
   "source": [
    "import pandas as pd\n",
    "import datetime\n",
    "import numpy as np\n",
    "import scipy as sc\n",
    "import pandas as pd\n",
    "import matplotlib.pyplot as plt\n",
    "from matplotlib import style\n",
    "import seaborn as sns\n",
    "from math import ceil\n",
    "from pandas_profiling import ProfileReport\n",
    "import scipy.cluster.hierarchy as shc\n",
    "from sklearn import datasets\n",
    "from sklearn.feature_selection import VarianceThreshold\n",
    "\n",
    "# for better resolution plots\n",
    "%config InlineBackend.figure_format = 'retina' # optionally, you can change 'svg' to 'retina'\n",
    "\n",
    "\n",
    "import warnings\n",
    "warnings.filterwarnings(\"ignore\")"
   ]
  },
  {
   "cell_type": "markdown",
   "metadata": {},
   "source": [
    "### Some Functions that we are going to use"
   ]
  },
  {
   "cell_type": "code",
   "execution_count": 122,
   "metadata": {
    "ExecuteTime": {
     "end_time": "2020-11-24T12:21:27.252985Z",
     "start_time": "2020-11-24T12:21:27.232206Z"
    }
   },
   "outputs": [],
   "source": [
    "def questionmark_to_nan(series):\n",
    "    '''\n",
    "    This function turns a binary variable with values ' ' or B in to 0 or 1\n",
    "    It needs as input the dataframe and the column name \n",
    "    (column name needs to be between '')\n",
    "    '''\n",
    "    series = series.map(lambda x: np.nan if x == '?' else x)\n",
    "    return series\n",
    "\n",
    "def from_object_to_datetime(series):\n",
    "    series = pd.to_datetime(series, infer_datetime_format=True)\n",
    "    return series\n",
    "\n",
    "def longmonth_to_number(df, name):\n",
    "    conditions = [(train[\"MOB\"]== \"January\"), (train[\"MOB\"]== \"February\"), (train[\"MOB\"]== \"March\"), (train[\"MOB\"]== \"April\"), \n",
    "                 (train[\"MOB\"]== \"May\"),(train[\"MOB\"]== \"June\"), (train[\"MOB\"]== \"July\"), (train[\"MOB\"]== \"August\"), (train[\"MOB\"]== \"September\")\n",
    "                 (train[\"MOB\"]== \"October\"),(train[\"MOB\"]== \"November\"),(train[\"MOB\"]== \"December\")]\n",
    "    choices = [1,2,3,4,5,6,7,8,9,10,11,12]\n",
    "    train[\"MOB\"] = np.select(conditions, choices, default=np.nan)\n",
    "    return train[\"MOB\"]"
   ]
  },
  {
   "cell_type": "code",
   "execution_count": 4,
   "metadata": {
    "ExecuteTime": {
     "end_time": "2020-11-24T11:15:28.920836Z",
     "start_time": "2020-11-24T11:15:25.167658Z"
    }
   },
   "outputs": [],
   "source": [
    "train = pd.read_excel(\"Train.xlsx\")\n",
    "test = pd.read_excel(\"Test.xlsx\")"
   ]
  },
  {
   "cell_type": "code",
   "execution_count": 124,
   "metadata": {
    "ExecuteTime": {
     "end_time": "2020-11-24T12:34:30.474435Z",
     "start_time": "2020-11-24T12:34:30.430256Z"
    },
    "scrolled": true
   },
   "outputs": [
    {
     "name": "stdout",
     "output_type": "stream",
     "text": [
      "<class 'pandas.core.frame.DataFrame'>\n",
      "RangeIndex: 22400 entries, 0 to 22399\n",
      "Data columns (total 19 columns):\n",
      " #   Column                  Non-Null Count  Dtype \n",
      "---  ------                  --------------  ----- \n",
      " 0   CITIZEN_ID              22400 non-null  int64 \n",
      " 1   Name                    22400 non-null  object\n",
      " 2   Birthday                22400 non-null  object\n",
      " 3   Native Continent        22400 non-null  object\n",
      " 4   Marital Status          22400 non-null  object\n",
      " 5   Lives with              22400 non-null  object\n",
      " 6   Base Area               22400 non-null  object\n",
      " 7   Education Level         22400 non-null  object\n",
      " 8   Years of Education      22400 non-null  int64 \n",
      " 9   Employment Sector       22400 non-null  object\n",
      " 10  Role                    22400 non-null  object\n",
      " 11  Working Hours per week  22400 non-null  int64 \n",
      " 12  Money Received          22400 non-null  int64 \n",
      " 13  Ticket Price            22400 non-null  int64 \n",
      " 14  Income                  22400 non-null  int64 \n",
      " 15  MOB                     22400 non-null  object\n",
      " 16  left                    22400 non-null  object\n",
      " 17  YOB                     22400 non-null  object\n",
      " 18  DOB                     22400 non-null  object\n",
      "dtypes: int64(6), object(13)\n",
      "memory usage: 3.2+ MB\n"
     ]
    }
   ],
   "source": [
    "train.info()"
   ]
  },
  {
   "cell_type": "code",
   "execution_count": 123,
   "metadata": {
    "ExecuteTime": {
     "end_time": "2020-11-24T12:22:04.919442Z",
     "start_time": "2020-11-24T12:22:04.880037Z"
    }
   },
   "outputs": [
    {
     "data": {
      "text/html": [
       "<div>\n",
       "<style scoped>\n",
       "    .dataframe tbody tr th:only-of-type {\n",
       "        vertical-align: middle;\n",
       "    }\n",
       "\n",
       "    .dataframe tbody tr th {\n",
       "        vertical-align: top;\n",
       "    }\n",
       "\n",
       "    .dataframe thead th {\n",
       "        text-align: right;\n",
       "    }\n",
       "</style>\n",
       "<table border=\"1\" class=\"dataframe\">\n",
       "  <thead>\n",
       "    <tr style=\"text-align: right;\">\n",
       "      <th></th>\n",
       "      <th>count</th>\n",
       "      <th>mean</th>\n",
       "      <th>std</th>\n",
       "      <th>min</th>\n",
       "      <th>25%</th>\n",
       "      <th>50%</th>\n",
       "      <th>75%</th>\n",
       "      <th>max</th>\n",
       "    </tr>\n",
       "  </thead>\n",
       "  <tbody>\n",
       "    <tr>\n",
       "      <th>CITIZEN_ID</th>\n",
       "      <td>22400.0</td>\n",
       "      <td>23685.500000</td>\n",
       "      <td>6466.467351</td>\n",
       "      <td>12486.0</td>\n",
       "      <td>18085.75</td>\n",
       "      <td>23685.5</td>\n",
       "      <td>29285.25</td>\n",
       "      <td>34885.0</td>\n",
       "    </tr>\n",
       "    <tr>\n",
       "      <th>Years of Education</th>\n",
       "      <td>22400.0</td>\n",
       "      <td>13.173884</td>\n",
       "      <td>2.512451</td>\n",
       "      <td>2.0</td>\n",
       "      <td>12.00</td>\n",
       "      <td>13.0</td>\n",
       "      <td>15.00</td>\n",
       "      <td>21.0</td>\n",
       "    </tr>\n",
       "    <tr>\n",
       "      <th>Working Hours per week</th>\n",
       "      <td>22400.0</td>\n",
       "      <td>40.483795</td>\n",
       "      <td>12.370921</td>\n",
       "      <td>1.0</td>\n",
       "      <td>40.00</td>\n",
       "      <td>40.0</td>\n",
       "      <td>45.00</td>\n",
       "      <td>99.0</td>\n",
       "    </tr>\n",
       "    <tr>\n",
       "      <th>Money Received</th>\n",
       "      <td>22400.0</td>\n",
       "      <td>1324.915357</td>\n",
       "      <td>9227.771813</td>\n",
       "      <td>0.0</td>\n",
       "      <td>0.00</td>\n",
       "      <td>0.0</td>\n",
       "      <td>0.00</td>\n",
       "      <td>122999.0</td>\n",
       "    </tr>\n",
       "    <tr>\n",
       "      <th>Ticket Price</th>\n",
       "      <td>22400.0</td>\n",
       "      <td>109.145313</td>\n",
       "      <td>500.208904</td>\n",
       "      <td>0.0</td>\n",
       "      <td>0.00</td>\n",
       "      <td>0.0</td>\n",
       "      <td>0.00</td>\n",
       "      <td>5358.0</td>\n",
       "    </tr>\n",
       "    <tr>\n",
       "      <th>Income</th>\n",
       "      <td>22400.0</td>\n",
       "      <td>0.237098</td>\n",
       "      <td>0.425313</td>\n",
       "      <td>0.0</td>\n",
       "      <td>0.00</td>\n",
       "      <td>0.0</td>\n",
       "      <td>0.00</td>\n",
       "      <td>1.0</td>\n",
       "    </tr>\n",
       "  </tbody>\n",
       "</table>\n",
       "</div>"
      ],
      "text/plain": [
       "                          count          mean          std      min       25%  \\\n",
       "CITIZEN_ID              22400.0  23685.500000  6466.467351  12486.0  18085.75   \n",
       "Years of Education      22400.0     13.173884     2.512451      2.0     12.00   \n",
       "Working Hours per week  22400.0     40.483795    12.370921      1.0     40.00   \n",
       "Money Received          22400.0   1324.915357  9227.771813      0.0      0.00   \n",
       "Ticket Price            22400.0    109.145313   500.208904      0.0      0.00   \n",
       "Income                  22400.0      0.237098     0.425313      0.0      0.00   \n",
       "\n",
       "                            50%       75%       max  \n",
       "CITIZEN_ID              23685.5  29285.25   34885.0  \n",
       "Years of Education         13.0     15.00      21.0  \n",
       "Working Hours per week     40.0     45.00      99.0  \n",
       "Money Received              0.0      0.00  122999.0  \n",
       "Ticket Price                0.0      0.00    5358.0  \n",
       "Income                      0.0      0.00       1.0  "
      ]
     },
     "execution_count": 123,
     "metadata": {},
     "output_type": "execute_result"
    }
   ],
   "source": [
    "train.describe().T"
   ]
  },
  {
   "cell_type": "markdown",
   "metadata": {},
   "source": [
    "#### Vamos inspect as variáveis que não são numéricas\n"
   ]
  },
  {
   "cell_type": "code",
   "execution_count": 101,
   "metadata": {
    "ExecuteTime": {
     "end_time": "2020-11-24T12:01:31.409897Z",
     "start_time": "2020-11-24T12:01:31.227233Z"
    }
   },
   "outputs": [],
   "source": [
    "#Cleaning of the Data\n",
    "a = train['Birthday'].str.partition(',')\n",
    "train[\"MOB\"] = train['Birthday'].str.partition(' ')[0]\n",
    "train[\"DOB\"] = a[0].str.partition(' ')[2]\n",
    "train[\"YOB\"] = train['Birthday'].str.partition(',')[2]"
   ]
  },
  {
   "cell_type": "code",
   "execution_count": 121,
   "metadata": {
    "ExecuteTime": {
     "end_time": "2020-11-24T12:16:21.334286Z",
     "start_time": "2020-11-24T12:16:21.311598Z"
    }
   },
   "outputs": [
    {
     "data": {
      "text/html": [
       "<div>\n",
       "<style scoped>\n",
       "    .dataframe tbody tr th:only-of-type {\n",
       "        vertical-align: middle;\n",
       "    }\n",
       "\n",
       "    .dataframe tbody tr th {\n",
       "        vertical-align: top;\n",
       "    }\n",
       "\n",
       "    .dataframe thead th {\n",
       "        text-align: right;\n",
       "    }\n",
       "</style>\n",
       "<table border=\"1\" class=\"dataframe\">\n",
       "  <thead>\n",
       "    <tr style=\"text-align: right;\">\n",
       "      <th></th>\n",
       "      <th>DOB</th>\n",
       "      <th>MOB</th>\n",
       "      <th>YOB</th>\n",
       "    </tr>\n",
       "  </thead>\n",
       "  <tbody>\n",
       "    <tr>\n",
       "      <th>0</th>\n",
       "      <td>1</td>\n",
       "      <td>July</td>\n",
       "      <td>2003</td>\n",
       "    </tr>\n",
       "    <tr>\n",
       "      <th>1</th>\n",
       "      <td>25</td>\n",
       "      <td>January</td>\n",
       "      <td>2006</td>\n",
       "    </tr>\n",
       "    <tr>\n",
       "      <th>2</th>\n",
       "      <td>10</td>\n",
       "      <td>May</td>\n",
       "      <td>2009</td>\n",
       "    </tr>\n",
       "    <tr>\n",
       "      <th>3</th>\n",
       "      <td>25</td>\n",
       "      <td>March</td>\n",
       "      <td>1985</td>\n",
       "    </tr>\n",
       "    <tr>\n",
       "      <th>4</th>\n",
       "      <td>29</td>\n",
       "      <td>May</td>\n",
       "      <td>2015</td>\n",
       "    </tr>\n",
       "    <tr>\n",
       "      <th>...</th>\n",
       "      <td>...</td>\n",
       "      <td>...</td>\n",
       "      <td>...</td>\n",
       "    </tr>\n",
       "    <tr>\n",
       "      <th>22395</th>\n",
       "      <td>15</td>\n",
       "      <td>March</td>\n",
       "      <td>2023</td>\n",
       "    </tr>\n",
       "    <tr>\n",
       "      <th>22396</th>\n",
       "      <td>7</td>\n",
       "      <td>March</td>\n",
       "      <td>2025</td>\n",
       "    </tr>\n",
       "    <tr>\n",
       "      <th>22397</th>\n",
       "      <td>20</td>\n",
       "      <td>July</td>\n",
       "      <td>2022</td>\n",
       "    </tr>\n",
       "    <tr>\n",
       "      <th>22398</th>\n",
       "      <td>11</td>\n",
       "      <td>June</td>\n",
       "      <td>2011</td>\n",
       "    </tr>\n",
       "    <tr>\n",
       "      <th>22399</th>\n",
       "      <td>2</td>\n",
       "      <td>October</td>\n",
       "      <td>2026</td>\n",
       "    </tr>\n",
       "  </tbody>\n",
       "</table>\n",
       "<p>22400 rows × 3 columns</p>\n",
       "</div>"
      ],
      "text/plain": [
       "      DOB      MOB   YOB\n",
       "0       1     July  2003\n",
       "1      25  January  2006\n",
       "2      10      May  2009\n",
       "3      25    March  1985\n",
       "4      29      May  2015\n",
       "...    ..      ...   ...\n",
       "22395  15    March  2023\n",
       "22396   7    March  2025\n",
       "22397  20     July  2022\n",
       "22398  11     June  2011\n",
       "22399   2  October  2026\n",
       "\n",
       "[22400 rows x 3 columns]"
      ]
     },
     "execution_count": 121,
     "metadata": {},
     "output_type": "execute_result"
    }
   ],
   "source": [
    "train[[\"DOB\",\"MOB\",\"YOB\"]]"
   ]
  },
  {
   "cell_type": "code",
   "execution_count": 9,
   "metadata": {
    "ExecuteTime": {
     "end_time": "2020-11-24T11:17:37.475714Z",
     "start_time": "2020-11-24T11:17:37.462241Z"
    }
   },
   "outputs": [
    {
     "data": {
      "text/plain": [
       "Europe     19111\n",
       "Africa      2187\n",
       "Asia         699\n",
       "America      219\n",
       "Oceania      184\n",
       "Name: Native Continent, dtype: int64"
      ]
     },
     "execution_count": 9,
     "metadata": {},
     "output_type": "execute_result"
    }
   ],
   "source": [
    "train['Native Continent'].value_counts()"
   ]
  },
  {
   "cell_type": "code",
   "execution_count": 10,
   "metadata": {
    "ExecuteTime": {
     "end_time": "2020-11-24T11:17:56.362760Z",
     "start_time": "2020-11-24T11:17:56.353820Z"
    }
   },
   "outputs": [
    {
     "data": {
      "text/plain": [
       "Married                         10219\n",
       "Single                           7416\n",
       "Divorced                         3072\n",
       "Separated                         699\n",
       "Widow                             696\n",
       "Married - Spouse Missing          284\n",
       "Married - Spouse in the Army       14\n",
       "Name: Marital Status, dtype: int64"
      ]
     },
     "execution_count": 10,
     "metadata": {},
     "output_type": "execute_result"
    }
   ],
   "source": [
    "train['Marital Status'].value_counts()"
   ]
  },
  {
   "cell_type": "code",
   "execution_count": 12,
   "metadata": {
    "ExecuteTime": {
     "end_time": "2020-11-24T11:18:21.793518Z",
     "start_time": "2020-11-24T11:18:21.778374Z"
    }
   },
   "outputs": [
    {
     "data": {
      "text/plain": [
       "Wife               9012\n",
       "Other Family       5777\n",
       "Children           3519\n",
       "Alone              2362\n",
       "Husband            1049\n",
       "Other relatives     681\n",
       "Name: Lives with, dtype: int64"
      ]
     },
     "execution_count": 12,
     "metadata": {},
     "output_type": "execute_result"
    }
   ],
   "source": [
    "train['Lives with'].value_counts()"
   ]
  },
  {
   "cell_type": "code",
   "execution_count": 13,
   "metadata": {
    "ExecuteTime": {
     "end_time": "2020-11-24T11:18:50.008124Z",
     "start_time": "2020-11-24T11:18:49.980502Z"
    }
   },
   "outputs": [
    {
     "data": {
      "text/plain": [
       "Northbury        20074\n",
       "Fanfoss            443\n",
       "?                  395\n",
       "Alverton           135\n",
       "Butterpond          96\n",
       "Watford             83\n",
       "Auchenshuggle       80\n",
       "Pran                77\n",
       "Sharnwick           70\n",
       "Aroonshire          64\n",
       "Laewaes             63\n",
       "Fool's March        59\n",
       "Eelry               56\n",
       "Wigston             56\n",
       "Sharpton            54\n",
       "Lanercost           52\n",
       "Cherrytown          51\n",
       "Aerilon             45\n",
       "King's Watch        44\n",
       "Bellmoral           40\n",
       "Kirkwall            40\n",
       "Knife's Edge        37\n",
       "Laenteglos          32\n",
       "Tranmere            30\n",
       "Drumchapel          25\n",
       "Aberuthven          23\n",
       "Orilon              22\n",
       "Kald                19\n",
       "Carlisle            18\n",
       "MillerVille         17\n",
       "Willesden           16\n",
       "Lewes               16\n",
       "Conriston           12\n",
       "Marnmouth           11\n",
       "Middlesbrough       10\n",
       "Mensfield            9\n",
       "Woodpine             9\n",
       "Bellenau             8\n",
       "Redwick Bush         8\n",
       "Ironforge            1\n",
       "Name: Base Area, dtype: int64"
      ]
     },
     "execution_count": 13,
     "metadata": {},
     "output_type": "execute_result"
    }
   ],
   "source": [
    "train['Base Area'].value_counts()"
   ]
  },
  {
   "cell_type": "code",
   "execution_count": 14,
   "metadata": {
    "ExecuteTime": {
     "end_time": "2020-11-24T11:19:06.062528Z",
     "start_time": "2020-11-24T11:19:06.049563Z"
    }
   },
   "outputs": [
    {
     "data": {
      "text/plain": [
       "Professional School                     7232\n",
       "High School + PostGraduation            4994\n",
       "Bachelors + PostGraduation              3696\n",
       "Masters                                 1193\n",
       "Professional School + PostGraduation     953\n",
       "High School - 2nd Cycle                  809\n",
       "Bachelors                                735\n",
       "High School - 1st Cycle                  649\n",
       "Middle School - 2nd Cycle                432\n",
       "Masters + PostGraduation                 397\n",
       "Middle School Complete                   342\n",
       "PhD                                      289\n",
       "High School Complete                     287\n",
       "Middle School - 1st Cycle                237\n",
       "Primary School                           122\n",
       "Preschool                                 33\n",
       "Name: Education Level, dtype: int64"
      ]
     },
     "execution_count": 14,
     "metadata": {},
     "output_type": "execute_result"
    }
   ],
   "source": [
    "train['Education Level'].value_counts()"
   ]
  },
  {
   "cell_type": "code",
   "execution_count": 15,
   "metadata": {
    "ExecuteTime": {
     "end_time": "2020-11-24T11:19:20.467050Z",
     "start_time": "2020-11-24T11:19:20.457072Z"
    }
   },
   "outputs": [
    {
     "data": {
      "text/plain": [
       "Private Sector - Services     15599\n",
       "Self-Employed (Individual)     1764\n",
       "Public Sector - Others         1419\n",
       "?                              1264\n",
       "Private Sector - Others         880\n",
       "Self-Employed (Company)         763\n",
       "Public Sector - Government      692\n",
       "Unemployed                       12\n",
       "Never Worked                      7\n",
       "Name: Employment Sector, dtype: int64"
      ]
     },
     "execution_count": 15,
     "metadata": {},
     "output_type": "execute_result"
    }
   ],
   "source": [
    "train['Employment Sector'].value_counts()"
   ]
  },
  {
   "cell_type": "code",
   "execution_count": 16,
   "metadata": {
    "ExecuteTime": {
     "end_time": "2020-11-24T11:19:41.237156Z",
     "start_time": "2020-11-24T11:19:41.215655Z"
    }
   },
   "outputs": [
    {
     "data": {
      "text/plain": [
       "Professor                         2849\n",
       "Management                        2797\n",
       "Repair & constructions            2795\n",
       "Administratives                   2608\n",
       "Sales                             2531\n",
       "Other services                    2287\n",
       "Machine Operators & Inspectors    1384\n",
       "?                                 1271\n",
       "Transports                        1071\n",
       "Cleaners & Handlers                922\n",
       "Agriculture and Fishing            702\n",
       "IT                                 626\n",
       "Security                           450\n",
       "Household Services                 102\n",
       "Army                                 5\n",
       "Name: Role, dtype: int64"
      ]
     },
     "execution_count": 16,
     "metadata": {},
     "output_type": "execute_result"
    }
   ],
   "source": [
    "train['Role'].value_counts()"
   ]
  }
 ],
 "metadata": {
  "kernelspec": {
   "display_name": "Python 3",
   "language": "python",
   "name": "python3"
  },
  "language_info": {
   "codemirror_mode": {
    "name": "ipython",
    "version": 3
   },
   "file_extension": ".py",
   "mimetype": "text/x-python",
   "name": "python",
   "nbconvert_exporter": "python",
   "pygments_lexer": "ipython3",
   "version": "3.8.5"
  },
  "nbTranslate": {
   "displayLangs": [
    "*"
   ],
   "hotkey": "alt-t",
   "langInMainMenu": true,
   "sourceLang": "en",
   "targetLang": "fr",
   "useGoogleTranslate": true
  },
  "varInspector": {
   "cols": {
    "lenName": 16,
    "lenType": 16,
    "lenVar": 40
   },
   "kernels_config": {
    "python": {
     "delete_cmd_postfix": "",
     "delete_cmd_prefix": "del ",
     "library": "var_list.py",
     "varRefreshCmd": "print(var_dic_list())"
    },
    "r": {
     "delete_cmd_postfix": ") ",
     "delete_cmd_prefix": "rm(",
     "library": "var_list.r",
     "varRefreshCmd": "cat(var_dic_list()) "
    }
   },
   "types_to_exclude": [
    "module",
    "function",
    "builtin_function_or_method",
    "instance",
    "_Feature"
   ],
   "window_display": false
  }
 },
 "nbformat": 4,
 "nbformat_minor": 4
}
